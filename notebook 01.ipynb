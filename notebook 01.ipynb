{
 "cells": [
  {
   "cell_type": "code",
   "execution_count": 2,
   "metadata": {},
   "outputs": [],
   "source": [
    "import numpy as np"
   ]
  },
  {
   "cell_type": "code",
   "execution_count": 15,
   "metadata": {},
   "outputs": [],
   "source": [
    "a=np.linspace(1,100,100)"
   ]
  },
  {
   "cell_type": "code",
   "execution_count": 16,
   "metadata": {},
   "outputs": [
    {
     "name": "stdout",
     "output_type": "stream",
     "text": [
      "[  1.   2.   3.   4.   5.   6.   7.   8.   9.  10.  11.  12.  13.  14.\n",
      "  15.  16.  17.  18.  19.  20.  21.  22.  23.  24.  25.  26.  27.  28.\n",
      "  29.  30.  31.  32.  33.  34.  35.  36.  37.  38.  39.  40.  41.  42.\n",
      "  43.  44.  45.  46.  47.  48.  49.  50.  51.  52.  53.  54.  55.  56.\n",
      "  57.  58.  59.  60.  61.  62.  63.  64.  65.  66.  67.  68.  69.  70.\n",
      "  71.  72.  73.  74.  75.  76.  77.  78.  79.  80.  81.  82.  83.  84.\n",
      "  85.  86.  87.  88.  89.  90.  91.  92.  93.  94.  95.  96.  97.  98.\n",
      "  99. 100.]\n"
     ]
    }
   ],
   "source": [
    "print (a)"
   ]
  },
  {
   "cell_type": "code",
   "execution_count": 25,
   "metadata": {},
   "outputs": [],
   "source": [
    "b=a.reshape(10,10)"
   ]
  },
  {
   "cell_type": "code",
   "execution_count": 26,
   "metadata": {},
   "outputs": [
    {
     "name": "stdout",
     "output_type": "stream",
     "text": [
      "[[  1.   2.   3.   4.   5.   6.   7.   8.   9.  10.]\n",
      " [ 11.  12.  13.  14.  15.  16.  17.  18.  19.  20.]\n",
      " [ 21.  22.  23.  24.  25.  26.  27.  28.  29.  30.]\n",
      " [ 31.  32.  33.  34.  35.  36.  37.  38.  39.  40.]\n",
      " [ 41.  42.  43.  44.  45.  46.  47.  48.  49.  50.]\n",
      " [ 51.  52.  53.  54.  55.  56.  57.  58.  59.  60.]\n",
      " [ 61.  62.  63.  64.  65.  66.  67.  68.  69.  70.]\n",
      " [ 71.  72.  73.  74.  75.  76.  77.  78.  79.  80.]\n",
      " [ 81.  82.  83.  84.  85.  86.  87.  88.  89.  90.]\n",
      " [ 91.  92.  93.  94.  95.  96.  97.  98.  99. 100.]]\n"
     ]
    }
   ],
   "source": [
    "print(b)"
   ]
  },
  {
   "cell_type": "code",
   "execution_count": 28,
   "metadata": {},
   "outputs": [
    {
     "data": {
      "text/plain": [
       "5050.0"
      ]
     },
     "execution_count": 28,
     "metadata": {},
     "output_type": "execute_result"
    }
   ],
   "source": [
    "sum(a)"
   ]
  },
  {
   "cell_type": "code",
   "execution_count": 31,
   "metadata": {},
   "outputs": [
    {
     "data": {
      "text/plain": [
       "array([ 55., 155., 255., 355., 455., 555., 655., 755., 855., 955.])"
      ]
     },
     "execution_count": 31,
     "metadata": {},
     "output_type": "execute_result"
    }
   ],
   "source": [
    "b.sum(1)"
   ]
  },
  {
   "cell_type": "code",
   "execution_count": 32,
   "metadata": {},
   "outputs": [
    {
     "data": {
      "text/plain": [
       "array([460., 470., 480., 490., 500., 510., 520., 530., 540., 550.])"
      ]
     },
     "execution_count": 32,
     "metadata": {},
     "output_type": "execute_result"
    }
   ],
   "source": [
    "b.sum(0)"
   ]
  },
  {
   "cell_type": "code",
   "execution_count": 33,
   "metadata": {},
   "outputs": [],
   "source": [
    "cov = np.array([[1,10,11],\n",
    "                [10,1,12],\n",
    "                [13,11,1]])"
   ]
  },
  {
   "cell_type": "code",
   "execution_count": 232,
   "metadata": {},
   "outputs": [],
   "source": [
    "def mat_c(cov):\n",
    "    cov_shape = cov.shape\n",
    "    C_shape = (cov_shape[0]+1, cov.shape[1]+1)\n",
    "    C = np.ones(C_shape)\n",
    "    C[C_shape[0]-1,C_shape[1]-1] = 0\n",
    "    C[:-1,:-1] = cov\n",
    "    return C"
   ]
  },
  {
   "cell_type": "code",
   "execution_count": 233,
   "metadata": {},
   "outputs": [
    {
     "data": {
      "text/plain": [
       "array([[ 1., 10., 11.,  1.],\n",
       "       [10.,  1., 12.,  1.],\n",
       "       [13., 11.,  1.,  1.],\n",
       "       [ 1.,  1.,  1.,  0.]])"
      ]
     },
     "execution_count": 233,
     "metadata": {},
     "output_type": "execute_result"
    }
   ],
   "source": [
    "mat_c(cov)"
   ]
  },
  {
   "cell_type": "code",
   "execution_count": 234,
   "metadata": {},
   "outputs": [],
   "source": [
    "C = mat_c(cov)"
   ]
  },
  {
   "cell_type": "code",
   "execution_count": 235,
   "metadata": {},
   "outputs": [
    {
     "data": {
      "text/plain": [
       "array([[ 1., 10., 11.,  1.],\n",
       "       [10.,  1., 12.,  1.],\n",
       "       [13., 11.,  1.,  1.],\n",
       "       [ 1.,  1.,  1.,  0.]])"
      ]
     },
     "execution_count": 235,
     "metadata": {},
     "output_type": "execute_result"
    }
   ],
   "source": [
    "C"
   ]
  },
  {
   "cell_type": "code",
   "execution_count": 236,
   "metadata": {},
   "outputs": [
    {
     "name": "stdout",
     "output_type": "stream",
     "text": [
      "elemento 0 eh [ 1. 10. 11.  1.]\n",
      "elemento 1 eh [10.  1. 12.  1.]\n",
      "elemento 2 eh [13. 11.  1.  1.]\n",
      "elemento 3 eh [1. 1. 1. 0.]\n"
     ]
    }
   ],
   "source": [
    "for n, i in enumerate(C):\n",
    "    print('elemento', n, 'eh', i)"
   ]
  },
  {
   "cell_type": "code",
   "execution_count": 237,
   "metadata": {},
   "outputs": [],
   "source": [
    "d=np.linspace(1,10,10)"
   ]
  },
  {
   "cell_type": "code",
   "execution_count": 238,
   "metadata": {},
   "outputs": [
    {
     "data": {
      "text/plain": [
       "array([ 1.,  2.,  3.,  4.,  5.,  6.,  7.,  8.,  9., 10.])"
      ]
     },
     "execution_count": 238,
     "metadata": {},
     "output_type": "execute_result"
    }
   ],
   "source": [
    "d"
   ]
  },
  {
   "cell_type": "code",
   "execution_count": 239,
   "metadata": {},
   "outputs": [],
   "source": [
    "e=np.linspace(11,20,10)"
   ]
  },
  {
   "cell_type": "code",
   "execution_count": 69,
   "metadata": {},
   "outputs": [
    {
     "data": {
      "text/plain": [
       "array([11., 12., 13., 14., 15., 16., 17., 18., 19., 20.])"
      ]
     },
     "execution_count": 69,
     "metadata": {},
     "output_type": "execute_result"
    }
   ],
   "source": [
    "e"
   ]
  },
  {
   "cell_type": "code",
   "execution_count": 74,
   "metadata": {},
   "outputs": [],
   "source": [
    "f = np.stack((d,e),1)"
   ]
  },
  {
   "cell_type": "code",
   "execution_count": 75,
   "metadata": {},
   "outputs": [
    {
     "data": {
      "text/plain": [
       "array([[ 1., 11.],\n",
       "       [ 2., 12.],\n",
       "       [ 3., 13.],\n",
       "       [ 4., 14.],\n",
       "       [ 5., 15.],\n",
       "       [ 6., 16.],\n",
       "       [ 7., 17.],\n",
       "       [ 8., 18.],\n",
       "       [ 9., 19.],\n",
       "       [10., 20.]])"
      ]
     },
     "execution_count": 75,
     "metadata": {},
     "output_type": "execute_result"
    }
   ],
   "source": [
    "f"
   ]
  },
  {
   "cell_type": "code",
   "execution_count": 86,
   "metadata": {},
   "outputs": [],
   "source": [
    "t=np.append(values=[[0,0]],arr=f)"
   ]
  },
  {
   "cell_type": "code",
   "execution_count": 87,
   "metadata": {},
   "outputs": [
    {
     "data": {
      "text/plain": [
       "array([ 1., 11.,  2., 12.,  3., 13.,  4., 14.,  5., 15.,  6., 16.,  7.,\n",
       "       17.,  8., 18.,  9., 19., 10., 20.,  0.,  0.])"
      ]
     },
     "execution_count": 87,
     "metadata": {},
     "output_type": "execute_result"
    }
   ],
   "source": [
    "t"
   ]
  },
  {
   "cell_type": "code",
   "execution_count": 91,
   "metadata": {},
   "outputs": [],
   "source": [
    "w=t.reshape(11,2)"
   ]
  },
  {
   "cell_type": "code",
   "execution_count": 96,
   "metadata": {},
   "outputs": [
    {
     "data": {
      "text/plain": [
       "array([[ 1., 11.],\n",
       "       [ 2., 12.],\n",
       "       [ 3., 13.],\n",
       "       [ 4., 14.],\n",
       "       [ 5., 15.],\n",
       "       [ 6., 16.],\n",
       "       [ 7., 17.],\n",
       "       [ 8., 18.],\n",
       "       [ 9., 19.],\n",
       "       [10., 20.],\n",
       "       [ 0.,  0.]])"
      ]
     },
     "execution_count": 96,
     "metadata": {},
     "output_type": "execute_result"
    }
   ],
   "source": [
    "w"
   ]
  },
  {
   "cell_type": "code",
   "execution_count": 97,
   "metadata": {},
   "outputs": [],
   "source": [
    "u=w"
   ]
  },
  {
   "cell_type": "code",
   "execution_count": 100,
   "metadata": {},
   "outputs": [
    {
     "data": {
      "text/plain": [
       "array([[ 1., 11.],\n",
       "       [ 2., 12.],\n",
       "       [ 3., 13.],\n",
       "       [ 4., 14.],\n",
       "       [ 5., 15.],\n",
       "       [ 6., 16.],\n",
       "       [ 7., 17.],\n",
       "       [ 8., 18.],\n",
       "       [ 9., 19.],\n",
       "       [10., 20.],\n",
       "       [ 0.,  0.]])"
      ]
     },
     "execution_count": 100,
     "metadata": {},
     "output_type": "execute_result"
    }
   ],
   "source": [
    "u"
   ]
  },
  {
   "cell_type": "code",
   "execution_count": 110,
   "metadata": {},
   "outputs": [],
   "source": [
    "k=np.insert(u,(2,2),1)"
   ]
  },
  {
   "cell_type": "code",
   "execution_count": 111,
   "metadata": {},
   "outputs": [
    {
     "data": {
      "text/plain": [
       "array([ 1., 11.,  1.,  1.,  2., 12.,  3., 13.,  4., 14.,  5., 15.,  6.,\n",
       "       16.,  7., 17.,  8., 18.,  9., 19., 10., 20.,  0.,  0.])"
      ]
     },
     "execution_count": 111,
     "metadata": {},
     "output_type": "execute_result"
    }
   ],
   "source": [
    "k"
   ]
  },
  {
   "cell_type": "code",
   "execution_count": 113,
   "metadata": {},
   "outputs": [],
   "source": [
    "n=k.reshape(12,2)"
   ]
  },
  {
   "cell_type": "code",
   "execution_count": 114,
   "metadata": {},
   "outputs": [
    {
     "data": {
      "text/plain": [
       "array([[ 1., 11.],\n",
       "       [ 1.,  1.],\n",
       "       [ 2., 12.],\n",
       "       [ 3., 13.],\n",
       "       [ 4., 14.],\n",
       "       [ 5., 15.],\n",
       "       [ 6., 16.],\n",
       "       [ 7., 17.],\n",
       "       [ 8., 18.],\n",
       "       [ 9., 19.],\n",
       "       [10., 20.],\n",
       "       [ 0.,  0.]])"
      ]
     },
     "execution_count": 114,
     "metadata": {},
     "output_type": "execute_result"
    }
   ],
   "source": [
    "n"
   ]
  },
  {
   "cell_type": "code",
   "execution_count": 115,
   "metadata": {},
   "outputs": [],
   "source": [
    "a=np.linspace(1,10,10)"
   ]
  },
  {
   "cell_type": "code",
   "execution_count": 116,
   "metadata": {},
   "outputs": [
    {
     "data": {
      "text/plain": [
       "array([ 1.,  2.,  3.,  4.,  5.,  6.,  7.,  8.,  9., 10.])"
      ]
     },
     "execution_count": 116,
     "metadata": {},
     "output_type": "execute_result"
    }
   ],
   "source": [
    "a"
   ]
  },
  {
   "cell_type": "code",
   "execution_count": 117,
   "metadata": {},
   "outputs": [],
   "source": [
    "l=a*3"
   ]
  },
  {
   "cell_type": "code",
   "execution_count": 118,
   "metadata": {},
   "outputs": [
    {
     "data": {
      "text/plain": [
       "array([ 3.,  6.,  9., 12., 15., 18., 21., 24., 27., 30.])"
      ]
     },
     "execution_count": 118,
     "metadata": {},
     "output_type": "execute_result"
    }
   ],
   "source": [
    "l"
   ]
  },
  {
   "cell_type": "code",
   "execution_count": 119,
   "metadata": {},
   "outputs": [],
   "source": [
    "u=l+3"
   ]
  },
  {
   "cell_type": "code",
   "execution_count": 120,
   "metadata": {},
   "outputs": [
    {
     "data": {
      "text/plain": [
       "array([ 6.,  9., 12., 15., 18., 21., 24., 27., 30., 33.])"
      ]
     },
     "execution_count": 120,
     "metadata": {},
     "output_type": "execute_result"
    }
   ],
   "source": [
    "u"
   ]
  },
  {
   "cell_type": "code",
   "execution_count": 121,
   "metadata": {},
   "outputs": [],
   "source": [
    "x = np.asarray(a)"
   ]
  },
  {
   "cell_type": "code",
   "execution_count": 122,
   "metadata": {},
   "outputs": [
    {
     "data": {
      "text/plain": [
       "array([ 1.,  2.,  3.,  4.,  5.,  6.,  7.,  8.,  9., 10.])"
      ]
     },
     "execution_count": 122,
     "metadata": {},
     "output_type": "execute_result"
    }
   ],
   "source": [
    "x"
   ]
  },
  {
   "cell_type": "code",
   "execution_count": 123,
   "metadata": {},
   "outputs": [
    {
     "data": {
      "text/plain": [
       "numpy.ndarray"
      ]
     },
     "execution_count": 123,
     "metadata": {},
     "output_type": "execute_result"
    }
   ],
   "source": [
    "type(x)"
   ]
  },
  {
   "cell_type": "code",
   "execution_count": 128,
   "metadata": {},
   "outputs": [],
   "source": [
    "jj=[0,1,2,3,4,5,6,7,8,9,10]"
   ]
  },
  {
   "cell_type": "code",
   "execution_count": 129,
   "metadata": {},
   "outputs": [
    {
     "data": {
      "text/plain": [
       "list"
      ]
     },
     "execution_count": 129,
     "metadata": {},
     "output_type": "execute_result"
    }
   ],
   "source": [
    "type(jj)"
   ]
  },
  {
   "cell_type": "code",
   "execution_count": 130,
   "metadata": {},
   "outputs": [],
   "source": [
    "l=jj*3"
   ]
  },
  {
   "cell_type": "code",
   "execution_count": 131,
   "metadata": {},
   "outputs": [
    {
     "data": {
      "text/plain": [
       "[0,\n",
       " 1,\n",
       " 2,\n",
       " 3,\n",
       " 4,\n",
       " 5,\n",
       " 6,\n",
       " 7,\n",
       " 8,\n",
       " 9,\n",
       " 10,\n",
       " 0,\n",
       " 1,\n",
       " 2,\n",
       " 3,\n",
       " 4,\n",
       " 5,\n",
       " 6,\n",
       " 7,\n",
       " 8,\n",
       " 9,\n",
       " 10,\n",
       " 0,\n",
       " 1,\n",
       " 2,\n",
       " 3,\n",
       " 4,\n",
       " 5,\n",
       " 6,\n",
       " 7,\n",
       " 8,\n",
       " 9,\n",
       " 10]"
      ]
     },
     "execution_count": 131,
     "metadata": {},
     "output_type": "execute_result"
    }
   ],
   "source": [
    "l"
   ]
  },
  {
   "cell_type": "code",
   "execution_count": 132,
   "metadata": {},
   "outputs": [
    {
     "ename": "TypeError",
     "evalue": "can only concatenate list (not \"int\") to list",
     "output_type": "error",
     "traceback": [
      "\u001b[1;31m---------------------------------------------------------------------------\u001b[0m",
      "\u001b[1;31mTypeError\u001b[0m                                 Traceback (most recent call last)",
      "\u001b[1;32m<ipython-input-132-02112aa4d400>\u001b[0m in \u001b[0;36m<module>\u001b[1;34m\u001b[0m\n\u001b[1;32m----> 1\u001b[1;33m \u001b[0mu\u001b[0m\u001b[1;33m=\u001b[0m\u001b[0ml\u001b[0m\u001b[1;33m+\u001b[0m\u001b[1;36m3\u001b[0m\u001b[1;33m\u001b[0m\u001b[1;33m\u001b[0m\u001b[0m\n\u001b[0m",
      "\u001b[1;31mTypeError\u001b[0m: can only concatenate list (not \"int\") to list"
     ]
    }
   ],
   "source": [
    "u=l+3"
   ]
  },
  {
   "cell_type": "code",
   "execution_count": 133,
   "metadata": {},
   "outputs": [],
   "source": [
    "fe_grades = np.array([50,51,54,56,60,61,52,54,57,61,63,67,90,34,23,45,66,44,33,22])"
   ]
  },
  {
   "cell_type": "code",
   "execution_count": 134,
   "metadata": {},
   "outputs": [
    {
     "data": {
      "text/plain": [
       "20"
      ]
     },
     "execution_count": 134,
     "metadata": {},
     "output_type": "execute_result"
    }
   ],
   "source": [
    "len(fe_grades)"
   ]
  },
  {
   "cell_type": "code",
   "execution_count": 135,
   "metadata": {},
   "outputs": [
    {
     "data": {
      "text/plain": [
       "240.22750000000002"
      ]
     },
     "execution_count": 135,
     "metadata": {},
     "output_type": "execute_result"
    }
   ],
   "source": [
    "np.var(fe_grades)"
   ]
  },
  {
   "cell_type": "code",
   "execution_count": 136,
   "metadata": {},
   "outputs": [
    {
     "data": {
      "text/plain": [
       "52.15"
      ]
     },
     "execution_count": 136,
     "metadata": {},
     "output_type": "execute_result"
    }
   ],
   "source": [
    "np.mean(fe_grades)"
   ]
  },
  {
   "cell_type": "code",
   "execution_count": 142,
   "metadata": {},
   "outputs": [],
   "source": [
    "h = fe_grades > 52"
   ]
  },
  {
   "cell_type": "code",
   "execution_count": 144,
   "metadata": {},
   "outputs": [
    {
     "data": {
      "text/plain": [
       "array([54, 56, 60, 61, 54, 57, 61, 63, 67, 90, 66])"
      ]
     },
     "execution_count": 144,
     "metadata": {},
     "output_type": "execute_result"
    }
   ],
   "source": [
    "fe_grades[h]"
   ]
  },
  {
   "cell_type": "code",
   "execution_count": 145,
   "metadata": {},
   "outputs": [
    {
     "data": {
      "text/plain": [
       "61.4"
      ]
     },
     "execution_count": 145,
     "metadata": {},
     "output_type": "execute_result"
    }
   ],
   "source": [
    "np.percentile(fe_grades,80)"
   ]
  },
  {
   "cell_type": "code",
   "execution_count": 217,
   "metadata": {},
   "outputs": [],
   "source": [
    "def dist(p1,p2):\n",
    "    return np.sqrt((p1[0]-p2[0])**2+(p1[1]-p2[1])**2)"
   ]
  },
  {
   "cell_type": "code",
   "execution_count": 218,
   "metadata": {},
   "outputs": [],
   "source": [
    "def covariance(h):\n",
    "    return np.exp(-(h/18)**2)"
   ]
  },
  {
   "cell_type": "code",
   "execution_count": 240,
   "metadata": {},
   "outputs": [],
   "source": [
    "dist_mat = np.array([[dist((3,10),(3,10)),dist((3,10),(-2,5)),dist((3,10),(4,-5))],\n",
    "                     [dist((3,10),(-2,5)),dist((-2,5),(-2,5)),dist((4,-5),(-2,5))],\n",
    "                     [dist((4,-5),(3,10)),dist((4,-5),(-2,5)),dist((4,-5),(4,-5))]])\n"
   ]
  },
  {
   "cell_type": "code",
   "execution_count": 241,
   "metadata": {},
   "outputs": [],
   "source": [
    "dist_vec = np.array([[dist((3,10),(0,0)),dist((0,0),(-2,5)),dist((0,0),(4,-5))]])"
   ]
  },
  {
   "cell_type": "code",
   "execution_count": 255,
   "metadata": {},
   "outputs": [
    {
     "data": {
      "text/plain": [
       "array([[ 0.        ,  7.07106781, 15.03329638],\n",
       "       [ 7.07106781,  0.        , 11.66190379],\n",
       "       [15.03329638, 11.66190379,  0.        ]])"
      ]
     },
     "execution_count": 255,
     "metadata": {},
     "output_type": "execute_result"
    }
   ],
   "source": [
    "dist_mat"
   ]
  },
  {
   "cell_type": "code",
   "execution_count": 242,
   "metadata": {},
   "outputs": [],
   "source": [
    "cov_mat = covariance(dist_mat)"
   ]
  },
  {
   "cell_type": "code",
   "execution_count": 243,
   "metadata": {},
   "outputs": [],
   "source": [
    "cov_vec = covariance(dist_vec)"
   ]
  },
  {
   "cell_type": "code",
   "execution_count": 256,
   "metadata": {},
   "outputs": [
    {
     "data": {
      "text/plain": [
       "array([[10.44030651,  5.38516481,  6.40312424]])"
      ]
     },
     "execution_count": 256,
     "metadata": {},
     "output_type": "execute_result"
    }
   ],
   "source": [
    "dist_vec"
   ]
  },
  {
   "cell_type": "code",
   "execution_count": 244,
   "metadata": {},
   "outputs": [],
   "source": [
    "C = mat_c(cov_mat)"
   ]
  },
  {
   "cell_type": "code",
   "execution_count": 245,
   "metadata": {},
   "outputs": [
    {
     "data": {
      "text/plain": [
       "array([[1.        , 0.85699689, 0.49781296, 1.        ],\n",
       "       [0.85699689, 1.        , 0.65720907, 1.        ],\n",
       "       [0.49781296, 0.65720907, 1.        , 1.        ],\n",
       "       [1.        , 1.        , 1.        , 0.        ]])"
      ]
     },
     "execution_count": 245,
     "metadata": {},
     "output_type": "execute_result"
    }
   ],
   "source": [
    "C"
   ]
  },
  {
   "cell_type": "code",
   "execution_count": 246,
   "metadata": {},
   "outputs": [],
   "source": [
    "D = np.append(cov_vec,1)"
   ]
  },
  {
   "cell_type": "code",
   "execution_count": 247,
   "metadata": {},
   "outputs": [
    {
     "data": {
      "text/plain": [
       "array([0.7143232 , 0.91438262, 0.88113607, 1.        ])"
      ]
     },
     "execution_count": 247,
     "metadata": {},
     "output_type": "execute_result"
    }
   ],
   "source": [
    "D"
   ]
  },
  {
   "cell_type": "code",
   "execution_count": 248,
   "metadata": {},
   "outputs": [],
   "source": [
    "C_inv = np.linalg.inv(C)"
   ]
  },
  {
   "cell_type": "code",
   "execution_count": 249,
   "metadata": {},
   "outputs": [],
   "source": [
    "w=C_inv@D"
   ]
  },
  {
   "cell_type": "code",
   "execution_count": 250,
   "metadata": {},
   "outputs": [
    {
     "data": {
      "text/plain": [
       "array([-0.17385255,  0.72650347,  0.44734908,  0.04286837])"
      ]
     },
     "execution_count": 250,
     "metadata": {},
     "output_type": "execute_result"
    }
   ],
   "source": [
    "w"
   ]
  },
  {
   "cell_type": "code",
   "execution_count": 253,
   "metadata": {},
   "outputs": [],
   "source": [
    "grade = 53*w[0]+40*w[1]+32*w[2]"
   ]
  },
  {
   "cell_type": "code",
   "execution_count": 254,
   "metadata": {},
   "outputs": [
    {
     "data": {
      "text/plain": [
       "34.16112414714304"
      ]
     },
     "execution_count": 254,
     "metadata": {},
     "output_type": "execute_result"
    }
   ],
   "source": [
    "grade"
   ]
  },
  {
   "cell_type": "code",
   "execution_count": 270,
   "metadata": {},
   "outputs": [],
   "source": [
    "def eleicao(candidatos,votantes):\n",
    "    votos = np.random.choice(candidatos,votantes)\n",
    "    resultado = {}\n",
    "    for c in candidatos:\n",
    "        num_votos = votos.tolist().count(c)\n",
    "        resultado[c] = num_votos\n",
    "    print(votos)"
   ]
  },
  {
   "cell_type": "code",
   "execution_count": 271,
   "metadata": {},
   "outputs": [],
   "source": [
    "candidatos=['led','pink','acdc','stones','deep']\n",
    "n=10000"
   ]
  },
  {
   "cell_type": "code",
   "execution_count": 274,
   "metadata": {},
   "outputs": [
    {
     "name": "stdout",
     "output_type": "stream",
     "text": [
      "['led' 'acdc' 'stones' ... 'led' 'deep' 'stones']\n"
     ]
    },
    {
     "ename": "TypeError",
     "evalue": "object of type 'NoneType' has no len()",
     "output_type": "error",
     "traceback": [
      "\u001b[1;31m---------------------------------------------------------------------------\u001b[0m",
      "\u001b[1;31mTypeError\u001b[0m                                 Traceback (most recent call last)",
      "\u001b[1;32m<ipython-input-274-8db29bb933e8>\u001b[0m in \u001b[0;36m<module>\u001b[1;34m\u001b[0m\n\u001b[1;32m----> 1\u001b[1;33m \u001b[0mlen\u001b[0m\u001b[1;33m(\u001b[0m\u001b[0meleicao\u001b[0m\u001b[1;33m(\u001b[0m\u001b[0mcandidatos\u001b[0m\u001b[1;33m,\u001b[0m\u001b[0mn\u001b[0m\u001b[1;33m)\u001b[0m\u001b[1;33m)\u001b[0m\u001b[1;33m\u001b[0m\u001b[1;33m\u001b[0m\u001b[0m\n\u001b[0m",
      "\u001b[1;31mTypeError\u001b[0m: object of type 'NoneType' has no len()"
     ]
    }
   ],
   "source": [
    "len(eleicao(candidatos,n))"
   ]
  },
  {
   "cell_type": "code",
   "execution_count": 276,
   "metadata": {},
   "outputs": [],
   "source": [
    "import itertools"
   ]
  },
  {
   "cell_type": "code",
   "execution_count": 354,
   "metadata": {},
   "outputs": [],
   "source": [
    "b=np.linspace(1,300,300)"
   ]
  },
  {
   "cell_type": "code",
   "execution_count": 355,
   "metadata": {},
   "outputs": [
    {
     "data": {
      "text/plain": [
       "array([  1.,   2.,   3.,   4.,   5.,   6.,   7.,   8.,   9.,  10.,  11.,\n",
       "        12.,  13.,  14.,  15.,  16.,  17.,  18.,  19.,  20.,  21.,  22.,\n",
       "        23.,  24.,  25.,  26.,  27.,  28.,  29.,  30.,  31.,  32.,  33.,\n",
       "        34.,  35.,  36.,  37.,  38.,  39.,  40.,  41.,  42.,  43.,  44.,\n",
       "        45.,  46.,  47.,  48.,  49.,  50.,  51.,  52.,  53.,  54.,  55.,\n",
       "        56.,  57.,  58.,  59.,  60.,  61.,  62.,  63.,  64.,  65.,  66.,\n",
       "        67.,  68.,  69.,  70.,  71.,  72.,  73.,  74.,  75.,  76.,  77.,\n",
       "        78.,  79.,  80.,  81.,  82.,  83.,  84.,  85.,  86.,  87.,  88.,\n",
       "        89.,  90.,  91.,  92.,  93.,  94.,  95.,  96.,  97.,  98.,  99.,\n",
       "       100., 101., 102., 103., 104., 105., 106., 107., 108., 109., 110.,\n",
       "       111., 112., 113., 114., 115., 116., 117., 118., 119., 120., 121.,\n",
       "       122., 123., 124., 125., 126., 127., 128., 129., 130., 131., 132.,\n",
       "       133., 134., 135., 136., 137., 138., 139., 140., 141., 142., 143.,\n",
       "       144., 145., 146., 147., 148., 149., 150., 151., 152., 153., 154.,\n",
       "       155., 156., 157., 158., 159., 160., 161., 162., 163., 164., 165.,\n",
       "       166., 167., 168., 169., 170., 171., 172., 173., 174., 175., 176.,\n",
       "       177., 178., 179., 180., 181., 182., 183., 184., 185., 186., 187.,\n",
       "       188., 189., 190., 191., 192., 193., 194., 195., 196., 197., 198.,\n",
       "       199., 200., 201., 202., 203., 204., 205., 206., 207., 208., 209.,\n",
       "       210., 211., 212., 213., 214., 215., 216., 217., 218., 219., 220.,\n",
       "       221., 222., 223., 224., 225., 226., 227., 228., 229., 230., 231.,\n",
       "       232., 233., 234., 235., 236., 237., 238., 239., 240., 241., 242.,\n",
       "       243., 244., 245., 246., 247., 248., 249., 250., 251., 252., 253.,\n",
       "       254., 255., 256., 257., 258., 259., 260., 261., 262., 263., 264.,\n",
       "       265., 266., 267., 268., 269., 270., 271., 272., 273., 274., 275.,\n",
       "       276., 277., 278., 279., 280., 281., 282., 283., 284., 285., 286.,\n",
       "       287., 288., 289., 290., 291., 292., 293., 294., 295., 296., 297.,\n",
       "       298., 299., 300.])"
      ]
     },
     "execution_count": 355,
     "metadata": {},
     "output_type": "execute_result"
    }
   ],
   "source": [
    "b"
   ]
  },
  {
   "cell_type": "code",
   "execution_count": 356,
   "metadata": {},
   "outputs": [],
   "source": [
    "o=b.reshape(100,3)"
   ]
  },
  {
   "cell_type": "code",
   "execution_count": 357,
   "metadata": {},
   "outputs": [
    {
     "data": {
      "text/plain": [
       "array([[  1.,   2.,   3.],\n",
       "       [  4.,   5.,   6.],\n",
       "       [  7.,   8.,   9.],\n",
       "       [ 10.,  11.,  12.],\n",
       "       [ 13.,  14.,  15.],\n",
       "       [ 16.,  17.,  18.],\n",
       "       [ 19.,  20.,  21.],\n",
       "       [ 22.,  23.,  24.],\n",
       "       [ 25.,  26.,  27.],\n",
       "       [ 28.,  29.,  30.],\n",
       "       [ 31.,  32.,  33.],\n",
       "       [ 34.,  35.,  36.],\n",
       "       [ 37.,  38.,  39.],\n",
       "       [ 40.,  41.,  42.],\n",
       "       [ 43.,  44.,  45.],\n",
       "       [ 46.,  47.,  48.],\n",
       "       [ 49.,  50.,  51.],\n",
       "       [ 52.,  53.,  54.],\n",
       "       [ 55.,  56.,  57.],\n",
       "       [ 58.,  59.,  60.],\n",
       "       [ 61.,  62.,  63.],\n",
       "       [ 64.,  65.,  66.],\n",
       "       [ 67.,  68.,  69.],\n",
       "       [ 70.,  71.,  72.],\n",
       "       [ 73.,  74.,  75.],\n",
       "       [ 76.,  77.,  78.],\n",
       "       [ 79.,  80.,  81.],\n",
       "       [ 82.,  83.,  84.],\n",
       "       [ 85.,  86.,  87.],\n",
       "       [ 88.,  89.,  90.],\n",
       "       [ 91.,  92.,  93.],\n",
       "       [ 94.,  95.,  96.],\n",
       "       [ 97.,  98.,  99.],\n",
       "       [100., 101., 102.],\n",
       "       [103., 104., 105.],\n",
       "       [106., 107., 108.],\n",
       "       [109., 110., 111.],\n",
       "       [112., 113., 114.],\n",
       "       [115., 116., 117.],\n",
       "       [118., 119., 120.],\n",
       "       [121., 122., 123.],\n",
       "       [124., 125., 126.],\n",
       "       [127., 128., 129.],\n",
       "       [130., 131., 132.],\n",
       "       [133., 134., 135.],\n",
       "       [136., 137., 138.],\n",
       "       [139., 140., 141.],\n",
       "       [142., 143., 144.],\n",
       "       [145., 146., 147.],\n",
       "       [148., 149., 150.],\n",
       "       [151., 152., 153.],\n",
       "       [154., 155., 156.],\n",
       "       [157., 158., 159.],\n",
       "       [160., 161., 162.],\n",
       "       [163., 164., 165.],\n",
       "       [166., 167., 168.],\n",
       "       [169., 170., 171.],\n",
       "       [172., 173., 174.],\n",
       "       [175., 176., 177.],\n",
       "       [178., 179., 180.],\n",
       "       [181., 182., 183.],\n",
       "       [184., 185., 186.],\n",
       "       [187., 188., 189.],\n",
       "       [190., 191., 192.],\n",
       "       [193., 194., 195.],\n",
       "       [196., 197., 198.],\n",
       "       [199., 200., 201.],\n",
       "       [202., 203., 204.],\n",
       "       [205., 206., 207.],\n",
       "       [208., 209., 210.],\n",
       "       [211., 212., 213.],\n",
       "       [214., 215., 216.],\n",
       "       [217., 218., 219.],\n",
       "       [220., 221., 222.],\n",
       "       [223., 224., 225.],\n",
       "       [226., 227., 228.],\n",
       "       [229., 230., 231.],\n",
       "       [232., 233., 234.],\n",
       "       [235., 236., 237.],\n",
       "       [238., 239., 240.],\n",
       "       [241., 242., 243.],\n",
       "       [244., 245., 246.],\n",
       "       [247., 248., 249.],\n",
       "       [250., 251., 252.],\n",
       "       [253., 254., 255.],\n",
       "       [256., 257., 258.],\n",
       "       [259., 260., 261.],\n",
       "       [262., 263., 264.],\n",
       "       [265., 266., 267.],\n",
       "       [268., 269., 270.],\n",
       "       [271., 272., 273.],\n",
       "       [274., 275., 276.],\n",
       "       [277., 278., 279.],\n",
       "       [280., 281., 282.],\n",
       "       [283., 284., 285.],\n",
       "       [286., 287., 288.],\n",
       "       [289., 290., 291.],\n",
       "       [292., 293., 294.],\n",
       "       [295., 296., 297.],\n",
       "       [298., 299., 300.]])"
      ]
     },
     "execution_count": 357,
     "metadata": {},
     "output_type": "execute_result"
    }
   ],
   "source": [
    "o"
   ]
  },
  {
   "cell_type": "code",
   "execution_count": 358,
   "metadata": {},
   "outputs": [],
   "source": [
    "coords=[]\n",
    "x_range = np.linspace(1,100,10)\n",
    "y_range = np.linspace(1,100,10)\n",
    "\n",
    "for x,y in itertools.product(x_range,y_range):\n",
    "    coords.append([x,y,np.random.random()])\n"
   ]
  },
  {
   "cell_type": "code",
   "execution_count": 359,
   "metadata": {},
   "outputs": [
    {
     "name": "stdout",
     "output_type": "stream",
     "text": [
      "[[1.0, 1.0, 0.6099846322666741], [1.0, 12.0, 0.9535200479935094], [1.0, 23.0, 0.03950559944388954], [1.0, 34.0, 0.9806696099797934], [1.0, 45.0, 0.04393573683101093], [1.0, 56.0, 0.3714004565175516], [1.0, 67.0, 0.9055557685862521], [1.0, 78.0, 0.8926705241073849], [1.0, 89.0, 0.3559229113987188], [1.0, 100.0, 0.6263904133417563], [12.0, 1.0, 0.5894706835283604], [12.0, 12.0, 0.5002373667428959], [12.0, 23.0, 0.632562396541278], [12.0, 34.0, 0.16705350504468297], [12.0, 45.0, 0.7039570308419989], [12.0, 56.0, 0.662831651714769], [12.0, 67.0, 0.10999275840061673], [12.0, 78.0, 0.9797977513447739], [12.0, 89.0, 0.6907517335196667], [12.0, 100.0, 0.2476941331236161], [23.0, 1.0, 0.9419279832028328], [23.0, 12.0, 0.9170806287153768], [23.0, 23.0, 0.8541541296049132], [23.0, 34.0, 0.85335930289357], [23.0, 45.0, 0.21973257160502813], [23.0, 56.0, 0.2979128558843044], [23.0, 67.0, 0.43404541020710574], [23.0, 78.0, 0.10340472928076905], [23.0, 89.0, 0.906399817120954], [23.0, 100.0, 0.5700273082152105], [34.0, 1.0, 0.9231820416641741], [34.0, 12.0, 0.07421982006717864], [34.0, 23.0, 0.12744272513275556], [34.0, 34.0, 0.23506616953562032], [34.0, 45.0, 0.9417707816202989], [34.0, 56.0, 0.884994059509014], [34.0, 67.0, 0.13589168892836068], [34.0, 78.0, 0.7862334280828324], [34.0, 89.0, 0.8046568247195974], [34.0, 100.0, 0.12081352217839925], [45.0, 1.0, 0.6210006535192258], [45.0, 12.0, 0.663424596885998], [45.0, 23.0, 0.03602931998089964], [45.0, 34.0, 0.8822922343780277], [45.0, 45.0, 0.1572926529817249], [45.0, 56.0, 0.6171172916408023], [45.0, 67.0, 0.20130895593575693], [45.0, 78.0, 0.6180910511750465], [45.0, 89.0, 0.23596816186893288], [45.0, 100.0, 0.9668553595897724], [56.0, 1.0, 0.09851025655935708], [56.0, 12.0, 0.2820478889935585], [56.0, 23.0, 0.8410064671110032], [56.0, 34.0, 0.8950418171797793], [56.0, 45.0, 0.7685518700760493], [56.0, 56.0, 0.33723514491427475], [56.0, 67.0, 0.40751592513164636], [56.0, 78.0, 0.7868079977459707], [56.0, 89.0, 0.885994836237488], [56.0, 100.0, 0.48360246952362307], [67.0, 1.0, 0.1551495460665122], [67.0, 12.0, 0.8465089007351237], [67.0, 23.0, 0.4228713197279661], [67.0, 34.0, 0.09549949793962786], [67.0, 45.0, 0.9828428777324333], [67.0, 56.0, 0.06658199028479139], [67.0, 67.0, 0.7550939554892627], [67.0, 78.0, 0.32988169724137917], [67.0, 89.0, 0.5453639662601388], [67.0, 100.0, 0.2514150593382821], [78.0, 1.0, 0.7610745894184684], [78.0, 12.0, 0.3920583372309536], [78.0, 23.0, 0.8786677245944059], [78.0, 34.0, 0.4689369283903281], [78.0, 45.0, 0.37206524878111347], [78.0, 56.0, 0.5218150351808118], [78.0, 67.0, 0.15507840132618], [78.0, 78.0, 0.005015510776823273], [78.0, 89.0, 0.6236596951980362], [78.0, 100.0, 0.7589982314996228], [89.0, 1.0, 0.5440348899904652], [89.0, 12.0, 0.14241725294957752], [89.0, 23.0, 0.5340884101237855], [89.0, 34.0, 0.11893577907447739], [89.0, 45.0, 0.036179956942150815], [89.0, 56.0, 0.7644715882188257], [89.0, 67.0, 0.7071342112669381], [89.0, 78.0, 0.5042632177236493], [89.0, 89.0, 0.4810189951793141], [89.0, 100.0, 0.23598177743257176], [100.0, 1.0, 0.7680874581624196], [100.0, 12.0, 0.48572834056704994], [100.0, 23.0, 0.5370893108048193], [100.0, 34.0, 0.5734422313654826], [100.0, 45.0, 0.9608944888383386], [100.0, 56.0, 0.890174019248603], [100.0, 67.0, 0.34283665830405596], [100.0, 78.0, 0.5752326092898518], [100.0, 89.0, 0.3611320529372978], [100.0, 100.0, 0.23490515492919817]]\n"
     ]
    }
   ],
   "source": [
    "print(coords)"
   ]
  },
  {
   "cell_type": "code",
   "execution_count": 360,
   "metadata": {},
   "outputs": [],
   "source": [
    "p=coords"
   ]
  },
  {
   "cell_type": "code",
   "execution_count": 361,
   "metadata": {},
   "outputs": [
    {
     "data": {
      "text/plain": [
       "list"
      ]
     },
     "execution_count": 361,
     "metadata": {},
     "output_type": "execute_result"
    }
   ],
   "source": [
    "type(p)"
   ]
  },
  {
   "cell_type": "code",
   "execution_count": 362,
   "metadata": {},
   "outputs": [],
   "source": [
    "o=np.asarray(p)"
   ]
  },
  {
   "cell_type": "code",
   "execution_count": 363,
   "metadata": {},
   "outputs": [
    {
     "data": {
      "text/plain": [
       "numpy.ndarray"
      ]
     },
     "execution_count": 363,
     "metadata": {},
     "output_type": "execute_result"
    }
   ],
   "source": [
    "type(o)"
   ]
  },
  {
   "cell_type": "code",
   "execution_count": 364,
   "metadata": {},
   "outputs": [],
   "source": [
    "z=o.reshape(100,3)"
   ]
  },
  {
   "cell_type": "code",
   "execution_count": 365,
   "metadata": {},
   "outputs": [
    {
     "name": "stdout",
     "output_type": "stream",
     "text": [
      "[[1.00000000e+00 1.00000000e+00 6.09984632e-01]\n",
      " [1.00000000e+00 1.20000000e+01 9.53520048e-01]\n",
      " [1.00000000e+00 2.30000000e+01 3.95055994e-02]\n",
      " [1.00000000e+00 3.40000000e+01 9.80669610e-01]\n",
      " [1.00000000e+00 4.50000000e+01 4.39357368e-02]\n",
      " [1.00000000e+00 5.60000000e+01 3.71400457e-01]\n",
      " [1.00000000e+00 6.70000000e+01 9.05555769e-01]\n",
      " [1.00000000e+00 7.80000000e+01 8.92670524e-01]\n",
      " [1.00000000e+00 8.90000000e+01 3.55922911e-01]\n",
      " [1.00000000e+00 1.00000000e+02 6.26390413e-01]\n",
      " [1.20000000e+01 1.00000000e+00 5.89470684e-01]\n",
      " [1.20000000e+01 1.20000000e+01 5.00237367e-01]\n",
      " [1.20000000e+01 2.30000000e+01 6.32562397e-01]\n",
      " [1.20000000e+01 3.40000000e+01 1.67053505e-01]\n",
      " [1.20000000e+01 4.50000000e+01 7.03957031e-01]\n",
      " [1.20000000e+01 5.60000000e+01 6.62831652e-01]\n",
      " [1.20000000e+01 6.70000000e+01 1.09992758e-01]\n",
      " [1.20000000e+01 7.80000000e+01 9.79797751e-01]\n",
      " [1.20000000e+01 8.90000000e+01 6.90751734e-01]\n",
      " [1.20000000e+01 1.00000000e+02 2.47694133e-01]\n",
      " [2.30000000e+01 1.00000000e+00 9.41927983e-01]\n",
      " [2.30000000e+01 1.20000000e+01 9.17080629e-01]\n",
      " [2.30000000e+01 2.30000000e+01 8.54154130e-01]\n",
      " [2.30000000e+01 3.40000000e+01 8.53359303e-01]\n",
      " [2.30000000e+01 4.50000000e+01 2.19732572e-01]\n",
      " [2.30000000e+01 5.60000000e+01 2.97912856e-01]\n",
      " [2.30000000e+01 6.70000000e+01 4.34045410e-01]\n",
      " [2.30000000e+01 7.80000000e+01 1.03404729e-01]\n",
      " [2.30000000e+01 8.90000000e+01 9.06399817e-01]\n",
      " [2.30000000e+01 1.00000000e+02 5.70027308e-01]\n",
      " [3.40000000e+01 1.00000000e+00 9.23182042e-01]\n",
      " [3.40000000e+01 1.20000000e+01 7.42198201e-02]\n",
      " [3.40000000e+01 2.30000000e+01 1.27442725e-01]\n",
      " [3.40000000e+01 3.40000000e+01 2.35066170e-01]\n",
      " [3.40000000e+01 4.50000000e+01 9.41770782e-01]\n",
      " [3.40000000e+01 5.60000000e+01 8.84994060e-01]\n",
      " [3.40000000e+01 6.70000000e+01 1.35891689e-01]\n",
      " [3.40000000e+01 7.80000000e+01 7.86233428e-01]\n",
      " [3.40000000e+01 8.90000000e+01 8.04656825e-01]\n",
      " [3.40000000e+01 1.00000000e+02 1.20813522e-01]\n",
      " [4.50000000e+01 1.00000000e+00 6.21000654e-01]\n",
      " [4.50000000e+01 1.20000000e+01 6.63424597e-01]\n",
      " [4.50000000e+01 2.30000000e+01 3.60293200e-02]\n",
      " [4.50000000e+01 3.40000000e+01 8.82292234e-01]\n",
      " [4.50000000e+01 4.50000000e+01 1.57292653e-01]\n",
      " [4.50000000e+01 5.60000000e+01 6.17117292e-01]\n",
      " [4.50000000e+01 6.70000000e+01 2.01308956e-01]\n",
      " [4.50000000e+01 7.80000000e+01 6.18091051e-01]\n",
      " [4.50000000e+01 8.90000000e+01 2.35968162e-01]\n",
      " [4.50000000e+01 1.00000000e+02 9.66855360e-01]\n",
      " [5.60000000e+01 1.00000000e+00 9.85102566e-02]\n",
      " [5.60000000e+01 1.20000000e+01 2.82047889e-01]\n",
      " [5.60000000e+01 2.30000000e+01 8.41006467e-01]\n",
      " [5.60000000e+01 3.40000000e+01 8.95041817e-01]\n",
      " [5.60000000e+01 4.50000000e+01 7.68551870e-01]\n",
      " [5.60000000e+01 5.60000000e+01 3.37235145e-01]\n",
      " [5.60000000e+01 6.70000000e+01 4.07515925e-01]\n",
      " [5.60000000e+01 7.80000000e+01 7.86807998e-01]\n",
      " [5.60000000e+01 8.90000000e+01 8.85994836e-01]\n",
      " [5.60000000e+01 1.00000000e+02 4.83602470e-01]\n",
      " [6.70000000e+01 1.00000000e+00 1.55149546e-01]\n",
      " [6.70000000e+01 1.20000000e+01 8.46508901e-01]\n",
      " [6.70000000e+01 2.30000000e+01 4.22871320e-01]\n",
      " [6.70000000e+01 3.40000000e+01 9.54994979e-02]\n",
      " [6.70000000e+01 4.50000000e+01 9.82842878e-01]\n",
      " [6.70000000e+01 5.60000000e+01 6.65819903e-02]\n",
      " [6.70000000e+01 6.70000000e+01 7.55093955e-01]\n",
      " [6.70000000e+01 7.80000000e+01 3.29881697e-01]\n",
      " [6.70000000e+01 8.90000000e+01 5.45363966e-01]\n",
      " [6.70000000e+01 1.00000000e+02 2.51415059e-01]\n",
      " [7.80000000e+01 1.00000000e+00 7.61074589e-01]\n",
      " [7.80000000e+01 1.20000000e+01 3.92058337e-01]\n",
      " [7.80000000e+01 2.30000000e+01 8.78667725e-01]\n",
      " [7.80000000e+01 3.40000000e+01 4.68936928e-01]\n",
      " [7.80000000e+01 4.50000000e+01 3.72065249e-01]\n",
      " [7.80000000e+01 5.60000000e+01 5.21815035e-01]\n",
      " [7.80000000e+01 6.70000000e+01 1.55078401e-01]\n",
      " [7.80000000e+01 7.80000000e+01 5.01551078e-03]\n",
      " [7.80000000e+01 8.90000000e+01 6.23659695e-01]\n",
      " [7.80000000e+01 1.00000000e+02 7.58998231e-01]\n",
      " [8.90000000e+01 1.00000000e+00 5.44034890e-01]\n",
      " [8.90000000e+01 1.20000000e+01 1.42417253e-01]\n",
      " [8.90000000e+01 2.30000000e+01 5.34088410e-01]\n",
      " [8.90000000e+01 3.40000000e+01 1.18935779e-01]\n",
      " [8.90000000e+01 4.50000000e+01 3.61799569e-02]\n",
      " [8.90000000e+01 5.60000000e+01 7.64471588e-01]\n",
      " [8.90000000e+01 6.70000000e+01 7.07134211e-01]\n",
      " [8.90000000e+01 7.80000000e+01 5.04263218e-01]\n",
      " [8.90000000e+01 8.90000000e+01 4.81018995e-01]\n",
      " [8.90000000e+01 1.00000000e+02 2.35981777e-01]\n",
      " [1.00000000e+02 1.00000000e+00 7.68087458e-01]\n",
      " [1.00000000e+02 1.20000000e+01 4.85728341e-01]\n",
      " [1.00000000e+02 2.30000000e+01 5.37089311e-01]\n",
      " [1.00000000e+02 3.40000000e+01 5.73442231e-01]\n",
      " [1.00000000e+02 4.50000000e+01 9.60894489e-01]\n",
      " [1.00000000e+02 5.60000000e+01 8.90174019e-01]\n",
      " [1.00000000e+02 6.70000000e+01 3.42836658e-01]\n",
      " [1.00000000e+02 7.80000000e+01 5.75232609e-01]\n",
      " [1.00000000e+02 8.90000000e+01 3.61132053e-01]\n",
      " [1.00000000e+02 1.00000000e+02 2.34905155e-01]]\n"
     ]
    }
   ],
   "source": [
    "print(z)"
   ]
  },
  {
   "cell_type": "code",
   "execution_count": 369,
   "metadata": {},
   "outputs": [],
   "source": [
    "class Grid:\n",
    "    \n",
    "    def __init__(self,nx,ny,nz,ox,oy,oz,sx,sy,sz):\n",
    "       \n",
    "       self.ox = ox\n",
    "       self.oy = oy\n",
    "       self.oz = oz\n",
    "       \n",
    "       self.nx = nx\n",
    "       self.ny = ny\n",
    "       self.nz = nz\n",
    "        \n",
    "       self.sx = sx\n",
    "       self.sy = sy\n",
    "       self.sz = sz\n",
    "    \n",
    "    \n",
    "    def number_of_blocks(self):\n",
    "        \n",
    "        return self.nx*self.ny*self.nz\n",
    "    \n",
    "    \n",
    "    def autogrid(self,coordx,coordy,coordz,sx,sy,sz):\n",
    "    \n",
    "        self.ox=np.min(coordx)\n",
    "        self.oy=np.min(coordy)\n",
    "        self.oz=np.min(coordz)\n",
    "    \n",
    "        self.nx=int(((np.max(coordx)-np.min(coordx))/sx)+1)\n",
    "        self.ny=int(((np.max(coordy)-np.min(coordy))/sy)+1)\n",
    "        self.nz=int(((np.max(coordz)-np.min(coordz))/sz)+1)\n",
    "    \n",
    "        return\n",
    "    "
   ]
  },
  {
   "cell_type": "code",
   "execution_count": 372,
   "metadata": {},
   "outputs": [
    {
     "ename": "NameError",
     "evalue": "name 'coordx' is not defined",
     "output_type": "error",
     "traceback": [
      "\u001b[1;31m---------------------------------------------------------------------------\u001b[0m",
      "\u001b[1;31mNameError\u001b[0m                                 Traceback (most recent call last)",
      "\u001b[1;32m<ipython-input-372-e1aa09a4a512>\u001b[0m in \u001b[0;36m<module>\u001b[1;34m\u001b[0m\n\u001b[1;32m----> 1\u001b[1;33m \u001b[0mtype\u001b[0m\u001b[1;33m(\u001b[0m\u001b[0mcoordx\u001b[0m\u001b[1;33m)\u001b[0m\u001b[1;33m\u001b[0m\u001b[1;33m\u001b[0m\u001b[0m\n\u001b[0m",
      "\u001b[1;31mNameError\u001b[0m: name 'coordx' is not defined"
     ]
    }
   ],
   "source": [
    "estimation_grid=grid(0,0)"
   ]
  },
  {
   "cell_type": "code",
   "execution_count": 373,
   "metadata": {},
   "outputs": [],
   "source": [
    "import matplotlib.pyplot as plt"
   ]
  },
  {
   "cell_type": "code",
   "execution_count": 374,
   "metadata": {},
   "outputs": [],
   "source": [
    "%matplotlib inline"
   ]
  },
  {
   "cell_type": "code",
   "execution_count": 394,
   "metadata": {},
   "outputs": [],
   "source": [
    "x = np.linspace(0,10,100)"
   ]
  },
  {
   "cell_type": "code",
   "execution_count": 396,
   "metadata": {},
   "outputs": [
    {
     "data": {
      "image/png": "[encoded data removed]",
      "text/plain": [
       "<Figure size 432x288 with 1 Axes>"
      ]
     },
     "metadata": {
      "needs_background": "light"
     },
     "output_type": "display_data"
    }
   ],
   "source": [
    "gauss = 1- np.exp(-x**2) if x is not 0 else 0\n",
    "exp = 1- np.exp(-x) if x is not 0 else 0\n",
    "\n",
    "\n",
    "plt.plot(x,gauss)\n",
    "plt.plot(x,exp)\n",
    "plt.xlabel('distance')\n",
    "\n",
    "plt.show()"
   ]
  },
  {
   "cell_type": "code",
   "execution_count": 409,
   "metadata": {},
   "outputs": [],
   "source": [
    "a=np.random.randn(100000)"
   ]
  },
  {
   "cell_type": "code",
   "execution_count": 410,
   "metadata": {},
   "outputs": [
    {
     "data": {
      "image/png": "[encoded data removed]",
      "text/plain": [
       "<Figure size 720x720 with 1 Axes>"
      ]
     },
     "metadata": {
      "needs_background": "light"
     },
     "output_type": "display_data"
    }
   ],
   "source": [
    "dist=a\n",
    "plt.figure(figsize=(10,10))\n",
    "plt.hist(dist,bins=50)\n",
    "plt.title('teste')\n",
    "plt.xlabel('gggg')\n",
    "plt.ylabel('bbbb')\n",
    "plt.show()"
   ]
  },
  {
   "cell_type": "code",
   "execution_count": 411,
   "metadata": {},
   "outputs": [
    {
     "name": "stdout",
     "output_type": "stream",
     "text": [
      "[[1.00000000e+00 1.00000000e+00 6.09984632e-01]\n",
      " [1.00000000e+00 1.20000000e+01 9.53520048e-01]\n",
      " [1.00000000e+00 2.30000000e+01 3.95055994e-02]\n",
      " [1.00000000e+00 3.40000000e+01 9.80669610e-01]\n",
      " [1.00000000e+00 4.50000000e+01 4.39357368e-02]\n",
      " [1.00000000e+00 5.60000000e+01 3.71400457e-01]\n",
      " [1.00000000e+00 6.70000000e+01 9.05555769e-01]\n",
      " [1.00000000e+00 7.80000000e+01 8.92670524e-01]\n",
      " [1.00000000e+00 8.90000000e+01 3.55922911e-01]\n",
      " [1.00000000e+00 1.00000000e+02 6.26390413e-01]\n",
      " [1.20000000e+01 1.00000000e+00 5.89470684e-01]\n",
      " [1.20000000e+01 1.20000000e+01 5.00237367e-01]\n",
      " [1.20000000e+01 2.30000000e+01 6.32562397e-01]\n",
      " [1.20000000e+01 3.40000000e+01 1.67053505e-01]\n",
      " [1.20000000e+01 4.50000000e+01 7.03957031e-01]\n",
      " [1.20000000e+01 5.60000000e+01 6.62831652e-01]\n",
      " [1.20000000e+01 6.70000000e+01 1.09992758e-01]\n",
      " [1.20000000e+01 7.80000000e+01 9.79797751e-01]\n",
      " [1.20000000e+01 8.90000000e+01 6.90751734e-01]\n",
      " [1.20000000e+01 1.00000000e+02 2.47694133e-01]\n",
      " [2.30000000e+01 1.00000000e+00 9.41927983e-01]\n",
      " [2.30000000e+01 1.20000000e+01 9.17080629e-01]\n",
      " [2.30000000e+01 2.30000000e+01 8.54154130e-01]\n",
      " [2.30000000e+01 3.40000000e+01 8.53359303e-01]\n",
      " [2.30000000e+01 4.50000000e+01 2.19732572e-01]\n",
      " [2.30000000e+01 5.60000000e+01 2.97912856e-01]\n",
      " [2.30000000e+01 6.70000000e+01 4.34045410e-01]\n",
      " [2.30000000e+01 7.80000000e+01 1.03404729e-01]\n",
      " [2.30000000e+01 8.90000000e+01 9.06399817e-01]\n",
      " [2.30000000e+01 1.00000000e+02 5.70027308e-01]\n",
      " [3.40000000e+01 1.00000000e+00 9.23182042e-01]\n",
      " [3.40000000e+01 1.20000000e+01 7.42198201e-02]\n",
      " [3.40000000e+01 2.30000000e+01 1.27442725e-01]\n",
      " [3.40000000e+01 3.40000000e+01 2.35066170e-01]\n",
      " [3.40000000e+01 4.50000000e+01 9.41770782e-01]\n",
      " [3.40000000e+01 5.60000000e+01 8.84994060e-01]\n",
      " [3.40000000e+01 6.70000000e+01 1.35891689e-01]\n",
      " [3.40000000e+01 7.80000000e+01 7.86233428e-01]\n",
      " [3.40000000e+01 8.90000000e+01 8.04656825e-01]\n",
      " [3.40000000e+01 1.00000000e+02 1.20813522e-01]\n",
      " [4.50000000e+01 1.00000000e+00 6.21000654e-01]\n",
      " [4.50000000e+01 1.20000000e+01 6.63424597e-01]\n",
      " [4.50000000e+01 2.30000000e+01 3.60293200e-02]\n",
      " [4.50000000e+01 3.40000000e+01 8.82292234e-01]\n",
      " [4.50000000e+01 4.50000000e+01 1.57292653e-01]\n",
      " [4.50000000e+01 5.60000000e+01 6.17117292e-01]\n",
      " [4.50000000e+01 6.70000000e+01 2.01308956e-01]\n",
      " [4.50000000e+01 7.80000000e+01 6.18091051e-01]\n",
      " [4.50000000e+01 8.90000000e+01 2.35968162e-01]\n",
      " [4.50000000e+01 1.00000000e+02 9.66855360e-01]\n",
      " [5.60000000e+01 1.00000000e+00 9.85102566e-02]\n",
      " [5.60000000e+01 1.20000000e+01 2.82047889e-01]\n",
      " [5.60000000e+01 2.30000000e+01 8.41006467e-01]\n",
      " [5.60000000e+01 3.40000000e+01 8.95041817e-01]\n",
      " [5.60000000e+01 4.50000000e+01 7.68551870e-01]\n",
      " [5.60000000e+01 5.60000000e+01 3.37235145e-01]\n",
      " [5.60000000e+01 6.70000000e+01 4.07515925e-01]\n",
      " [5.60000000e+01 7.80000000e+01 7.86807998e-01]\n",
      " [5.60000000e+01 8.90000000e+01 8.85994836e-01]\n",
      " [5.60000000e+01 1.00000000e+02 4.83602470e-01]\n",
      " [6.70000000e+01 1.00000000e+00 1.55149546e-01]\n",
      " [6.70000000e+01 1.20000000e+01 8.46508901e-01]\n",
      " [6.70000000e+01 2.30000000e+01 4.22871320e-01]\n",
      " [6.70000000e+01 3.40000000e+01 9.54994979e-02]\n",
      " [6.70000000e+01 4.50000000e+01 9.82842878e-01]\n",
      " [6.70000000e+01 5.60000000e+01 6.65819903e-02]\n",
      " [6.70000000e+01 6.70000000e+01 7.55093955e-01]\n",
      " [6.70000000e+01 7.80000000e+01 3.29881697e-01]\n",
      " [6.70000000e+01 8.90000000e+01 5.45363966e-01]\n",
      " [6.70000000e+01 1.00000000e+02 2.51415059e-01]\n",
      " [7.80000000e+01 1.00000000e+00 7.61074589e-01]\n",
      " [7.80000000e+01 1.20000000e+01 3.92058337e-01]\n",
      " [7.80000000e+01 2.30000000e+01 8.78667725e-01]\n",
      " [7.80000000e+01 3.40000000e+01 4.68936928e-01]\n",
      " [7.80000000e+01 4.50000000e+01 3.72065249e-01]\n",
      " [7.80000000e+01 5.60000000e+01 5.21815035e-01]\n",
      " [7.80000000e+01 6.70000000e+01 1.55078401e-01]\n",
      " [7.80000000e+01 7.80000000e+01 5.01551078e-03]\n",
      " [7.80000000e+01 8.90000000e+01 6.23659695e-01]\n",
      " [7.80000000e+01 1.00000000e+02 7.58998231e-01]\n",
      " [8.90000000e+01 1.00000000e+00 5.44034890e-01]\n",
      " [8.90000000e+01 1.20000000e+01 1.42417253e-01]\n",
      " [8.90000000e+01 2.30000000e+01 5.34088410e-01]\n",
      " [8.90000000e+01 3.40000000e+01 1.18935779e-01]\n",
      " [8.90000000e+01 4.50000000e+01 3.61799569e-02]\n",
      " [8.90000000e+01 5.60000000e+01 7.64471588e-01]\n",
      " [8.90000000e+01 6.70000000e+01 7.07134211e-01]\n",
      " [8.90000000e+01 7.80000000e+01 5.04263218e-01]\n",
      " [8.90000000e+01 8.90000000e+01 4.81018995e-01]\n",
      " [8.90000000e+01 1.00000000e+02 2.35981777e-01]\n",
      " [1.00000000e+02 1.00000000e+00 7.68087458e-01]\n",
      " [1.00000000e+02 1.20000000e+01 4.85728341e-01]\n",
      " [1.00000000e+02 2.30000000e+01 5.37089311e-01]\n",
      " [1.00000000e+02 3.40000000e+01 5.73442231e-01]\n",
      " [1.00000000e+02 4.50000000e+01 9.60894489e-01]\n",
      " [1.00000000e+02 5.60000000e+01 8.90174019e-01]\n",
      " [1.00000000e+02 6.70000000e+01 3.42836658e-01]\n",
      " [1.00000000e+02 7.80000000e+01 5.75232609e-01]\n",
      " [1.00000000e+02 8.90000000e+01 3.61132053e-01]\n",
      " [1.00000000e+02 1.00000000e+02 2.34905155e-01]]\n"
     ]
    }
   ],
   "source": [
    "print(z)"
   ]
  },
  {
   "cell_type": "code",
   "execution_count": 418,
   "metadata": {},
   "outputs": [
    {
     "name": "stdout",
     "output_type": "stream",
     "text": [
      "[  1.   1.   1.   1.   1.   1.   1.   1.   1.   1.  12.  12.  12.  12.\n",
      "  12.  12.  12.  12.  12.  12.  23.  23.  23.  23.  23.  23.  23.  23.\n",
      "  23.  23.  34.  34.  34.  34.  34.  34.  34.  34.  34.  34.  45.  45.\n",
      "  45.  45.  45.  45.  45.  45.  45.  45.  56.  56.  56.  56.  56.  56.\n",
      "  56.  56.  56.  56.  67.  67.  67.  67.  67.  67.  67.  67.  67.  67.\n",
      "  78.  78.  78.  78.  78.  78.  78.  78.  78.  78.  89.  89.  89.  89.\n",
      "  89.  89.  89.  89.  89.  89. 100. 100. 100. 100. 100. 100. 100. 100.\n",
      " 100. 100.]\n"
     ]
    }
   ],
   "source": [
    "q=z[:,0]\n",
    "print (q)"
   ]
  },
  {
   "cell_type": "code",
   "execution_count": 419,
   "metadata": {},
   "outputs": [
    {
     "name": "stdout",
     "output_type": "stream",
     "text": [
      "[  1.  12.  23.  34.  45.  56.  67.  78.  89. 100.   1.  12.  23.  34.\n",
      "  45.  56.  67.  78.  89. 100.   1.  12.  23.  34.  45.  56.  67.  78.\n",
      "  89. 100.   1.  12.  23.  34.  45.  56.  67.  78.  89. 100.   1.  12.\n",
      "  23.  34.  45.  56.  67.  78.  89. 100.   1.  12.  23.  34.  45.  56.\n",
      "  67.  78.  89. 100.   1.  12.  23.  34.  45.  56.  67.  78.  89. 100.\n",
      "   1.  12.  23.  34.  45.  56.  67.  78.  89. 100.   1.  12.  23.  34.\n",
      "  45.  56.  67.  78.  89. 100.   1.  12.  23.  34.  45.  56.  67.  78.\n",
      "  89. 100.]\n"
     ]
    }
   ],
   "source": [
    "w=z[:,1]\n",
    "print (w)"
   ]
  },
  {
   "cell_type": "code",
   "execution_count": 462,
   "metadata": {},
   "outputs": [
    {
     "name": "stdout",
     "output_type": "stream",
     "text": [
      "[0.60998463 0.95352005 0.0395056  0.98066961 0.04393574 0.37140046\n",
      " 0.90555577 0.89267052 0.35592291 0.62639041 0.58947068 0.50023737\n",
      " 0.6325624  0.16705351 0.70395703 0.66283165 0.10999276 0.97979775\n",
      " 0.69075173 0.24769413 0.94192798 0.91708063 0.85415413 0.8533593\n",
      " 0.21973257 0.29791286 0.43404541 0.10340473 0.90639982 0.57002731\n",
      " 0.92318204 0.07421982 0.12744273 0.23506617 0.94177078 0.88499406\n",
      " 0.13589169 0.78623343 0.80465682 0.12081352 0.62100065 0.6634246\n",
      " 0.03602932 0.88229223 0.15729265 0.61711729 0.20130896 0.61809105\n",
      " 0.23596816 0.96685536 0.09851026 0.28204789 0.84100647 0.89504182\n",
      " 0.76855187 0.33723514 0.40751593 0.786808   0.88599484 0.48360247\n",
      " 0.15514955 0.8465089  0.42287132 0.0954995  0.98284288 0.06658199\n",
      " 0.75509396 0.3298817  0.54536397 0.25141506 0.76107459 0.39205834\n",
      " 0.87866772 0.46893693 0.37206525 0.52181504 0.1550784  0.00501551\n",
      " 0.6236597  0.75899823 0.54403489 0.14241725 0.53408841 0.11893578\n",
      " 0.03617996 0.76447159 0.70713421 0.50426322 0.481019   0.23598178\n",
      " 0.76808746 0.48572834 0.53708931 0.57344223 0.96089449 0.89017402\n",
      " 0.34283666 0.57523261 0.36113205 0.23490515]\n"
     ]
    }
   ],
   "source": [
    "e=z[:,2]\n",
    "print (e)"
   ]
  },
  {
   "cell_type": "code",
   "execution_count": 510,
   "metadata": {},
   "outputs": [
    {
     "data": {
      "image/png": "[encoded data removed]",
      "text/plain": [
       "<Figure size 432x288 with 2 Axes>"
      ]
     },
     "metadata": {
      "needs_background": "light"
     },
     "output_type": "display_data"
    }
   ],
   "source": [
    "plt.scatter(q,w,c=color,s=100)\n",
    "color=e\n",
    "plt.colorbar()\n",
    "plt.show()\n"
   ]
  },
  {
   "cell_type": "code",
   "execution_count": null,
   "metadata": {},
   "outputs": [],
   "source": [
    "def pixelplot(a,grid)\n",
    "    \n",
    "    plt.imshow(m, extent=(1,100,1,100))\n",
    "    plt.colorbar()\n",
    "\n",
    "    plt.show()"
   ]
  },
  {
   "cell_type": "code",
   "execution_count": 442,
   "metadata": {},
   "outputs": [],
   "source": []
  },
  {
   "cell_type": "code",
   "execution_count": null,
   "metadata": {},
   "outputs": [],
   "source": []
  },
  {
   "cell_type": "code",
   "execution_count": 468,
   "metadata": {},
   "outputs": [
    {
     "data": {
      "image/png": "[encoded data removed]",
      "text/plain": [
       "<Figure size 432x288 with 2 Axes>"
      ]
     },
     "metadata": {
      "needs_background": "light"
     },
     "output_type": "display_data"
    }
   ],
   "source": [
    "fig, ax=plt.subplots(1,2)\n",
    "plt.show()"
   ]
  },
  {
   "cell_type": "code",
   "execution_count": 484,
   "metadata": {},
   "outputs": [
    {
     "data": {
      "image/png": "[encoded data removed]",
      "text/plain": [
       "<Figure size 432x288 with 1 Axes>"
      ]
     },
     "metadata": {
      "needs_background": "light"
     },
     "output_type": "display_data"
    }
   ],
   "source": [
    "fig, ax = plt.subplots()\n",
    "ax.scatter(q,w,c=color)\n",
    "plt.show()"
   ]
  },
  {
   "cell_type": "code",
   "execution_count": 486,
   "metadata": {},
   "outputs": [
    {
     "data": {
      "image/png": "[encoded data removed]",
      "text/plain": [
       "<Figure size 432x288 with 2 Axes>"
      ]
     },
     "metadata": {
      "needs_background": "light"
     },
     "output_type": "display_data"
    }
   ],
   "source": [
    "fig, axes = plt.subplots(1,2)\n",
    "axes[0].scatter(q,w,c=color)\n",
    "plt.show()"
   ]
  },
  {
   "cell_type": "code",
   "execution_count": 502,
   "metadata": {},
   "outputs": [
    {
     "data": {
      "image/png": "[encoded data removed]",
      "text/plain": [
       "<Figure size 432x288 with 3 Axes>"
      ]
     },
     "metadata": {
      "needs_background": "light"
     },
     "output_type": "display_data"
    }
   ],
   "source": [
    "fig, axes = plt.subplots(1,2)\n",
    "subfig = axes[1].scatter(q,w,c=color)\n",
    "fig.colorbar(subfig)\n",
    "plt.show()"
   ]
  },
  {
   "cell_type": "code",
   "execution_count": 505,
   "metadata": {},
   "outputs": [
    {
     "data": {
      "image/png": "[encoded data removed]",
      "text/plain": [
       "<Figure size 720x288 with 3 Axes>"
      ]
     },
     "metadata": {
      "needs_background": "light"
     },
     "output_type": "display_data"
    }
   ],
   "source": [
    "fig, axes = plt.subplots(1,2,figsize=(10,4))\n",
    "subfig = axes[1].scatter(q,w,c=color)\n",
    "subfig1 = axes[0].scatter(q,w)\n",
    "fig.colorbar(subfig)\n",
    "plt.show()"
   ]
  },
  {
   "cell_type": "code",
   "execution_count": 526,
   "metadata": {},
   "outputs": [],
   "source": [
    "v = np.random.random(100)"
   ]
  },
  {
   "cell_type": "code",
   "execution_count": 529,
   "metadata": {},
   "outputs": [
    {
     "data": {
      "text/plain": [
       "array([0.99956949, 0.16455408, 0.82110256, 0.32870012, 0.19457516,\n",
       "       0.48761765, 0.3880979 , 0.23770285, 0.21351   , 0.15843361,\n",
       "       0.63139301, 0.36895319, 0.34836605, 0.50603932, 0.57383514,\n",
       "       0.56309058, 0.96011064, 0.81065248, 0.02077838, 0.0798452 ,\n",
       "       0.20748524, 0.66946731, 0.49635326, 0.38542461, 0.47831517,\n",
       "       0.37062002, 0.14952678, 0.27828033, 0.24391686, 0.16891651,\n",
       "       0.25752675, 0.20207994, 0.13797861, 0.63181053, 0.89397701,\n",
       "       0.58465873, 0.40997477, 0.81468452, 0.56442766, 0.95146793,\n",
       "       0.10348348, 0.16232914, 0.86788149, 0.53919789, 0.82828813,\n",
       "       0.38853533, 0.42499813, 0.98766135, 0.29830831, 0.14512201,\n",
       "       0.23690036, 0.73493827, 0.53995918, 0.43891274, 0.70800702,\n",
       "       0.74285457, 0.90059523, 0.28963429, 0.83967942, 0.07599485,\n",
       "       0.9649701 , 0.5733714 , 0.17651637, 0.33441356, 0.78298528,\n",
       "       0.50099862, 0.38281512, 0.35012618, 0.76963016, 0.14024595,\n",
       "       0.13478929, 0.3487792 , 0.86975171, 0.90167658, 0.85581619,\n",
       "       0.96089762, 0.07853472, 0.38967637, 0.75477259, 0.01330785,\n",
       "       0.58484114, 0.73077172, 0.89192627, 0.73443064, 0.44692514,\n",
       "       0.4106824 , 0.25378514, 0.65884236, 0.94742662, 0.3464788 ,\n",
       "       0.342105  , 0.32820079, 0.30020886, 0.74608465, 0.2477172 ,\n",
       "       0.53416253, 0.44366092, 0.82380377, 0.4979826 , 0.94847018])"
      ]
     },
     "execution_count": 529,
     "metadata": {},
     "output_type": "execute_result"
    }
   ],
   "source": [
    "v"
   ]
  },
  {
   "cell_type": "code",
   "execution_count": 528,
   "metadata": {},
   "outputs": [],
   "source": [
    "b = np.random.random(100)"
   ]
  },
  {
   "cell_type": "code",
   "execution_count": 530,
   "metadata": {},
   "outputs": [
    {
     "data": {
      "text/plain": [
       "array([0.54147103, 0.68204941, 0.0734195 , 0.33255738, 0.77489073,\n",
       "       0.5694443 , 0.95724444, 0.80205509, 0.53238361, 0.16707757,\n",
       "       0.14862634, 0.82200734, 0.50208094, 0.6607894 , 0.56414973,\n",
       "       0.97160352, 0.07813042, 0.32508877, 0.13583284, 0.44586002,\n",
       "       0.46274172, 0.2766933 , 0.44104086, 0.57793444, 0.00263456,\n",
       "       0.52387225, 0.79547072, 0.6717879 , 0.48925825, 0.87590007,\n",
       "       0.38018751, 0.69186798, 0.98834918, 0.36356392, 0.06442476,\n",
       "       0.84622333, 0.84584448, 0.37046033, 0.83811951, 0.88672744,\n",
       "       0.8407095 , 0.23448489, 0.13314193, 0.95391735, 0.26428605,\n",
       "       0.12279226, 0.63633057, 0.82435306, 0.01305719, 0.73646026,\n",
       "       0.243215  , 0.98246378, 0.33265767, 0.17627648, 0.8463803 ,\n",
       "       0.04576433, 0.99679763, 0.98830088, 0.75870143, 0.07744819,\n",
       "       0.7464091 , 0.74236067, 0.36035512, 0.06346931, 0.87773622,\n",
       "       0.39418203, 0.67472462, 0.86843614, 0.28542363, 0.7416913 ,\n",
       "       0.36486479, 0.22325322, 0.11538451, 0.37143253, 0.23164335,\n",
       "       0.46751557, 0.02571169, 0.70890159, 0.29337917, 0.43360398,\n",
       "       0.34652459, 0.65908945, 0.92722655, 0.32110712, 0.27138308,\n",
       "       0.99780925, 0.90941265, 0.43260191, 0.40473988, 0.31842598,\n",
       "       0.2301937 , 0.66894823, 0.09617132, 0.62203444, 0.05755205,\n",
       "       0.82730678, 0.10648869, 0.29118491, 0.05748978, 0.29712539])"
      ]
     },
     "execution_count": 530,
     "metadata": {},
     "output_type": "execute_result"
    }
   ],
   "source": [
    "b"
   ]
  },
  {
   "cell_type": "code",
   "execution_count": 531,
   "metadata": {},
   "outputs": [],
   "source": [
    "n = np.random.random(100)"
   ]
  },
  {
   "cell_type": "code",
   "execution_count": 532,
   "metadata": {},
   "outputs": [],
   "source": [
    "teor = np.random.random(100)"
   ]
  },
  {
   "cell_type": "code",
   "execution_count": 536,
   "metadata": {},
   "outputs": [
    {
     "ename": "TypeError",
     "evalue": "random() takes at most 1 positional argument (2 given)",
     "output_type": "error",
     "traceback": [
      "\u001b[1;31m---------------------------------------------------------------------------\u001b[0m",
      "\u001b[1;31mTypeError\u001b[0m                                 Traceback (most recent call last)",
      "\u001b[1;32m<ipython-input-536-c8c5ed44b07b>\u001b[0m in \u001b[0;36m<module>\u001b[1;34m\u001b[0m\n\u001b[1;32m----> 1\u001b[1;33m \u001b[0mbd\u001b[0m \u001b[1;33m=\u001b[0m \u001b[0mnp\u001b[0m\u001b[1;33m.\u001b[0m\u001b[0mrandom\u001b[0m\u001b[1;33m.\u001b[0m\u001b[0mrandom\u001b[0m\u001b[1;33m(\u001b[0m\u001b[1;36m100\u001b[0m\u001b[1;33m,\u001b[0m\u001b[1;36m4\u001b[0m\u001b[1;33m)\u001b[0m\u001b[1;33m\u001b[0m\u001b[1;33m\u001b[0m\u001b[0m\n\u001b[0m",
      "\u001b[1;32mmtrand.pyx\u001b[0m in \u001b[0;36mnumpy.random.mtrand.RandomState.random\u001b[1;34m()\u001b[0m\n",
      "\u001b[1;31mTypeError\u001b[0m: random() takes at most 1 positional argument (2 given)"
     ]
    }
   ],
   "source": [
    "bd = np.random.random(100,4)"
   ]
  },
  {
   "cell_type": "code",
   "execution_count": 547,
   "metadata": {},
   "outputs": [],
   "source": [
    "import pandas as pd"
   ]
  },
  {
   "cell_type": "code",
   "execution_count": 551,
   "metadata": {},
   "outputs": [
    {
     "data": {
      "text/html": [
       "<div>\n",
       "<style scoped>\n",
       "    .dataframe tbody tr th:only-of-type {\n",
       "        vertical-align: middle;\n",
       "    }\n",
       "\n",
       "    .dataframe tbody tr th {\n",
       "        vertical-align: top;\n",
       "    }\n",
       "\n",
       "    .dataframe thead th {\n",
       "        text-align: right;\n",
       "    }\n",
       "</style>\n",
       "<table border=\"1\" class=\"dataframe\">\n",
       "  <thead>\n",
       "    <tr style=\"text-align: right;\">\n",
       "      <th></th>\n",
       "      <th>Xloc</th>\n",
       "      <th>Yloc</th>\n",
       "      <th>Landuse</th>\n",
       "      <th>Rock</th>\n",
       "      <th>Cd</th>\n",
       "      <th>Co</th>\n",
       "      <th>Cr</th>\n",
       "      <th>Cu</th>\n",
       "      <th>Ni</th>\n",
       "      <th>Pb</th>\n",
       "      <th>Zn</th>\n",
       "    </tr>\n",
       "  </thead>\n",
       "  <tbody>\n",
       "    <tr>\n",
       "      <th>0</th>\n",
       "      <td>238.6</td>\n",
       "      <td>307.7</td>\n",
       "      <td>3</td>\n",
       "      <td>3</td>\n",
       "      <td>1.740</td>\n",
       "      <td>9.32</td>\n",
       "      <td>38.32</td>\n",
       "      <td>25.72</td>\n",
       "      <td>21.32</td>\n",
       "      <td>77.36</td>\n",
       "      <td>92.56</td>\n",
       "    </tr>\n",
       "    <tr>\n",
       "      <th>1</th>\n",
       "      <td>254.4</td>\n",
       "      <td>197.2</td>\n",
       "      <td>2</td>\n",
       "      <td>2</td>\n",
       "      <td>1.335</td>\n",
       "      <td>10.00</td>\n",
       "      <td>40.20</td>\n",
       "      <td>24.76</td>\n",
       "      <td>29.72</td>\n",
       "      <td>77.88</td>\n",
       "      <td>73.56</td>\n",
       "    </tr>\n",
       "    <tr>\n",
       "      <th>2</th>\n",
       "      <td>280.7</td>\n",
       "      <td>334.7</td>\n",
       "      <td>2</td>\n",
       "      <td>3</td>\n",
       "      <td>1.610</td>\n",
       "      <td>10.60</td>\n",
       "      <td>47.00</td>\n",
       "      <td>8.88</td>\n",
       "      <td>21.40</td>\n",
       "      <td>30.80</td>\n",
       "      <td>64.80</td>\n",
       "    </tr>\n",
       "    <tr>\n",
       "      <th>3</th>\n",
       "      <td>430.8</td>\n",
       "      <td>193.3</td>\n",
       "      <td>3</td>\n",
       "      <td>2</td>\n",
       "      <td>2.150</td>\n",
       "      <td>11.92</td>\n",
       "      <td>43.52</td>\n",
       "      <td>22.70</td>\n",
       "      <td>29.72</td>\n",
       "      <td>56.40</td>\n",
       "      <td>90.00</td>\n",
       "    </tr>\n",
       "    <tr>\n",
       "      <th>4</th>\n",
       "      <td>438.3</td>\n",
       "      <td>108.1</td>\n",
       "      <td>3</td>\n",
       "      <td>5</td>\n",
       "      <td>1.565</td>\n",
       "      <td>16.32</td>\n",
       "      <td>38.52</td>\n",
       "      <td>34.32</td>\n",
       "      <td>26.20</td>\n",
       "      <td>66.40</td>\n",
       "      <td>88.40</td>\n",
       "    </tr>\n",
       "    <tr>\n",
       "      <th>...</th>\n",
       "      <td>...</td>\n",
       "      <td>...</td>\n",
       "      <td>...</td>\n",
       "      <td>...</td>\n",
       "      <td>...</td>\n",
       "      <td>...</td>\n",
       "      <td>...</td>\n",
       "      <td>...</td>\n",
       "      <td>...</td>\n",
       "      <td>...</td>\n",
       "      <td>...</td>\n",
       "    </tr>\n",
       "    <tr>\n",
       "      <th>254</th>\n",
       "      <td>428.3</td>\n",
       "      <td>327.8</td>\n",
       "      <td>3</td>\n",
       "      <td>2</td>\n",
       "      <td>0.844</td>\n",
       "      <td>13.88</td>\n",
       "      <td>37.12</td>\n",
       "      <td>21.04</td>\n",
       "      <td>26.48</td>\n",
       "      <td>34.68</td>\n",
       "      <td>90.00</td>\n",
       "    </tr>\n",
       "    <tr>\n",
       "      <th>255</th>\n",
       "      <td>353.0</td>\n",
       "      <td>499.9</td>\n",
       "      <td>1</td>\n",
       "      <td>1</td>\n",
       "      <td>0.490</td>\n",
       "      <td>7.44</td>\n",
       "      <td>34.52</td>\n",
       "      <td>4.64</td>\n",
       "      <td>16.76</td>\n",
       "      <td>31.64</td>\n",
       "      <td>56.80</td>\n",
       "    </tr>\n",
       "    <tr>\n",
       "      <th>256</th>\n",
       "      <td>407.0</td>\n",
       "      <td>415.7</td>\n",
       "      <td>3</td>\n",
       "      <td>3</td>\n",
       "      <td>1.916</td>\n",
       "      <td>14.36</td>\n",
       "      <td>47.60</td>\n",
       "      <td>45.60</td>\n",
       "      <td>28.44</td>\n",
       "      <td>50.00</td>\n",
       "      <td>90.80</td>\n",
       "    </tr>\n",
       "    <tr>\n",
       "      <th>257</th>\n",
       "      <td>461.0</td>\n",
       "      <td>331.5</td>\n",
       "      <td>1</td>\n",
       "      <td>2</td>\n",
       "      <td>1.384</td>\n",
       "      <td>12.68</td>\n",
       "      <td>30.76</td>\n",
       "      <td>7.48</td>\n",
       "      <td>20.72</td>\n",
       "      <td>48.00</td>\n",
       "      <td>46.80</td>\n",
       "    </tr>\n",
       "    <tr>\n",
       "      <th>258</th>\n",
       "      <td>360.5</td>\n",
       "      <td>534.5</td>\n",
       "      <td>3</td>\n",
       "      <td>3</td>\n",
       "      <td>0.849</td>\n",
       "      <td>9.04</td>\n",
       "      <td>29.48</td>\n",
       "      <td>18.40</td>\n",
       "      <td>17.56</td>\n",
       "      <td>35.00</td>\n",
       "      <td>58.00</td>\n",
       "    </tr>\n",
       "  </tbody>\n",
       "</table>\n",
       "<p>259 rows × 11 columns</p>\n",
       "</div>"
      ],
      "text/plain": [
       "      Xloc   Yloc  Landuse  Rock     Cd     Co     Cr     Cu     Ni     Pb  \\\n",
       "0    238.6  307.7        3     3  1.740   9.32  38.32  25.72  21.32  77.36   \n",
       "1    254.4  197.2        2     2  1.335  10.00  40.20  24.76  29.72  77.88   \n",
       "2    280.7  334.7        2     3  1.610  10.60  47.00   8.88  21.40  30.80   \n",
       "3    430.8  193.3        3     2  2.150  11.92  43.52  22.70  29.72  56.40   \n",
       "4    438.3  108.1        3     5  1.565  16.32  38.52  34.32  26.20  66.40   \n",
       "..     ...    ...      ...   ...    ...    ...    ...    ...    ...    ...   \n",
       "254  428.3  327.8        3     2  0.844  13.88  37.12  21.04  26.48  34.68   \n",
       "255  353.0  499.9        1     1  0.490   7.44  34.52   4.64  16.76  31.64   \n",
       "256  407.0  415.7        3     3  1.916  14.36  47.60  45.60  28.44  50.00   \n",
       "257  461.0  331.5        1     2  1.384  12.68  30.76   7.48  20.72  48.00   \n",
       "258  360.5  534.5        3     3  0.849   9.04  29.48  18.40  17.56  35.00   \n",
       "\n",
       "        Zn  \n",
       "0    92.56  \n",
       "1    73.56  \n",
       "2    64.80  \n",
       "3    90.00  \n",
       "4    88.40  \n",
       "..     ...  \n",
       "254  90.00  \n",
       "255  56.80  \n",
       "256  90.80  \n",
       "257  46.80  \n",
       "258  58.00  \n",
       "\n",
       "[259 rows x 11 columns]"
      ]
     },
     "execution_count": 551,
     "metadata": {},
     "output_type": "execute_result"
    }
   ],
   "source": [
    "pd.read_csv('C:/Users/lpm/Documents/GitHub/curso/curso_python-master/Notebooks/data/jura.csv')"
   ]
  },
  {
   "cell_type": "code",
   "execution_count": 569,
   "metadata": {},
   "outputs": [],
   "source": [
    "jura =pd.read_csv('C:/Users/lpm/Documents/GitHub/curso/curso_python-master/Notebooks/data/jura.csv')"
   ]
  },
  {
   "cell_type": "code",
   "execution_count": 573,
   "metadata": {},
   "outputs": [
    {
     "data": {
      "text/html": [
       "<div>\n",
       "<style scoped>\n",
       "    .dataframe tbody tr th:only-of-type {\n",
       "        vertical-align: middle;\n",
       "    }\n",
       "\n",
       "    .dataframe tbody tr th {\n",
       "        vertical-align: top;\n",
       "    }\n",
       "\n",
       "    .dataframe thead th {\n",
       "        text-align: right;\n",
       "    }\n",
       "</style>\n",
       "<table border=\"1\" class=\"dataframe\">\n",
       "  <thead>\n",
       "    <tr style=\"text-align: right;\">\n",
       "      <th></th>\n",
       "      <th>Xloc</th>\n",
       "      <th>Yloc</th>\n",
       "      <th>Landuse</th>\n",
       "      <th>Rock</th>\n",
       "      <th>Cd</th>\n",
       "      <th>Co</th>\n",
       "      <th>Cr</th>\n",
       "      <th>Cu</th>\n",
       "      <th>Ni</th>\n",
       "      <th>Pb</th>\n",
       "      <th>Zn</th>\n",
       "    </tr>\n",
       "  </thead>\n",
       "  <tbody>\n",
       "    <tr>\n",
       "      <th>0</th>\n",
       "      <td>238.6</td>\n",
       "      <td>307.7</td>\n",
       "      <td>3</td>\n",
       "      <td>3</td>\n",
       "      <td>1.740</td>\n",
       "      <td>9.32</td>\n",
       "      <td>38.32</td>\n",
       "      <td>25.72</td>\n",
       "      <td>21.32</td>\n",
       "      <td>77.36</td>\n",
       "      <td>92.56</td>\n",
       "    </tr>\n",
       "    <tr>\n",
       "      <th>1</th>\n",
       "      <td>254.4</td>\n",
       "      <td>197.2</td>\n",
       "      <td>2</td>\n",
       "      <td>2</td>\n",
       "      <td>1.335</td>\n",
       "      <td>10.00</td>\n",
       "      <td>40.20</td>\n",
       "      <td>24.76</td>\n",
       "      <td>29.72</td>\n",
       "      <td>77.88</td>\n",
       "      <td>73.56</td>\n",
       "    </tr>\n",
       "    <tr>\n",
       "      <th>2</th>\n",
       "      <td>280.7</td>\n",
       "      <td>334.7</td>\n",
       "      <td>2</td>\n",
       "      <td>3</td>\n",
       "      <td>1.610</td>\n",
       "      <td>10.60</td>\n",
       "      <td>47.00</td>\n",
       "      <td>8.88</td>\n",
       "      <td>21.40</td>\n",
       "      <td>30.80</td>\n",
       "      <td>64.80</td>\n",
       "    </tr>\n",
       "    <tr>\n",
       "      <th>3</th>\n",
       "      <td>430.8</td>\n",
       "      <td>193.3</td>\n",
       "      <td>3</td>\n",
       "      <td>2</td>\n",
       "      <td>2.150</td>\n",
       "      <td>11.92</td>\n",
       "      <td>43.52</td>\n",
       "      <td>22.70</td>\n",
       "      <td>29.72</td>\n",
       "      <td>56.40</td>\n",
       "      <td>90.00</td>\n",
       "    </tr>\n",
       "  </tbody>\n",
       "</table>\n",
       "</div>"
      ],
      "text/plain": [
       "    Xloc   Yloc  Landuse  Rock     Cd     Co     Cr     Cu     Ni     Pb  \\\n",
       "0  238.6  307.7        3     3  1.740   9.32  38.32  25.72  21.32  77.36   \n",
       "1  254.4  197.2        2     2  1.335  10.00  40.20  24.76  29.72  77.88   \n",
       "2  280.7  334.7        2     3  1.610  10.60  47.00   8.88  21.40  30.80   \n",
       "3  430.8  193.3        3     2  2.150  11.92  43.52  22.70  29.72  56.40   \n",
       "\n",
       "      Zn  \n",
       "0  92.56  \n",
       "1  73.56  \n",
       "2  64.80  \n",
       "3  90.00  "
      ]
     },
     "execution_count": 573,
     "metadata": {},
     "output_type": "execute_result"
    }
   ],
   "source": [
    "jura.head(4)"
   ]
  },
  {
   "cell_type": "code",
   "execution_count": 577,
   "metadata": {},
   "outputs": [
    {
     "data": {
      "text/plain": [
       "0       9.32\n",
       "1      10.00\n",
       "2      10.60\n",
       "3      11.92\n",
       "4      16.32\n",
       "       ...  \n",
       "254    13.88\n",
       "255     7.44\n",
       "256    14.36\n",
       "257    12.68\n",
       "258     9.04\n",
       "Name: Co, Length: 259, dtype: float64"
      ]
     },
     "execution_count": 577,
     "metadata": {},
     "output_type": "execute_result"
    }
   ],
   "source": [
    "jura['Co']"
   ]
  },
  {
   "cell_type": "code",
   "execution_count": 578,
   "metadata": {},
   "outputs": [
    {
     "data": {
      "text/html": [
       "<div>\n",
       "<style scoped>\n",
       "    .dataframe tbody tr th:only-of-type {\n",
       "        vertical-align: middle;\n",
       "    }\n",
       "\n",
       "    .dataframe tbody tr th {\n",
       "        vertical-align: top;\n",
       "    }\n",
       "\n",
       "    .dataframe thead th {\n",
       "        text-align: right;\n",
       "    }\n",
       "</style>\n",
       "<table border=\"1\" class=\"dataframe\">\n",
       "  <thead>\n",
       "    <tr style=\"text-align: right;\">\n",
       "      <th></th>\n",
       "      <th>Xloc</th>\n",
       "      <th>Yloc</th>\n",
       "      <th>Landuse</th>\n",
       "      <th>Rock</th>\n",
       "      <th>Cd</th>\n",
       "      <th>Co</th>\n",
       "      <th>Cr</th>\n",
       "      <th>Cu</th>\n",
       "      <th>Ni</th>\n",
       "      <th>Pb</th>\n",
       "      <th>Zn</th>\n",
       "    </tr>\n",
       "  </thead>\n",
       "  <tbody>\n",
       "    <tr>\n",
       "      <th>count</th>\n",
       "      <td>259.000000</td>\n",
       "      <td>259.000000</td>\n",
       "      <td>259.000000</td>\n",
       "      <td>259.000000</td>\n",
       "      <td>259.000000</td>\n",
       "      <td>259.000000</td>\n",
       "      <td>259.000000</td>\n",
       "      <td>259.000000</td>\n",
       "      <td>259.000000</td>\n",
       "      <td>259.000000</td>\n",
       "      <td>259.000000</td>\n",
       "    </tr>\n",
       "    <tr>\n",
       "      <th>mean</th>\n",
       "      <td>297.977220</td>\n",
       "      <td>266.506178</td>\n",
       "      <td>2.548263</td>\n",
       "      <td>2.698842</td>\n",
       "      <td>1.309077</td>\n",
       "      <td>9.302579</td>\n",
       "      <td>35.070116</td>\n",
       "      <td>23.727490</td>\n",
       "      <td>19.730347</td>\n",
       "      <td>53.916602</td>\n",
       "      <td>75.078301</td>\n",
       "    </tr>\n",
       "    <tr>\n",
       "      <th>std</th>\n",
       "      <td>97.498471</td>\n",
       "      <td>129.525882</td>\n",
       "      <td>0.737024</td>\n",
       "      <td>1.387248</td>\n",
       "      <td>0.915188</td>\n",
       "      <td>3.576046</td>\n",
       "      <td>10.957509</td>\n",
       "      <td>20.712635</td>\n",
       "      <td>8.232858</td>\n",
       "      <td>29.792158</td>\n",
       "      <td>29.019291</td>\n",
       "    </tr>\n",
       "    <tr>\n",
       "      <th>min</th>\n",
       "      <td>62.600000</td>\n",
       "      <td>58.000000</td>\n",
       "      <td>1.000000</td>\n",
       "      <td>1.000000</td>\n",
       "      <td>0.135000</td>\n",
       "      <td>1.552000</td>\n",
       "      <td>8.720000</td>\n",
       "      <td>3.960000</td>\n",
       "      <td>4.200000</td>\n",
       "      <td>18.960000</td>\n",
       "      <td>25.200000</td>\n",
       "    </tr>\n",
       "    <tr>\n",
       "      <th>25%</th>\n",
       "      <td>228.200000</td>\n",
       "      <td>148.700000</td>\n",
       "      <td>2.000000</td>\n",
       "      <td>2.000000</td>\n",
       "      <td>0.637500</td>\n",
       "      <td>6.520000</td>\n",
       "      <td>27.440000</td>\n",
       "      <td>11.020000</td>\n",
       "      <td>13.800000</td>\n",
       "      <td>36.520000</td>\n",
       "      <td>55.000000</td>\n",
       "    </tr>\n",
       "    <tr>\n",
       "      <th>50%</th>\n",
       "      <td>304.300000</td>\n",
       "      <td>258.100000</td>\n",
       "      <td>3.000000</td>\n",
       "      <td>2.000000</td>\n",
       "      <td>1.070000</td>\n",
       "      <td>9.760000</td>\n",
       "      <td>34.840000</td>\n",
       "      <td>17.600000</td>\n",
       "      <td>20.560000</td>\n",
       "      <td>46.400000</td>\n",
       "      <td>73.560000</td>\n",
       "    </tr>\n",
       "    <tr>\n",
       "      <th>75%</th>\n",
       "      <td>366.500000</td>\n",
       "      <td>375.200000</td>\n",
       "      <td>3.000000</td>\n",
       "      <td>3.000000</td>\n",
       "      <td>1.715000</td>\n",
       "      <td>11.980000</td>\n",
       "      <td>42.220000</td>\n",
       "      <td>27.820000</td>\n",
       "      <td>25.420000</td>\n",
       "      <td>60.400000</td>\n",
       "      <td>89.920000</td>\n",
       "    </tr>\n",
       "    <tr>\n",
       "      <th>max</th>\n",
       "      <td>492.000000</td>\n",
       "      <td>569.000000</td>\n",
       "      <td>4.000000</td>\n",
       "      <td>5.000000</td>\n",
       "      <td>5.129000</td>\n",
       "      <td>17.720000</td>\n",
       "      <td>67.600000</td>\n",
       "      <td>166.400000</td>\n",
       "      <td>53.200000</td>\n",
       "      <td>229.560000</td>\n",
       "      <td>219.320000</td>\n",
       "    </tr>\n",
       "  </tbody>\n",
       "</table>\n",
       "</div>"
      ],
      "text/plain": [
       "             Xloc        Yloc     Landuse        Rock          Cd          Co  \\\n",
       "count  259.000000  259.000000  259.000000  259.000000  259.000000  259.000000   \n",
       "mean   297.977220  266.506178    2.548263    2.698842    1.309077    9.302579   \n",
       "std     97.498471  129.525882    0.737024    1.387248    0.915188    3.576046   \n",
       "min     62.600000   58.000000    1.000000    1.000000    0.135000    1.552000   \n",
       "25%    228.200000  148.700000    2.000000    2.000000    0.637500    6.520000   \n",
       "50%    304.300000  258.100000    3.000000    2.000000    1.070000    9.760000   \n",
       "75%    366.500000  375.200000    3.000000    3.000000    1.715000   11.980000   \n",
       "max    492.000000  569.000000    4.000000    5.000000    5.129000   17.720000   \n",
       "\n",
       "               Cr          Cu          Ni          Pb          Zn  \n",
       "count  259.000000  259.000000  259.000000  259.000000  259.000000  \n",
       "mean    35.070116   23.727490   19.730347   53.916602   75.078301  \n",
       "std     10.957509   20.712635    8.232858   29.792158   29.019291  \n",
       "min      8.720000    3.960000    4.200000   18.960000   25.200000  \n",
       "25%     27.440000   11.020000   13.800000   36.520000   55.000000  \n",
       "50%     34.840000   17.600000   20.560000   46.400000   73.560000  \n",
       "75%     42.220000   27.820000   25.420000   60.400000   89.920000  \n",
       "max     67.600000  166.400000   53.200000  229.560000  219.320000  "
      ]
     },
     "execution_count": 578,
     "metadata": {},
     "output_type": "execute_result"
    }
   ],
   "source": [
    "jura.describe()"
   ]
  },
  {
   "cell_type": "code",
   "execution_count": 586,
   "metadata": {},
   "outputs": [],
   "source": [
    "l=jura[['Landuse','Rock','Cd','Co','Cr','Cu','Ni','Pb','Zn',]]"
   ]
  },
  {
   "cell_type": "code",
   "execution_count": 587,
   "metadata": {},
   "outputs": [
    {
     "data": {
      "text/html": [
       "<div>\n",
       "<style scoped>\n",
       "    .dataframe tbody tr th:only-of-type {\n",
       "        vertical-align: middle;\n",
       "    }\n",
       "\n",
       "    .dataframe tbody tr th {\n",
       "        vertical-align: top;\n",
       "    }\n",
       "\n",
       "    .dataframe thead th {\n",
       "        text-align: right;\n",
       "    }\n",
       "</style>\n",
       "<table border=\"1\" class=\"dataframe\">\n",
       "  <thead>\n",
       "    <tr style=\"text-align: right;\">\n",
       "      <th></th>\n",
       "      <th>Landuse</th>\n",
       "      <th>Rock</th>\n",
       "      <th>Cd</th>\n",
       "      <th>Co</th>\n",
       "      <th>Cr</th>\n",
       "      <th>Cu</th>\n",
       "      <th>Ni</th>\n",
       "      <th>Pb</th>\n",
       "      <th>Zn</th>\n",
       "    </tr>\n",
       "  </thead>\n",
       "  <tbody>\n",
       "    <tr>\n",
       "      <th>count</th>\n",
       "      <td>259.000000</td>\n",
       "      <td>259.000000</td>\n",
       "      <td>259.000000</td>\n",
       "      <td>259.000000</td>\n",
       "      <td>259.000000</td>\n",
       "      <td>259.000000</td>\n",
       "      <td>259.000000</td>\n",
       "      <td>259.000000</td>\n",
       "      <td>259.000000</td>\n",
       "    </tr>\n",
       "    <tr>\n",
       "      <th>mean</th>\n",
       "      <td>2.548263</td>\n",
       "      <td>2.698842</td>\n",
       "      <td>1.309077</td>\n",
       "      <td>9.302579</td>\n",
       "      <td>35.070116</td>\n",
       "      <td>23.727490</td>\n",
       "      <td>19.730347</td>\n",
       "      <td>53.916602</td>\n",
       "      <td>75.078301</td>\n",
       "    </tr>\n",
       "    <tr>\n",
       "      <th>std</th>\n",
       "      <td>0.737024</td>\n",
       "      <td>1.387248</td>\n",
       "      <td>0.915188</td>\n",
       "      <td>3.576046</td>\n",
       "      <td>10.957509</td>\n",
       "      <td>20.712635</td>\n",
       "      <td>8.232858</td>\n",
       "      <td>29.792158</td>\n",
       "      <td>29.019291</td>\n",
       "    </tr>\n",
       "    <tr>\n",
       "      <th>min</th>\n",
       "      <td>1.000000</td>\n",
       "      <td>1.000000</td>\n",
       "      <td>0.135000</td>\n",
       "      <td>1.552000</td>\n",
       "      <td>8.720000</td>\n",
       "      <td>3.960000</td>\n",
       "      <td>4.200000</td>\n",
       "      <td>18.960000</td>\n",
       "      <td>25.200000</td>\n",
       "    </tr>\n",
       "    <tr>\n",
       "      <th>25%</th>\n",
       "      <td>2.000000</td>\n",
       "      <td>2.000000</td>\n",
       "      <td>0.637500</td>\n",
       "      <td>6.520000</td>\n",
       "      <td>27.440000</td>\n",
       "      <td>11.020000</td>\n",
       "      <td>13.800000</td>\n",
       "      <td>36.520000</td>\n",
       "      <td>55.000000</td>\n",
       "    </tr>\n",
       "    <tr>\n",
       "      <th>50%</th>\n",
       "      <td>3.000000</td>\n",
       "      <td>2.000000</td>\n",
       "      <td>1.070000</td>\n",
       "      <td>9.760000</td>\n",
       "      <td>34.840000</td>\n",
       "      <td>17.600000</td>\n",
       "      <td>20.560000</td>\n",
       "      <td>46.400000</td>\n",
       "      <td>73.560000</td>\n",
       "    </tr>\n",
       "    <tr>\n",
       "      <th>75%</th>\n",
       "      <td>3.000000</td>\n",
       "      <td>3.000000</td>\n",
       "      <td>1.715000</td>\n",
       "      <td>11.980000</td>\n",
       "      <td>42.220000</td>\n",
       "      <td>27.820000</td>\n",
       "      <td>25.420000</td>\n",
       "      <td>60.400000</td>\n",
       "      <td>89.920000</td>\n",
       "    </tr>\n",
       "    <tr>\n",
       "      <th>max</th>\n",
       "      <td>4.000000</td>\n",
       "      <td>5.000000</td>\n",
       "      <td>5.129000</td>\n",
       "      <td>17.720000</td>\n",
       "      <td>67.600000</td>\n",
       "      <td>166.400000</td>\n",
       "      <td>53.200000</td>\n",
       "      <td>229.560000</td>\n",
       "      <td>219.320000</td>\n",
       "    </tr>\n",
       "  </tbody>\n",
       "</table>\n",
       "</div>"
      ],
      "text/plain": [
       "          Landuse        Rock          Cd          Co          Cr          Cu  \\\n",
       "count  259.000000  259.000000  259.000000  259.000000  259.000000  259.000000   \n",
       "mean     2.548263    2.698842    1.309077    9.302579   35.070116   23.727490   \n",
       "std      0.737024    1.387248    0.915188    3.576046   10.957509   20.712635   \n",
       "min      1.000000    1.000000    0.135000    1.552000    8.720000    3.960000   \n",
       "25%      2.000000    2.000000    0.637500    6.520000   27.440000   11.020000   \n",
       "50%      3.000000    2.000000    1.070000    9.760000   34.840000   17.600000   \n",
       "75%      3.000000    3.000000    1.715000   11.980000   42.220000   27.820000   \n",
       "max      4.000000    5.000000    5.129000   17.720000   67.600000  166.400000   \n",
       "\n",
       "               Ni          Pb          Zn  \n",
       "count  259.000000  259.000000  259.000000  \n",
       "mean    19.730347   53.916602   75.078301  \n",
       "std      8.232858   29.792158   29.019291  \n",
       "min      4.200000   18.960000   25.200000  \n",
       "25%     13.800000   36.520000   55.000000  \n",
       "50%     20.560000   46.400000   73.560000  \n",
       "75%     25.420000   60.400000   89.920000  \n",
       "max     53.200000  229.560000  219.320000  "
      ]
     },
     "execution_count": 587,
     "metadata": {},
     "output_type": "execute_result"
    }
   ],
   "source": [
    "l.describe()"
   ]
  },
  {
   "cell_type": "code",
   "execution_count": 590,
   "metadata": {},
   "outputs": [],
   "source": [
    "s=l.groupby('Rock')"
   ]
  },
  {
   "cell_type": "code",
   "execution_count": 593,
   "metadata": {},
   "outputs": [
    {
     "data": {
      "text/html": [
       "<div>\n",
       "<style scoped>\n",
       "    .dataframe tbody tr th:only-of-type {\n",
       "        vertical-align: middle;\n",
       "    }\n",
       "\n",
       "    .dataframe tbody tr th {\n",
       "        vertical-align: top;\n",
       "    }\n",
       "\n",
       "    .dataframe thead tr th {\n",
       "        text-align: left;\n",
       "    }\n",
       "\n",
       "    .dataframe thead tr:last-of-type th {\n",
       "        text-align: right;\n",
       "    }\n",
       "</style>\n",
       "<table border=\"1\" class=\"dataframe\">\n",
       "  <thead>\n",
       "    <tr>\n",
       "      <th></th>\n",
       "      <th colspan=\"8\" halign=\"left\">Landuse</th>\n",
       "      <th colspan=\"2\" halign=\"left\">Cd</th>\n",
       "      <th>...</th>\n",
       "      <th colspan=\"2\" halign=\"left\">Pb</th>\n",
       "      <th colspan=\"8\" halign=\"left\">Zn</th>\n",
       "    </tr>\n",
       "    <tr>\n",
       "      <th></th>\n",
       "      <th>count</th>\n",
       "      <th>mean</th>\n",
       "      <th>std</th>\n",
       "      <th>min</th>\n",
       "      <th>25%</th>\n",
       "      <th>50%</th>\n",
       "      <th>75%</th>\n",
       "      <th>max</th>\n",
       "      <th>count</th>\n",
       "      <th>mean</th>\n",
       "      <th>...</th>\n",
       "      <th>75%</th>\n",
       "      <th>max</th>\n",
       "      <th>count</th>\n",
       "      <th>mean</th>\n",
       "      <th>std</th>\n",
       "      <th>min</th>\n",
       "      <th>25%</th>\n",
       "      <th>50%</th>\n",
       "      <th>75%</th>\n",
       "      <th>max</th>\n",
       "    </tr>\n",
       "    <tr>\n",
       "      <th>Rock</th>\n",
       "      <th></th>\n",
       "      <th></th>\n",
       "      <th></th>\n",
       "      <th></th>\n",
       "      <th></th>\n",
       "      <th></th>\n",
       "      <th></th>\n",
       "      <th></th>\n",
       "      <th></th>\n",
       "      <th></th>\n",
       "      <th></th>\n",
       "      <th></th>\n",
       "      <th></th>\n",
       "      <th></th>\n",
       "      <th></th>\n",
       "      <th></th>\n",
       "      <th></th>\n",
       "      <th></th>\n",
       "      <th></th>\n",
       "      <th></th>\n",
       "      <th></th>\n",
       "    </tr>\n",
       "  </thead>\n",
       "  <tbody>\n",
       "    <tr>\n",
       "      <th>1</th>\n",
       "      <td>53.0</td>\n",
       "      <td>2.641509</td>\n",
       "      <td>0.736268</td>\n",
       "      <td>1.0</td>\n",
       "      <td>3.0</td>\n",
       "      <td>3.0</td>\n",
       "      <td>3.0</td>\n",
       "      <td>4.0</td>\n",
       "      <td>53.0</td>\n",
       "      <td>1.141000</td>\n",
       "      <td>...</td>\n",
       "      <td>46.80</td>\n",
       "      <td>141.00</td>\n",
       "      <td>53.0</td>\n",
       "      <td>60.101887</td>\n",
       "      <td>31.395137</td>\n",
       "      <td>27.20</td>\n",
       "      <td>39.8</td>\n",
       "      <td>47.6</td>\n",
       "      <td>66.8</td>\n",
       "      <td>145.60</td>\n",
       "    </tr>\n",
       "    <tr>\n",
       "      <th>2</th>\n",
       "      <td>85.0</td>\n",
       "      <td>2.282353</td>\n",
       "      <td>0.867560</td>\n",
       "      <td>1.0</td>\n",
       "      <td>1.0</td>\n",
       "      <td>3.0</td>\n",
       "      <td>3.0</td>\n",
       "      <td>4.0</td>\n",
       "      <td>85.0</td>\n",
       "      <td>1.346576</td>\n",
       "      <td>...</td>\n",
       "      <td>63.92</td>\n",
       "      <td>172.12</td>\n",
       "      <td>85.0</td>\n",
       "      <td>77.084706</td>\n",
       "      <td>22.929036</td>\n",
       "      <td>28.88</td>\n",
       "      <td>63.6</td>\n",
       "      <td>74.4</td>\n",
       "      <td>86.0</td>\n",
       "      <td>166.28</td>\n",
       "    </tr>\n",
       "    <tr>\n",
       "      <th>3</th>\n",
       "      <td>63.0</td>\n",
       "      <td>2.539683</td>\n",
       "      <td>0.643213</td>\n",
       "      <td>1.0</td>\n",
       "      <td>2.0</td>\n",
       "      <td>3.0</td>\n",
       "      <td>3.0</td>\n",
       "      <td>4.0</td>\n",
       "      <td>63.0</td>\n",
       "      <td>1.504952</td>\n",
       "      <td>...</td>\n",
       "      <td>67.20</td>\n",
       "      <td>229.56</td>\n",
       "      <td>63.0</td>\n",
       "      <td>82.747302</td>\n",
       "      <td>28.960698</td>\n",
       "      <td>43.72</td>\n",
       "      <td>63.4</td>\n",
       "      <td>79.6</td>\n",
       "      <td>95.7</td>\n",
       "      <td>219.32</td>\n",
       "    </tr>\n",
       "    <tr>\n",
       "      <th>4</th>\n",
       "      <td>3.0</td>\n",
       "      <td>2.000000</td>\n",
       "      <td>1.000000</td>\n",
       "      <td>1.0</td>\n",
       "      <td>1.5</td>\n",
       "      <td>2.0</td>\n",
       "      <td>2.5</td>\n",
       "      <td>3.0</td>\n",
       "      <td>3.0</td>\n",
       "      <td>1.850000</td>\n",
       "      <td>...</td>\n",
       "      <td>55.80</td>\n",
       "      <td>67.60</td>\n",
       "      <td>3.0</td>\n",
       "      <td>66.666667</td>\n",
       "      <td>23.218384</td>\n",
       "      <td>44.00</td>\n",
       "      <td>54.8</td>\n",
       "      <td>65.6</td>\n",
       "      <td>78.0</td>\n",
       "      <td>90.40</td>\n",
       "    </tr>\n",
       "    <tr>\n",
       "      <th>5</th>\n",
       "      <td>55.0</td>\n",
       "      <td>2.909091</td>\n",
       "      <td>0.348155</td>\n",
       "      <td>2.0</td>\n",
       "      <td>3.0</td>\n",
       "      <td>3.0</td>\n",
       "      <td>3.0</td>\n",
       "      <td>4.0</td>\n",
       "      <td>55.0</td>\n",
       "      <td>1.159218</td>\n",
       "      <td>...</td>\n",
       "      <td>64.00</td>\n",
       "      <td>116.48</td>\n",
       "      <td>55.0</td>\n",
       "      <td>78.083636</td>\n",
       "      <td>31.069684</td>\n",
       "      <td>25.20</td>\n",
       "      <td>59.2</td>\n",
       "      <td>76.0</td>\n",
       "      <td>88.8</td>\n",
       "      <td>151.60</td>\n",
       "    </tr>\n",
       "  </tbody>\n",
       "</table>\n",
       "<p>5 rows × 64 columns</p>\n",
       "</div>"
      ],
      "text/plain": [
       "     Landuse                                                 Cd            \\\n",
       "       count      mean       std  min  25%  50%  75%  max count      mean   \n",
       "Rock                                                                        \n",
       "1       53.0  2.641509  0.736268  1.0  3.0  3.0  3.0  4.0  53.0  1.141000   \n",
       "2       85.0  2.282353  0.867560  1.0  1.0  3.0  3.0  4.0  85.0  1.346576   \n",
       "3       63.0  2.539683  0.643213  1.0  2.0  3.0  3.0  4.0  63.0  1.504952   \n",
       "4        3.0  2.000000  1.000000  1.0  1.5  2.0  2.5  3.0   3.0  1.850000   \n",
       "5       55.0  2.909091  0.348155  2.0  3.0  3.0  3.0  4.0  55.0  1.159218   \n",
       "\n",
       "      ...     Pb            Zn                                                 \\\n",
       "      ...    75%     max count       mean        std    min   25%   50%   75%   \n",
       "Rock  ...                                                                       \n",
       "1     ...  46.80  141.00  53.0  60.101887  31.395137  27.20  39.8  47.6  66.8   \n",
       "2     ...  63.92  172.12  85.0  77.084706  22.929036  28.88  63.6  74.4  86.0   \n",
       "3     ...  67.20  229.56  63.0  82.747302  28.960698  43.72  63.4  79.6  95.7   \n",
       "4     ...  55.80   67.60   3.0  66.666667  23.218384  44.00  54.8  65.6  78.0   \n",
       "5     ...  64.00  116.48  55.0  78.083636  31.069684  25.20  59.2  76.0  88.8   \n",
       "\n",
       "              \n",
       "         max  \n",
       "Rock          \n",
       "1     145.60  \n",
       "2     166.28  \n",
       "3     219.32  \n",
       "4      90.40  \n",
       "5     151.60  \n",
       "\n",
       "[5 rows x 64 columns]"
      ]
     },
     "execution_count": 593,
     "metadata": {},
     "output_type": "execute_result"
    }
   ],
   "source": [
    "s.describe()"
   ]
  },
  {
   "cell_type": "code",
   "execution_count": 597,
   "metadata": {},
   "outputs": [],
   "source": [
    "g=jura.loc[40:50]"
   ]
  },
  {
   "cell_type": "code",
   "execution_count": 598,
   "metadata": {},
   "outputs": [
    {
     "data": {
      "text/html": [
       "<div>\n",
       "<style scoped>\n",
       "    .dataframe tbody tr th:only-of-type {\n",
       "        vertical-align: middle;\n",
       "    }\n",
       "\n",
       "    .dataframe tbody tr th {\n",
       "        vertical-align: top;\n",
       "    }\n",
       "\n",
       "    .dataframe thead th {\n",
       "        text-align: right;\n",
       "    }\n",
       "</style>\n",
       "<table border=\"1\" class=\"dataframe\">\n",
       "  <thead>\n",
       "    <tr style=\"text-align: right;\">\n",
       "      <th></th>\n",
       "      <th>Xloc</th>\n",
       "      <th>Yloc</th>\n",
       "      <th>Landuse</th>\n",
       "      <th>Rock</th>\n",
       "      <th>Cd</th>\n",
       "      <th>Co</th>\n",
       "      <th>Cr</th>\n",
       "      <th>Cu</th>\n",
       "      <th>Ni</th>\n",
       "      <th>Pb</th>\n",
       "      <th>Zn</th>\n",
       "    </tr>\n",
       "  </thead>\n",
       "  <tbody>\n",
       "    <tr>\n",
       "      <th>40</th>\n",
       "      <td>228.6</td>\n",
       "      <td>306.8</td>\n",
       "      <td>3</td>\n",
       "      <td>3</td>\n",
       "      <td>0.605</td>\n",
       "      <td>9.68</td>\n",
       "      <td>27.32</td>\n",
       "      <td>28.80</td>\n",
       "      <td>12.80</td>\n",
       "      <td>56.60</td>\n",
       "      <td>67.16</td>\n",
       "    </tr>\n",
       "    <tr>\n",
       "      <th>41</th>\n",
       "      <td>181.3</td>\n",
       "      <td>211.6</td>\n",
       "      <td>3</td>\n",
       "      <td>3</td>\n",
       "      <td>1.003</td>\n",
       "      <td>11.32</td>\n",
       "      <td>33.48</td>\n",
       "      <td>21.20</td>\n",
       "      <td>20.56</td>\n",
       "      <td>48.80</td>\n",
       "      <td>110.00</td>\n",
       "    </tr>\n",
       "    <tr>\n",
       "      <th>42</th>\n",
       "      <td>337.9</td>\n",
       "      <td>430.8</td>\n",
       "      <td>3</td>\n",
       "      <td>5</td>\n",
       "      <td>1.900</td>\n",
       "      <td>8.52</td>\n",
       "      <td>46.40</td>\n",
       "      <td>10.28</td>\n",
       "      <td>24.80</td>\n",
       "      <td>36.44</td>\n",
       "      <td>83.60</td>\n",
       "    </tr>\n",
       "    <tr>\n",
       "      <th>43</th>\n",
       "      <td>196.5</td>\n",
       "      <td>280.7</td>\n",
       "      <td>3</td>\n",
       "      <td>3</td>\n",
       "      <td>0.895</td>\n",
       "      <td>12.60</td>\n",
       "      <td>41.60</td>\n",
       "      <td>60.72</td>\n",
       "      <td>24.16</td>\n",
       "      <td>89.68</td>\n",
       "      <td>102.44</td>\n",
       "    </tr>\n",
       "    <tr>\n",
       "      <th>44</th>\n",
       "      <td>355.9</td>\n",
       "      <td>400.9</td>\n",
       "      <td>2</td>\n",
       "      <td>3</td>\n",
       "      <td>4.020</td>\n",
       "      <td>6.16</td>\n",
       "      <td>60.80</td>\n",
       "      <td>21.08</td>\n",
       "      <td>21.96</td>\n",
       "      <td>52.00</td>\n",
       "      <td>101.60</td>\n",
       "    </tr>\n",
       "    <tr>\n",
       "      <th>45</th>\n",
       "      <td>226.7</td>\n",
       "      <td>418.9</td>\n",
       "      <td>3</td>\n",
       "      <td>1</td>\n",
       "      <td>0.560</td>\n",
       "      <td>6.64</td>\n",
       "      <td>35.12</td>\n",
       "      <td>12.72</td>\n",
       "      <td>11.12</td>\n",
       "      <td>39.64</td>\n",
       "      <td>57.20</td>\n",
       "    </tr>\n",
       "    <tr>\n",
       "      <th>46</th>\n",
       "      <td>296.5</td>\n",
       "      <td>100.2</td>\n",
       "      <td>2</td>\n",
       "      <td>3</td>\n",
       "      <td>1.390</td>\n",
       "      <td>10.36</td>\n",
       "      <td>45.60</td>\n",
       "      <td>57.20</td>\n",
       "      <td>24.60</td>\n",
       "      <td>129.20</td>\n",
       "      <td>149.20</td>\n",
       "    </tr>\n",
       "    <tr>\n",
       "      <th>47</th>\n",
       "      <td>312.0</td>\n",
       "      <td>146.9</td>\n",
       "      <td>1</td>\n",
       "      <td>3</td>\n",
       "      <td>1.910</td>\n",
       "      <td>2.12</td>\n",
       "      <td>31.12</td>\n",
       "      <td>11.60</td>\n",
       "      <td>8.00</td>\n",
       "      <td>69.16</td>\n",
       "      <td>50.40</td>\n",
       "    </tr>\n",
       "    <tr>\n",
       "      <th>48</th>\n",
       "      <td>345.4</td>\n",
       "      <td>465.4</td>\n",
       "      <td>2</td>\n",
       "      <td>5</td>\n",
       "      <td>1.070</td>\n",
       "      <td>7.80</td>\n",
       "      <td>38.24</td>\n",
       "      <td>10.88</td>\n",
       "      <td>19.92</td>\n",
       "      <td>29.88</td>\n",
       "      <td>70.80</td>\n",
       "    </tr>\n",
       "    <tr>\n",
       "      <th>49</th>\n",
       "      <td>107.1</td>\n",
       "      <td>156.7</td>\n",
       "      <td>2</td>\n",
       "      <td>3</td>\n",
       "      <td>0.795</td>\n",
       "      <td>9.96</td>\n",
       "      <td>29.08</td>\n",
       "      <td>9.92</td>\n",
       "      <td>15.28</td>\n",
       "      <td>37.48</td>\n",
       "      <td>65.60</td>\n",
       "    </tr>\n",
       "    <tr>\n",
       "      <th>50</th>\n",
       "      <td>357.3</td>\n",
       "      <td>354.2</td>\n",
       "      <td>3</td>\n",
       "      <td>5</td>\n",
       "      <td>0.550</td>\n",
       "      <td>9.56</td>\n",
       "      <td>26.60</td>\n",
       "      <td>50.40</td>\n",
       "      <td>16.00</td>\n",
       "      <td>77.20</td>\n",
       "      <td>76.00</td>\n",
       "    </tr>\n",
       "  </tbody>\n",
       "</table>\n",
       "</div>"
      ],
      "text/plain": [
       "     Xloc   Yloc  Landuse  Rock     Cd     Co     Cr     Cu     Ni      Pb  \\\n",
       "40  228.6  306.8        3     3  0.605   9.68  27.32  28.80  12.80   56.60   \n",
       "41  181.3  211.6        3     3  1.003  11.32  33.48  21.20  20.56   48.80   \n",
       "42  337.9  430.8        3     5  1.900   8.52  46.40  10.28  24.80   36.44   \n",
       "43  196.5  280.7        3     3  0.895  12.60  41.60  60.72  24.16   89.68   \n",
       "44  355.9  400.9        2     3  4.020   6.16  60.80  21.08  21.96   52.00   \n",
       "45  226.7  418.9        3     1  0.560   6.64  35.12  12.72  11.12   39.64   \n",
       "46  296.5  100.2        2     3  1.390  10.36  45.60  57.20  24.60  129.20   \n",
       "47  312.0  146.9        1     3  1.910   2.12  31.12  11.60   8.00   69.16   \n",
       "48  345.4  465.4        2     5  1.070   7.80  38.24  10.88  19.92   29.88   \n",
       "49  107.1  156.7        2     3  0.795   9.96  29.08   9.92  15.28   37.48   \n",
       "50  357.3  354.2        3     5  0.550   9.56  26.60  50.40  16.00   77.20   \n",
       "\n",
       "        Zn  \n",
       "40   67.16  \n",
       "41  110.00  \n",
       "42   83.60  \n",
       "43  102.44  \n",
       "44  101.60  \n",
       "45   57.20  \n",
       "46  149.20  \n",
       "47   50.40  \n",
       "48   70.80  \n",
       "49   65.60  \n",
       "50   76.00  "
      ]
     },
     "execution_count": 598,
     "metadata": {},
     "output_type": "execute_result"
    }
   ],
   "source": [
    "g"
   ]
  },
  {
   "cell_type": "code",
   "execution_count": 599,
   "metadata": {},
   "outputs": [
    {
     "data": {
      "text/plain": [
       "40    3\n",
       "41    3\n",
       "42    5\n",
       "43    3\n",
       "44    3\n",
       "45    1\n",
       "46    3\n",
       "47    3\n",
       "48    5\n",
       "49    3\n",
       "50    5\n",
       "Name: Rock, dtype: int64"
      ]
     },
     "execution_count": 599,
     "metadata": {},
     "output_type": "execute_result"
    }
   ],
   "source": [
    "g['Rock']"
   ]
  },
  {
   "cell_type": "code",
   "execution_count": 603,
   "metadata": {},
   "outputs": [],
   "source": [
    "Cd2 = np.linspace(0,0,259)"
   ]
  },
  {
   "cell_type": "code",
   "execution_count": 604,
   "metadata": {},
   "outputs": [
    {
     "data": {
      "text/plain": [
       "array([0., 0., 0., 0., 0., 0., 0., 0., 0., 0., 0., 0., 0., 0., 0., 0., 0.,\n",
       "       0., 0., 0., 0., 0., 0., 0., 0., 0., 0., 0., 0., 0., 0., 0., 0., 0.,\n",
       "       0., 0., 0., 0., 0., 0., 0., 0., 0., 0., 0., 0., 0., 0., 0., 0., 0.,\n",
       "       0., 0., 0., 0., 0., 0., 0., 0., 0., 0., 0., 0., 0., 0., 0., 0., 0.,\n",
       "       0., 0., 0., 0., 0., 0., 0., 0., 0., 0., 0., 0., 0., 0., 0., 0., 0.,\n",
       "       0., 0., 0., 0., 0., 0., 0., 0., 0., 0., 0., 0., 0., 0., 0., 0., 0.,\n",
       "       0., 0., 0., 0., 0., 0., 0., 0., 0., 0., 0., 0., 0., 0., 0., 0., 0.,\n",
       "       0., 0., 0., 0., 0., 0., 0., 0., 0., 0., 0., 0., 0., 0., 0., 0., 0.,\n",
       "       0., 0., 0., 0., 0., 0., 0., 0., 0., 0., 0., 0., 0., 0., 0., 0., 0.,\n",
       "       0., 0., 0., 0., 0., 0., 0., 0., 0., 0., 0., 0., 0., 0., 0., 0., 0.,\n",
       "       0., 0., 0., 0., 0., 0., 0., 0., 0., 0., 0., 0., 0., 0., 0., 0., 0.,\n",
       "       0., 0., 0., 0., 0., 0., 0., 0., 0., 0., 0., 0., 0., 0., 0., 0., 0.,\n",
       "       0., 0., 0., 0., 0., 0., 0., 0., 0., 0., 0., 0., 0., 0., 0., 0., 0.,\n",
       "       0., 0., 0., 0., 0., 0., 0., 0., 0., 0., 0., 0., 0., 0., 0., 0., 0.,\n",
       "       0., 0., 0., 0., 0., 0., 0., 0., 0., 0., 0., 0., 0., 0., 0., 0., 0.,\n",
       "       0., 0., 0., 0.])"
      ]
     },
     "execution_count": 604,
     "metadata": {},
     "output_type": "execute_result"
    }
   ],
   "source": [
    "Cd2"
   ]
  },
  {
   "cell_type": "code",
   "execution_count": 608,
   "metadata": {},
   "outputs": [],
   "source": [
    "jura['Cd2'] = Cd2"
   ]
  },
  {
   "cell_type": "code",
   "execution_count": 609,
   "metadata": {},
   "outputs": [
    {
     "data": {
      "text/html": [
       "<div>\n",
       "<style scoped>\n",
       "    .dataframe tbody tr th:only-of-type {\n",
       "        vertical-align: middle;\n",
       "    }\n",
       "\n",
       "    .dataframe tbody tr th {\n",
       "        vertical-align: top;\n",
       "    }\n",
       "\n",
       "    .dataframe thead th {\n",
       "        text-align: right;\n",
       "    }\n",
       "</style>\n",
       "<table border=\"1\" class=\"dataframe\">\n",
       "  <thead>\n",
       "    <tr style=\"text-align: right;\">\n",
       "      <th></th>\n",
       "      <th>Xloc</th>\n",
       "      <th>Yloc</th>\n",
       "      <th>Landuse</th>\n",
       "      <th>Rock</th>\n",
       "      <th>Cd</th>\n",
       "      <th>Co</th>\n",
       "      <th>Cr</th>\n",
       "      <th>Cu</th>\n",
       "      <th>Ni</th>\n",
       "      <th>Pb</th>\n",
       "      <th>Zn</th>\n",
       "      <th>Cd2</th>\n",
       "    </tr>\n",
       "  </thead>\n",
       "  <tbody>\n",
       "    <tr>\n",
       "      <th>0</th>\n",
       "      <td>238.6</td>\n",
       "      <td>307.7</td>\n",
       "      <td>3</td>\n",
       "      <td>3</td>\n",
       "      <td>1.740</td>\n",
       "      <td>9.32</td>\n",
       "      <td>38.32</td>\n",
       "      <td>25.72</td>\n",
       "      <td>21.32</td>\n",
       "      <td>77.36</td>\n",
       "      <td>92.56</td>\n",
       "      <td>0.0</td>\n",
       "    </tr>\n",
       "    <tr>\n",
       "      <th>1</th>\n",
       "      <td>254.4</td>\n",
       "      <td>197.2</td>\n",
       "      <td>2</td>\n",
       "      <td>2</td>\n",
       "      <td>1.335</td>\n",
       "      <td>10.00</td>\n",
       "      <td>40.20</td>\n",
       "      <td>24.76</td>\n",
       "      <td>29.72</td>\n",
       "      <td>77.88</td>\n",
       "      <td>73.56</td>\n",
       "      <td>0.0</td>\n",
       "    </tr>\n",
       "    <tr>\n",
       "      <th>2</th>\n",
       "      <td>280.7</td>\n",
       "      <td>334.7</td>\n",
       "      <td>2</td>\n",
       "      <td>3</td>\n",
       "      <td>1.610</td>\n",
       "      <td>10.60</td>\n",
       "      <td>47.00</td>\n",
       "      <td>8.88</td>\n",
       "      <td>21.40</td>\n",
       "      <td>30.80</td>\n",
       "      <td>64.80</td>\n",
       "      <td>0.0</td>\n",
       "    </tr>\n",
       "    <tr>\n",
       "      <th>3</th>\n",
       "      <td>430.8</td>\n",
       "      <td>193.3</td>\n",
       "      <td>3</td>\n",
       "      <td>2</td>\n",
       "      <td>2.150</td>\n",
       "      <td>11.92</td>\n",
       "      <td>43.52</td>\n",
       "      <td>22.70</td>\n",
       "      <td>29.72</td>\n",
       "      <td>56.40</td>\n",
       "      <td>90.00</td>\n",
       "      <td>0.0</td>\n",
       "    </tr>\n",
       "    <tr>\n",
       "      <th>4</th>\n",
       "      <td>438.3</td>\n",
       "      <td>108.1</td>\n",
       "      <td>3</td>\n",
       "      <td>5</td>\n",
       "      <td>1.565</td>\n",
       "      <td>16.32</td>\n",
       "      <td>38.52</td>\n",
       "      <td>34.32</td>\n",
       "      <td>26.20</td>\n",
       "      <td>66.40</td>\n",
       "      <td>88.40</td>\n",
       "      <td>0.0</td>\n",
       "    </tr>\n",
       "    <tr>\n",
       "      <th>...</th>\n",
       "      <td>...</td>\n",
       "      <td>...</td>\n",
       "      <td>...</td>\n",
       "      <td>...</td>\n",
       "      <td>...</td>\n",
       "      <td>...</td>\n",
       "      <td>...</td>\n",
       "      <td>...</td>\n",
       "      <td>...</td>\n",
       "      <td>...</td>\n",
       "      <td>...</td>\n",
       "      <td>...</td>\n",
       "    </tr>\n",
       "    <tr>\n",
       "      <th>254</th>\n",
       "      <td>428.3</td>\n",
       "      <td>327.8</td>\n",
       "      <td>3</td>\n",
       "      <td>2</td>\n",
       "      <td>0.844</td>\n",
       "      <td>13.88</td>\n",
       "      <td>37.12</td>\n",
       "      <td>21.04</td>\n",
       "      <td>26.48</td>\n",
       "      <td>34.68</td>\n",
       "      <td>90.00</td>\n",
       "      <td>0.0</td>\n",
       "    </tr>\n",
       "    <tr>\n",
       "      <th>255</th>\n",
       "      <td>353.0</td>\n",
       "      <td>499.9</td>\n",
       "      <td>1</td>\n",
       "      <td>1</td>\n",
       "      <td>0.490</td>\n",
       "      <td>7.44</td>\n",
       "      <td>34.52</td>\n",
       "      <td>4.64</td>\n",
       "      <td>16.76</td>\n",
       "      <td>31.64</td>\n",
       "      <td>56.80</td>\n",
       "      <td>0.0</td>\n",
       "    </tr>\n",
       "    <tr>\n",
       "      <th>256</th>\n",
       "      <td>407.0</td>\n",
       "      <td>415.7</td>\n",
       "      <td>3</td>\n",
       "      <td>3</td>\n",
       "      <td>1.916</td>\n",
       "      <td>14.36</td>\n",
       "      <td>47.60</td>\n",
       "      <td>45.60</td>\n",
       "      <td>28.44</td>\n",
       "      <td>50.00</td>\n",
       "      <td>90.80</td>\n",
       "      <td>0.0</td>\n",
       "    </tr>\n",
       "    <tr>\n",
       "      <th>257</th>\n",
       "      <td>461.0</td>\n",
       "      <td>331.5</td>\n",
       "      <td>1</td>\n",
       "      <td>2</td>\n",
       "      <td>1.384</td>\n",
       "      <td>12.68</td>\n",
       "      <td>30.76</td>\n",
       "      <td>7.48</td>\n",
       "      <td>20.72</td>\n",
       "      <td>48.00</td>\n",
       "      <td>46.80</td>\n",
       "      <td>0.0</td>\n",
       "    </tr>\n",
       "    <tr>\n",
       "      <th>258</th>\n",
       "      <td>360.5</td>\n",
       "      <td>534.5</td>\n",
       "      <td>3</td>\n",
       "      <td>3</td>\n",
       "      <td>0.849</td>\n",
       "      <td>9.04</td>\n",
       "      <td>29.48</td>\n",
       "      <td>18.40</td>\n",
       "      <td>17.56</td>\n",
       "      <td>35.00</td>\n",
       "      <td>58.00</td>\n",
       "      <td>0.0</td>\n",
       "    </tr>\n",
       "  </tbody>\n",
       "</table>\n",
       "<p>259 rows × 12 columns</p>\n",
       "</div>"
      ],
      "text/plain": [
       "      Xloc   Yloc  Landuse  Rock     Cd     Co     Cr     Cu     Ni     Pb  \\\n",
       "0    238.6  307.7        3     3  1.740   9.32  38.32  25.72  21.32  77.36   \n",
       "1    254.4  197.2        2     2  1.335  10.00  40.20  24.76  29.72  77.88   \n",
       "2    280.7  334.7        2     3  1.610  10.60  47.00   8.88  21.40  30.80   \n",
       "3    430.8  193.3        3     2  2.150  11.92  43.52  22.70  29.72  56.40   \n",
       "4    438.3  108.1        3     5  1.565  16.32  38.52  34.32  26.20  66.40   \n",
       "..     ...    ...      ...   ...    ...    ...    ...    ...    ...    ...   \n",
       "254  428.3  327.8        3     2  0.844  13.88  37.12  21.04  26.48  34.68   \n",
       "255  353.0  499.9        1     1  0.490   7.44  34.52   4.64  16.76  31.64   \n",
       "256  407.0  415.7        3     3  1.916  14.36  47.60  45.60  28.44  50.00   \n",
       "257  461.0  331.5        1     2  1.384  12.68  30.76   7.48  20.72  48.00   \n",
       "258  360.5  534.5        3     3  0.849   9.04  29.48  18.40  17.56  35.00   \n",
       "\n",
       "        Zn  Cd2  \n",
       "0    92.56  0.0  \n",
       "1    73.56  0.0  \n",
       "2    64.80  0.0  \n",
       "3    90.00  0.0  \n",
       "4    88.40  0.0  \n",
       "..     ...  ...  \n",
       "254  90.00  0.0  \n",
       "255  56.80  0.0  \n",
       "256  90.80  0.0  \n",
       "257  46.80  0.0  \n",
       "258  58.00  0.0  \n",
       "\n",
       "[259 rows x 12 columns]"
      ]
     },
     "execution_count": 609,
     "metadata": {},
     "output_type": "execute_result"
    }
   ],
   "source": [
    "jura"
   ]
  },
  {
   "cell_type": "code",
   "execution_count": 616,
   "metadata": {},
   "outputs": [
    {
     "data": {
      "text/plain": [
       "<matplotlib.axes._subplots.AxesSubplot at 0x1ac61cff908>"
      ]
     },
     "execution_count": 616,
     "metadata": {},
     "output_type": "execute_result"
    },
    {
     "data": {
      "image/png": "[encoded data removed]",
      "text/plain": [
       "<Figure size 432x288 with 1 Axes>"
      ]
     },
     "metadata": {
      "needs_background": "light"
     },
     "output_type": "display_data"
    }
   ],
   "source": [
    "jura['Cd'].plot(kind='hist')"
   ]
  },
  {
   "cell_type": "code",
   "execution_count": 617,
   "metadata": {},
   "outputs": [
    {
     "data": {
      "text/plain": [
       "<matplotlib.axes._subplots.AxesSubplot at 0x1ac61e527c8>"
      ]
     },
     "execution_count": 617,
     "metadata": {},
     "output_type": "execute_result"
    },
    {
     "data": {
      "image/png": "[encoded data removed]",
      "text/plain": [
       "<Figure size 432x288 with 1 Axes>"
      ]
     },
     "metadata": {
      "needs_background": "light"
     },
     "output_type": "display_data"
    }
   ],
   "source": [
    "jura['Cr'].plot(kind='hist')"
   ]
  },
  {
   "cell_type": "code",
   "execution_count": 618,
   "metadata": {},
   "outputs": [
    {
     "data": {
      "text/plain": [
       "<matplotlib.axes._subplots.AxesSubplot at 0x1ac61e86408>"
      ]
     },
     "execution_count": 618,
     "metadata": {},
     "output_type": "execute_result"
    },
    {
     "data": {
      "image/png": "[encoded data removed]",
      "text/plain": [
       "<Figure size 432x288 with 1 Axes>"
      ]
     },
     "metadata": {
      "needs_background": "light"
     },
     "output_type": "display_data"
    }
   ],
   "source": [
    "jura['Pb'].plot(kind='hist')"
   ]
  },
  {
   "cell_type": "code",
   "execution_count": 621,
   "metadata": {},
   "outputs": [
    {
     "data": {
      "text/plain": [
       "<matplotlib.axes._subplots.AxesSubplot at 0x1ac61ef4888>"
      ]
     },
     "execution_count": 621,
     "metadata": {},
     "output_type": "execute_result"
    },
    {
     "data": {
      "image/png": "[encoded data removed]",
      "text/plain": [
       "<Figure size 432x288 with 1 Axes>"
      ]
     },
     "metadata": {
      "needs_background": "light"
     },
     "output_type": "display_data"
    }
   ],
   "source": [
    "jura.plot(kind='scatter',x='Cd',y='Zn')"
   ]
  },
  {
   "cell_type": "code",
   "execution_count": 622,
   "metadata": {},
   "outputs": [
    {
     "data": {
      "text/plain": [
       "<matplotlib.axes._subplots.AxesSubplot at 0x1ac609b4588>"
      ]
     },
     "execution_count": 622,
     "metadata": {},
     "output_type": "execute_result"
    },
    {
     "data": {
      "image/png": "[encoded data removed]",
      "text/plain": [
       "<Figure size 432x288 with 1 Axes>"
      ]
     },
     "metadata": {
      "needs_background": "light"
     },
     "output_type": "display_data"
    }
   ],
   "source": [
    "jura.plot(kind='scatter',x='Cr',y='Ni')"
   ]
  },
  {
   "cell_type": "code",
   "execution_count": 623,
   "metadata": {},
   "outputs": [
    {
     "data": {
      "text/plain": [
       "<matplotlib.axes._subplots.AxesSubplot at 0x1ac61fc7f08>"
      ]
     },
     "execution_count": 623,
     "metadata": {},
     "output_type": "execute_result"
    },
    {
     "data": {
      "image/png": "[encoded data removed]",
      "text/plain": [
       "<Figure size 432x288 with 1 Axes>"
      ]
     },
     "metadata": {
      "needs_background": "light"
     },
     "output_type": "display_data"
    }
   ],
   "source": [
    "jura.plot(kind='scatter',x='Cu',y='Co')"
   ]
  },
  {
   "cell_type": "code",
   "execution_count": 631,
   "metadata": {},
   "outputs": [
    {
     "data": {
      "image/png": "[encoded data removed]",
      "text/plain": [
       "<Figure size 1080x1080 with 64 Axes>"
      ]
     },
     "metadata": {
      "needs_background": "light"
     },
     "output_type": "display_data"
    }
   ],
   "source": [
    "fig=pd.plotting.scatter_matrix(jura.drop(columns=['Xloc','Yloc','Landuse','Rock']),figsize=(15,15))"
   ]
  },
  {
   "cell_type": "code",
   "execution_count": 645,
   "metadata": {},
   "outputs": [
    {
     "data": {
      "text/plain": [
       "<matplotlib.axes._subplots.AxesSubplot at 0x1ac652485c8>"
      ]
     },
     "execution_count": 645,
     "metadata": {},
     "output_type": "execute_result"
    },
    {
     "data": {
      "image/png": "[encoded data removed]",
      "text/plain": [
       "<Figure size 432x288 with 1 Axes>"
      ]
     },
     "metadata": {
      "needs_background": "light"
     },
     "output_type": "display_data"
    }
   ],
   "source": [
    "jura.plot(kind='box')"
   ]
  },
  {
   "cell_type": "code",
   "execution_count": 651,
   "metadata": {},
   "outputs": [
    {
     "data": {
      "text/plain": [
       "<matplotlib.axes._subplots.AxesSubplot at 0x1ac64dcf2c8>"
      ]
     },
     "execution_count": 651,
     "metadata": {},
     "output_type": "execute_result"
    },
    {
     "data": {
      "image/png": "[encoded data removed]",
      "text/plain": [
       "<Figure size 432x288 with 1 Axes>"
      ]
     },
     "metadata": {
      "needs_background": "light"
     },
     "output_type": "display_data"
    }
   ],
   "source": [
    "jura.plot(kind='area')"
   ]
  },
  {
   "cell_type": "code",
   "execution_count": null,
   "metadata": {},
   "outputs": [],
   "source": []
  },
  {
   "cell_type": "code",
   "execution_count": null,
   "metadata": {},
   "outputs": [],
   "source": []
  },
  {
   "cell_type": "code",
   "execution_count": null,
   "metadata": {},
   "outputs": [],
   "source": []
  },
  {
   "cell_type": "code",
   "execution_count": 705,
   "metadata": {},
   "outputs": [],
   "source": [
    "def add_coord(grid):\n",
    "    ox= grid['ox']\n",
    "    oy= grid['oy']\n",
    "    nx= grid['nx']\n",
    "    ny= grid['ny']\n",
    "    sx= grid['sx']\n",
    "    sy= grid['sy']\n",
    "    \n",
    "    x_coords=np.arange(ox, ox+nx*sx, sx)\n",
    "    y_coords=np.arange(oy, oy+ny*sy, sy)\n",
    "    \n",
    "    coords_array=[]\n",
    "    for x,y in itertools.product(x_coords,y_coords):\n",
    "        coords_array.append([x,y])\n",
    "        return np.array(coords_array)\n",
    "    "
   ]
  },
  {
   "cell_type": "code",
   "execution_count": 762,
   "metadata": {},
   "outputs": [],
   "source": [
    "walker=pd.read_csv ('C:/Users/lpm/Documents/GitHub/curso/curso_python-master/Notebooks/data/walker.csv',na_values=-999)"
   ]
  },
  {
   "cell_type": "code",
   "execution_count": 763,
   "metadata": {},
   "outputs": [
    {
     "data": {
      "text/html": [
       "<div>\n",
       "<style scoped>\n",
       "    .dataframe tbody tr th:only-of-type {\n",
       "        vertical-align: middle;\n",
       "    }\n",
       "\n",
       "    .dataframe tbody tr th {\n",
       "        vertical-align: top;\n",
       "    }\n",
       "\n",
       "    .dataframe thead th {\n",
       "        text-align: right;\n",
       "    }\n",
       "</style>\n",
       "<table border=\"1\" class=\"dataframe\">\n",
       "  <thead>\n",
       "    <tr style=\"text-align: right;\">\n",
       "      <th></th>\n",
       "      <th>Id</th>\n",
       "      <th>X</th>\n",
       "      <th>Y</th>\n",
       "      <th>V</th>\n",
       "      <th>U</th>\n",
       "      <th>T</th>\n",
       "    </tr>\n",
       "  </thead>\n",
       "  <tbody>\n",
       "    <tr>\n",
       "      <th>0</th>\n",
       "      <td>1.0</td>\n",
       "      <td>11.0</td>\n",
       "      <td>8.0</td>\n",
       "      <td>0.0</td>\n",
       "      <td>NaN</td>\n",
       "      <td>2.0</td>\n",
       "    </tr>\n",
       "    <tr>\n",
       "      <th>1</th>\n",
       "      <td>2.0</td>\n",
       "      <td>8.0</td>\n",
       "      <td>30.0</td>\n",
       "      <td>0.0</td>\n",
       "      <td>NaN</td>\n",
       "      <td>2.0</td>\n",
       "    </tr>\n",
       "    <tr>\n",
       "      <th>2</th>\n",
       "      <td>3.0</td>\n",
       "      <td>9.0</td>\n",
       "      <td>48.0</td>\n",
       "      <td>224.4</td>\n",
       "      <td>NaN</td>\n",
       "      <td>2.0</td>\n",
       "    </tr>\n",
       "    <tr>\n",
       "      <th>3</th>\n",
       "      <td>4.0</td>\n",
       "      <td>8.0</td>\n",
       "      <td>69.0</td>\n",
       "      <td>434.4</td>\n",
       "      <td>NaN</td>\n",
       "      <td>2.0</td>\n",
       "    </tr>\n",
       "    <tr>\n",
       "      <th>4</th>\n",
       "      <td>5.0</td>\n",
       "      <td>9.0</td>\n",
       "      <td>90.0</td>\n",
       "      <td>412.1</td>\n",
       "      <td>NaN</td>\n",
       "      <td>2.0</td>\n",
       "    </tr>\n",
       "    <tr>\n",
       "      <th>...</th>\n",
       "      <td>...</td>\n",
       "      <td>...</td>\n",
       "      <td>...</td>\n",
       "      <td>...</td>\n",
       "      <td>...</td>\n",
       "      <td>...</td>\n",
       "    </tr>\n",
       "    <tr>\n",
       "      <th>465</th>\n",
       "      <td>466.0</td>\n",
       "      <td>214.0</td>\n",
       "      <td>19.0</td>\n",
       "      <td>242.5</td>\n",
       "      <td>15.6</td>\n",
       "      <td>2.0</td>\n",
       "    </tr>\n",
       "    <tr>\n",
       "      <th>466</th>\n",
       "      <td>467.0</td>\n",
       "      <td>245.0</td>\n",
       "      <td>231.0</td>\n",
       "      <td>161.2</td>\n",
       "      <td>26.1</td>\n",
       "      <td>2.0</td>\n",
       "    </tr>\n",
       "    <tr>\n",
       "      <th>467</th>\n",
       "      <td>468.0</td>\n",
       "      <td>233.0</td>\n",
       "      <td>220.0</td>\n",
       "      <td>626.0</td>\n",
       "      <td>959.7</td>\n",
       "      <td>2.0</td>\n",
       "    </tr>\n",
       "    <tr>\n",
       "      <th>468</th>\n",
       "      <td>469.0</td>\n",
       "      <td>226.0</td>\n",
       "      <td>221.0</td>\n",
       "      <td>800.1</td>\n",
       "      <td>1681.5</td>\n",
       "      <td>2.0</td>\n",
       "    </tr>\n",
       "    <tr>\n",
       "      <th>469</th>\n",
       "      <td>470.0</td>\n",
       "      <td>213.0</td>\n",
       "      <td>218.0</td>\n",
       "      <td>482.6</td>\n",
       "      <td>476.2</td>\n",
       "      <td>2.0</td>\n",
       "    </tr>\n",
       "  </tbody>\n",
       "</table>\n",
       "<p>470 rows × 6 columns</p>\n",
       "</div>"
      ],
      "text/plain": [
       "        Id      X      Y      V       U    T\n",
       "0      1.0   11.0    8.0    0.0     NaN  2.0\n",
       "1      2.0    8.0   30.0    0.0     NaN  2.0\n",
       "2      3.0    9.0   48.0  224.4     NaN  2.0\n",
       "3      4.0    8.0   69.0  434.4     NaN  2.0\n",
       "4      5.0    9.0   90.0  412.1     NaN  2.0\n",
       "..     ...    ...    ...    ...     ...  ...\n",
       "465  466.0  214.0   19.0  242.5    15.6  2.0\n",
       "466  467.0  245.0  231.0  161.2    26.1  2.0\n",
       "467  468.0  233.0  220.0  626.0   959.7  2.0\n",
       "468  469.0  226.0  221.0  800.1  1681.5  2.0\n",
       "469  470.0  213.0  218.0  482.6   476.2  2.0\n",
       "\n",
       "[470 rows x 6 columns]"
      ]
     },
     "execution_count": 763,
     "metadata": {},
     "output_type": "execute_result"
    }
   ],
   "source": [
    "walker"
   ]
  },
  {
   "cell_type": "code",
   "execution_count": 764,
   "metadata": {},
   "outputs": [
    {
     "data": {
      "text/html": [
       "<div>\n",
       "<style scoped>\n",
       "    .dataframe tbody tr th:only-of-type {\n",
       "        vertical-align: middle;\n",
       "    }\n",
       "\n",
       "    .dataframe tbody tr th {\n",
       "        vertical-align: top;\n",
       "    }\n",
       "\n",
       "    .dataframe thead th {\n",
       "        text-align: right;\n",
       "    }\n",
       "</style>\n",
       "<table border=\"1\" class=\"dataframe\">\n",
       "  <thead>\n",
       "    <tr style=\"text-align: right;\">\n",
       "      <th></th>\n",
       "      <th>Id</th>\n",
       "      <th>X</th>\n",
       "      <th>Y</th>\n",
       "      <th>V</th>\n",
       "      <th>U</th>\n",
       "      <th>T</th>\n",
       "    </tr>\n",
       "  </thead>\n",
       "  <tbody>\n",
       "    <tr>\n",
       "      <th>0</th>\n",
       "      <td>1.0</td>\n",
       "      <td>11.0</td>\n",
       "      <td>8.0</td>\n",
       "      <td>0.0</td>\n",
       "      <td>NaN</td>\n",
       "      <td>2.0</td>\n",
       "    </tr>\n",
       "    <tr>\n",
       "      <th>1</th>\n",
       "      <td>2.0</td>\n",
       "      <td>8.0</td>\n",
       "      <td>30.0</td>\n",
       "      <td>0.0</td>\n",
       "      <td>NaN</td>\n",
       "      <td>2.0</td>\n",
       "    </tr>\n",
       "    <tr>\n",
       "      <th>2</th>\n",
       "      <td>3.0</td>\n",
       "      <td>9.0</td>\n",
       "      <td>48.0</td>\n",
       "      <td>224.4</td>\n",
       "      <td>NaN</td>\n",
       "      <td>2.0</td>\n",
       "    </tr>\n",
       "    <tr>\n",
       "      <th>3</th>\n",
       "      <td>4.0</td>\n",
       "      <td>8.0</td>\n",
       "      <td>69.0</td>\n",
       "      <td>434.4</td>\n",
       "      <td>NaN</td>\n",
       "      <td>2.0</td>\n",
       "    </tr>\n",
       "    <tr>\n",
       "      <th>4</th>\n",
       "      <td>5.0</td>\n",
       "      <td>9.0</td>\n",
       "      <td>90.0</td>\n",
       "      <td>412.1</td>\n",
       "      <td>NaN</td>\n",
       "      <td>2.0</td>\n",
       "    </tr>\n",
       "    <tr>\n",
       "      <th>5</th>\n",
       "      <td>6.0</td>\n",
       "      <td>10.0</td>\n",
       "      <td>110.0</td>\n",
       "      <td>587.2</td>\n",
       "      <td>NaN</td>\n",
       "      <td>2.0</td>\n",
       "    </tr>\n",
       "    <tr>\n",
       "      <th>6</th>\n",
       "      <td>7.0</td>\n",
       "      <td>9.0</td>\n",
       "      <td>129.0</td>\n",
       "      <td>192.3</td>\n",
       "      <td>NaN</td>\n",
       "      <td>2.0</td>\n",
       "    </tr>\n",
       "    <tr>\n",
       "      <th>7</th>\n",
       "      <td>8.0</td>\n",
       "      <td>11.0</td>\n",
       "      <td>150.0</td>\n",
       "      <td>31.3</td>\n",
       "      <td>NaN</td>\n",
       "      <td>2.0</td>\n",
       "    </tr>\n",
       "    <tr>\n",
       "      <th>8</th>\n",
       "      <td>9.0</td>\n",
       "      <td>10.0</td>\n",
       "      <td>170.0</td>\n",
       "      <td>388.5</td>\n",
       "      <td>NaN</td>\n",
       "      <td>2.0</td>\n",
       "    </tr>\n",
       "    <tr>\n",
       "      <th>9</th>\n",
       "      <td>10.0</td>\n",
       "      <td>8.0</td>\n",
       "      <td>188.0</td>\n",
       "      <td>174.6</td>\n",
       "      <td>NaN</td>\n",
       "      <td>2.0</td>\n",
       "    </tr>\n",
       "  </tbody>\n",
       "</table>\n",
       "</div>"
      ],
      "text/plain": [
       "     Id     X      Y      V   U    T\n",
       "0   1.0  11.0    8.0    0.0 NaN  2.0\n",
       "1   2.0   8.0   30.0    0.0 NaN  2.0\n",
       "2   3.0   9.0   48.0  224.4 NaN  2.0\n",
       "3   4.0   8.0   69.0  434.4 NaN  2.0\n",
       "4   5.0   9.0   90.0  412.1 NaN  2.0\n",
       "5   6.0  10.0  110.0  587.2 NaN  2.0\n",
       "6   7.0   9.0  129.0  192.3 NaN  2.0\n",
       "7   8.0  11.0  150.0   31.3 NaN  2.0\n",
       "8   9.0  10.0  170.0  388.5 NaN  2.0\n",
       "9  10.0   8.0  188.0  174.6 NaN  2.0"
      ]
     },
     "execution_count": 764,
     "metadata": {},
     "output_type": "execute_result"
    }
   ],
   "source": [
    "walker.head(10)"
   ]
  },
  {
   "cell_type": "code",
   "execution_count": 765,
   "metadata": {},
   "outputs": [
    {
     "data": {
      "text/html": [
       "<div>\n",
       "<style scoped>\n",
       "    .dataframe tbody tr th:only-of-type {\n",
       "        vertical-align: middle;\n",
       "    }\n",
       "\n",
       "    .dataframe tbody tr th {\n",
       "        vertical-align: top;\n",
       "    }\n",
       "\n",
       "    .dataframe thead th {\n",
       "        text-align: right;\n",
       "    }\n",
       "</style>\n",
       "<table border=\"1\" class=\"dataframe\">\n",
       "  <thead>\n",
       "    <tr style=\"text-align: right;\">\n",
       "      <th></th>\n",
       "      <th>Id</th>\n",
       "      <th>X</th>\n",
       "      <th>Y</th>\n",
       "      <th>V</th>\n",
       "      <th>U</th>\n",
       "      <th>T</th>\n",
       "    </tr>\n",
       "  </thead>\n",
       "  <tbody>\n",
       "    <tr>\n",
       "      <th>10</th>\n",
       "      <td>11.0</td>\n",
       "      <td>9.0</td>\n",
       "      <td>209.0</td>\n",
       "      <td>187.8</td>\n",
       "      <td>NaN</td>\n",
       "      <td>2.0</td>\n",
       "    </tr>\n",
       "    <tr>\n",
       "      <th>11</th>\n",
       "      <td>12.0</td>\n",
       "      <td>10.0</td>\n",
       "      <td>231.0</td>\n",
       "      <td>82.1</td>\n",
       "      <td>NaN</td>\n",
       "      <td>1.0</td>\n",
       "    </tr>\n",
       "  </tbody>\n",
       "</table>\n",
       "</div>"
      ],
      "text/plain": [
       "      Id     X      Y      V   U    T\n",
       "10  11.0   9.0  209.0  187.8 NaN  2.0\n",
       "11  12.0  10.0  231.0   82.1 NaN  1.0"
      ]
     },
     "execution_count": 765,
     "metadata": {},
     "output_type": "execute_result"
    }
   ],
   "source": [
    "walker.loc[10:11]"
   ]
  },
  {
   "cell_type": "code",
   "execution_count": 766,
   "metadata": {},
   "outputs": [],
   "source": [
    "grid={'ox':0,'oy':0,'nx':10,'ny':10,'sx':2,'sy':2 }"
   ]
  },
  {
   "cell_type": "code",
   "execution_count": 767,
   "metadata": {},
   "outputs": [],
   "source": [
    "def auto_grid(x,y,sx,sy):\n",
    "    nx=int((x.max()-x.min()/sx))\n",
    "    ny=int((y.max()-y.min()/sy))\n",
    "    ox=x.min()\n",
    "    oy=y.min()\n",
    "    \n",
    "    return {'ox':ox,'oy':oy,'nx':nx,'ny':ny,'sx':sx,'sy':sy}"
   ]
  },
  {
   "cell_type": "code",
   "execution_count": 768,
   "metadata": {},
   "outputs": [],
   "source": [
    "g = auto_grid(walker.X, walker.Y,5,5)"
   ]
  },
  {
   "cell_type": "code",
   "execution_count": 769,
   "metadata": {},
   "outputs": [],
   "source": [
    "coords = add_coord(g)"
   ]
  },
  {
   "cell_type": "code",
   "execution_count": 770,
   "metadata": {},
   "outputs": [
    {
     "data": {
      "text/plain": [
       "array([[8., 8.]])"
      ]
     },
     "execution_count": 770,
     "metadata": {},
     "output_type": "execute_result"
    }
   ],
   "source": [
    "coords"
   ]
  },
  {
   "cell_type": "code",
   "execution_count": 771,
   "metadata": {},
   "outputs": [],
   "source": [
    "from scipy.interpolate import Rbf"
   ]
  },
  {
   "cell_type": "code",
   "execution_count": 772,
   "metadata": {},
   "outputs": [],
   "source": [
    "rfbi = Rbf(walker.X,\n",
    "          walker.Y,\n",
    "          np.zeros(len(walker.Y)),\n",
    "          walker.V,\n",
    "          function='multiquadric',\n",
    "          smooth=1)"
   ]
  },
  {
   "cell_type": "code",
   "execution_count": 773,
   "metadata": {},
   "outputs": [],
   "source": [
    "results=rfbi(coords.T[0],coords.T[1], np.zeros(len(coords.T[0])))"
   ]
  },
  {
   "cell_type": "code",
   "execution_count": 774,
   "metadata": {},
   "outputs": [],
   "source": [
    "def pixelplot(grid,values):\n",
    "    values= values.reshape(grid['ny'],grid['nx'],order='F')\n",
    "    plt.figure(figsize=(8,8))\n",
    "    plt.imshow(values,origin='lower')\n",
    "    plt.colorbar()\n",
    "    plt.show()\n",
    "    return"
   ]
  },
  {
   "cell_type": "code",
   "execution_count": null,
   "metadata": {},
   "outputs": [],
   "source": []
  },
  {
   "cell_type": "code",
   "execution_count": 775,
   "metadata": {},
   "outputs": [],
   "source": [
    "p=walker[\"X\"]"
   ]
  },
  {
   "cell_type": "code",
   "execution_count": 776,
   "metadata": {},
   "outputs": [
    {
     "data": {
      "text/plain": [
       "0       11.0\n",
       "1        8.0\n",
       "2        9.0\n",
       "3        8.0\n",
       "4        9.0\n",
       "       ...  \n",
       "465    214.0\n",
       "466    245.0\n",
       "467    233.0\n",
       "468    226.0\n",
       "469    213.0\n",
       "Name: X, Length: 470, dtype: float64"
      ]
     },
     "execution_count": 776,
     "metadata": {},
     "output_type": "execute_result"
    }
   ],
   "source": [
    "p"
   ]
  },
  {
   "cell_type": "code",
   "execution_count": 777,
   "metadata": {},
   "outputs": [],
   "source": [
    "t=walker[\"Y\"]"
   ]
  },
  {
   "cell_type": "code",
   "execution_count": 778,
   "metadata": {},
   "outputs": [
    {
     "data": {
      "text/plain": [
       "0        8.0\n",
       "1       30.0\n",
       "2       48.0\n",
       "3       69.0\n",
       "4       90.0\n",
       "       ...  \n",
       "465     19.0\n",
       "466    231.0\n",
       "467    220.0\n",
       "468    221.0\n",
       "469    218.0\n",
       "Name: Y, Length: 470, dtype: float64"
      ]
     },
     "execution_count": 778,
     "metadata": {},
     "output_type": "execute_result"
    }
   ],
   "source": [
    "t"
   ]
  },
  {
   "cell_type": "code",
   "execution_count": null,
   "metadata": {},
   "outputs": [],
   "source": []
  },
  {
   "cell_type": "code",
   "execution_count": 779,
   "metadata": {},
   "outputs": [],
   "source": [
    "g = np.stack((p,t),1)"
   ]
  },
  {
   "cell_type": "code",
   "execution_count": 780,
   "metadata": {},
   "outputs": [
    {
     "data": {
      "text/plain": [
       "array([[ 11.,   8.],\n",
       "       [  8.,  30.],\n",
       "       [  9.,  48.],\n",
       "       [  8.,  69.],\n",
       "       [  9.,  90.],\n",
       "       [ 10., 110.],\n",
       "       [  9., 129.],\n",
       "       [ 11., 150.],\n",
       "       [ 10., 170.],\n",
       "       [  8., 188.],\n",
       "       [  9., 209.],\n",
       "       [ 10., 231.],\n",
       "       [ 11., 250.],\n",
       "       [ 10., 269.],\n",
       "       [  8., 288.],\n",
       "       [ 31.,  11.],\n",
       "       [ 29.,  29.],\n",
       "       [ 28.,  51.],\n",
       "       [ 31.,  68.],\n",
       "       [ 28.,  88.],\n",
       "       [ 30., 110.],\n",
       "       [ 28., 130.],\n",
       "       [ 28., 150.],\n",
       "       [ 30., 171.],\n",
       "       [ 28., 190.],\n",
       "       [ 31., 209.],\n",
       "       [ 28., 229.],\n",
       "       [ 30., 250.],\n",
       "       [ 31., 269.],\n",
       "       [ 31., 289.],\n",
       "       [ 49.,  11.],\n",
       "       [ 49.,  29.],\n",
       "       [ 51.,  48.],\n",
       "       [ 49.,  68.],\n",
       "       [ 50.,  88.],\n",
       "       [ 51., 109.],\n",
       "       [ 48., 129.],\n",
       "       [ 49., 151.],\n",
       "       [ 51., 168.],\n",
       "       [ 48., 190.],\n",
       "       [ 50., 211.],\n",
       "       [ 49., 231.],\n",
       "       [ 51., 250.],\n",
       "       [ 50., 268.],\n",
       "       [ 51., 290.],\n",
       "       [ 71.,   9.],\n",
       "       [ 71.,  29.],\n",
       "       [ 70.,  51.],\n",
       "       [ 68.,  70.],\n",
       "       [ 69.,  90.],\n",
       "       [ 68., 110.],\n",
       "       [ 68., 128.],\n",
       "       [ 69., 148.],\n",
       "       [ 69., 169.],\n",
       "       [ 70., 191.],\n",
       "       [ 69., 208.],\n",
       "       [ 69., 229.],\n",
       "       [ 68., 250.],\n",
       "       [ 71., 268.],\n",
       "       [ 71., 288.],\n",
       "       [ 91.,  11.],\n",
       "       [ 91.,  29.],\n",
       "       [ 90.,  49.],\n",
       "       [ 91.,  68.],\n",
       "       [ 91.,  91.],\n",
       "       [ 91., 111.],\n",
       "       [ 89., 130.],\n",
       "       [ 88., 149.],\n",
       "       [ 89., 170.],\n",
       "       [ 89., 188.],\n",
       "       [ 90., 211.],\n",
       "       [ 90., 230.],\n",
       "       [ 88., 249.],\n",
       "       [ 88., 269.],\n",
       "       [ 88., 288.],\n",
       "       [109.,  11.],\n",
       "       [111.,  31.],\n",
       "       [108.,  49.],\n",
       "       [109.,  68.],\n",
       "       [108.,  88.],\n",
       "       [110., 109.],\n",
       "       [109., 129.],\n",
       "       [110., 148.],\n",
       "       [111., 169.],\n",
       "       [111., 191.],\n",
       "       [110., 208.],\n",
       "       [109., 230.],\n",
       "       [109., 249.],\n",
       "       [109., 268.],\n",
       "       [111., 291.],\n",
       "       [130.,   9.],\n",
       "       [131.,  31.],\n",
       "       [130.,  48.],\n",
       "       [128.,  70.],\n",
       "       [129.,  90.],\n",
       "       [131., 109.],\n",
       "       [129., 128.],\n",
       "       [131., 148.],\n",
       "       [131., 169.],\n",
       "       [129., 191.],\n",
       "       [128., 209.],\n",
       "       [130., 231.],\n",
       "       [131., 248.],\n",
       "       [128., 269.],\n",
       "       [131., 288.],\n",
       "       [148.,   8.],\n",
       "       [149.,  29.],\n",
       "       [150.,  49.],\n",
       "       [151.,  69.],\n",
       "       [150.,  89.],\n",
       "       [150., 109.],\n",
       "       [150., 129.],\n",
       "       [150., 151.],\n",
       "       [149., 169.],\n",
       "       [151., 190.],\n",
       "       [148., 208.],\n",
       "       [150., 228.],\n",
       "       [149., 251.],\n",
       "       [149., 271.],\n",
       "       [148., 291.],\n",
       "       [168.,   8.],\n",
       "       [171.,  29.],\n",
       "       [169.,  49.],\n",
       "       [168.,  69.],\n",
       "       [168.,  91.],\n",
       "       [171., 109.],\n",
       "       [168., 131.],\n",
       "       [171., 150.],\n",
       "       [171., 171.],\n",
       "       [169., 191.],\n",
       "       [170., 210.],\n",
       "       [170., 230.],\n",
       "       [169., 249.],\n",
       "       [168., 271.],\n",
       "       [168., 290.],\n",
       "       [190.,  11.],\n",
       "       [191.,  28.],\n",
       "       [191.,  48.],\n",
       "       [190.,  69.],\n",
       "       [190.,  89.],\n",
       "       [188., 111.],\n",
       "       [191., 129.],\n",
       "       [189., 149.],\n",
       "       [190., 169.],\n",
       "       [190., 189.],\n",
       "       [188., 210.],\n",
       "       [191., 231.],\n",
       "       [190., 248.],\n",
       "       [189., 270.],\n",
       "       [189., 290.],\n",
       "       [211.,  11.],\n",
       "       [209.,  30.],\n",
       "       [211.,  49.],\n",
       "       [210.,  70.],\n",
       "       [209.,  90.],\n",
       "       [210., 111.],\n",
       "       [211., 130.],\n",
       "       [208., 151.],\n",
       "       [209., 168.],\n",
       "       [208., 191.],\n",
       "       [210., 211.],\n",
       "       [211., 228.],\n",
       "       [211., 250.],\n",
       "       [208., 268.],\n",
       "       [208., 289.],\n",
       "       [231.,  10.],\n",
       "       [231.,  28.],\n",
       "       [230.,  50.],\n",
       "       [230.,  71.],\n",
       "       [229.,  91.],\n",
       "       [229., 110.],\n",
       "       [230., 131.],\n",
       "       [228., 148.],\n",
       "       [229., 169.],\n",
       "       [231., 191.],\n",
       "       [231., 208.],\n",
       "       [229., 228.],\n",
       "       [231., 249.],\n",
       "       [231., 268.],\n",
       "       [230., 291.],\n",
       "       [249.,   9.],\n",
       "       [250.,  30.],\n",
       "       [249.,  48.],\n",
       "       [251.,  69.],\n",
       "       [251.,  91.],\n",
       "       [248., 109.],\n",
       "       [249., 130.],\n",
       "       [248., 150.],\n",
       "       [250., 169.],\n",
       "       [250., 190.],\n",
       "       [251., 208.],\n",
       "       [251., 229.],\n",
       "       [249., 251.],\n",
       "       [248., 270.],\n",
       "       [250., 291.],\n",
       "       [ 40.,  71.],\n",
       "       [ 21.,  69.],\n",
       "       [ 28.,  80.],\n",
       "       [ 29.,  59.],\n",
       "       [ 41.,  81.],\n",
       "       [ 18.,  80.],\n",
       "       [ 39.,  60.],\n",
       "       [ 18.,  60.],\n",
       "       [ 41.,  90.],\n",
       "       [ 21.,  90.],\n",
       "       [ 31., 101.],\n",
       "       [ 41., 100.],\n",
       "       [ 21., 100.],\n",
       "       [ 60.,   8.],\n",
       "       [ 40.,  11.],\n",
       "       [ 51.,  18.],\n",
       "       [ 59.,  20.],\n",
       "       [ 41.,  21.],\n",
       "       [ 59.,  90.],\n",
       "       [ 51., 101.],\n",
       "       [ 50.,  81.],\n",
       "       [ 59., 101.],\n",
       "       [ 60.,  81.],\n",
       "       [ 60., 151.],\n",
       "       [ 38., 148.],\n",
       "       [ 50., 160.],\n",
       "       [ 50., 138.],\n",
       "       [ 61., 158.],\n",
       "       [ 39., 160.],\n",
       "       [ 61., 139.],\n",
       "       [ 38., 140.],\n",
       "       [ 61., 170.],\n",
       "       [ 39., 170.],\n",
       "       [ 49., 179.],\n",
       "       [ 58., 179.],\n",
       "       [ 39., 181.],\n",
       "       [ 60., 191.],\n",
       "       [ 40., 190.],\n",
       "       [ 51., 198.],\n",
       "       [ 60., 198.],\n",
       "       [ 40., 200.],\n",
       "       [ 58., 208.],\n",
       "       [ 38., 209.],\n",
       "       [ 50., 221.],\n",
       "       [ 61., 220.],\n",
       "       [ 39., 221.],\n",
       "       [ 59., 268.],\n",
       "       [ 41., 271.],\n",
       "       [ 49., 278.],\n",
       "       [ 51., 260.],\n",
       "       [ 59., 281.],\n",
       "       [ 39., 279.],\n",
       "       [ 59., 258.],\n",
       "       [ 38., 260.],\n",
       "       [ 78.,  28.],\n",
       "       [ 60.,  29.],\n",
       "       [ 70.,  41.],\n",
       "       [ 70.,  21.],\n",
       "       [ 78.,  41.],\n",
       "       [ 61.,  41.],\n",
       "       [ 78.,  20.],\n",
       "       [ 80., 131.],\n",
       "       [ 58., 128.],\n",
       "       [ 71., 140.],\n",
       "       [ 70., 121.],\n",
       "       [ 79., 138.],\n",
       "       [ 80., 119.],\n",
       "       [ 61., 121.],\n",
       "       [ 79., 149.],\n",
       "       [ 71., 160.],\n",
       "       [ 78., 159.],\n",
       "       [ 80., 168.],\n",
       "       [ 69., 181.],\n",
       "       [ 79., 181.],\n",
       "       [ 80., 188.],\n",
       "       [ 70., 198.],\n",
       "       [ 81., 200.],\n",
       "       [100.,  48.],\n",
       "       [ 80.,  49.],\n",
       "       [ 90.,  58.],\n",
       "       [ 88.,  39.],\n",
       "       [100.,  60.],\n",
       "       [ 80.,  59.],\n",
       "       [101.,  38.],\n",
       "       [101.,  68.],\n",
       "       [ 79.,  70.],\n",
       "       [ 90.,  79.],\n",
       "       [100.,  78.],\n",
       "       [ 81.,  81.],\n",
       "       [100.,  91.],\n",
       "       [ 80.,  89.],\n",
       "       [ 91.,  99.],\n",
       "       [101., 100.],\n",
       "       [ 81.,  98.],\n",
       "       [ 98., 111.],\n",
       "       [ 81., 108.],\n",
       "       [ 90., 120.],\n",
       "       [100., 118.],\n",
       "       [ 98., 130.],\n",
       "       [ 90., 140.],\n",
       "       [ 90., 138.],\n",
       "       [121., 131.],\n",
       "       [111., 140.],\n",
       "       [108., 121.],\n",
       "       [120., 141.],\n",
       "       [119., 118.],\n",
       "       [158., 228.],\n",
       "       [140., 229.],\n",
       "       [150., 241.],\n",
       "       [151., 218.],\n",
       "       [161., 241.],\n",
       "       [141., 240.],\n",
       "       [160., 218.],\n",
       "       [139., 220.],\n",
       "       [178., 211.],\n",
       "       [159., 209.],\n",
       "       [169., 221.],\n",
       "       [170., 198.],\n",
       "       [180., 218.],\n",
       "       [178., 201.],\n",
       "       [158., 198.],\n",
       "       [219.,  88.],\n",
       "       [198.,  90.],\n",
       "       [211., 100.],\n",
       "       [208.,  80.],\n",
       "       [221.,  99.],\n",
       "       [199.,  98.],\n",
       "       [220.,  81.],\n",
       "       [198.,  78.],\n",
       "       [220., 150.],\n",
       "       [200., 150.],\n",
       "       [208., 159.],\n",
       "       [210., 140.],\n",
       "       [221., 160.],\n",
       "       [198., 161.],\n",
       "       [219., 139.],\n",
       "       [200., 139.],\n",
       "       [239.,   8.],\n",
       "       [218.,   8.],\n",
       "       [229.,  19.],\n",
       "       [239.,  18.],\n",
       "       [218.,  18.],\n",
       "       [238., 229.],\n",
       "       [218., 228.],\n",
       "       [231., 239.],\n",
       "       [230., 221.],\n",
       "       [240., 239.],\n",
       "       [221., 241.],\n",
       "       [239., 220.],\n",
       "       [218., 218.],\n",
       "       [ 35.,  71.],\n",
       "       [ 24.,  71.],\n",
       "       [ 34.,  88.],\n",
       "       [ 23.,  91.],\n",
       "       [ 54.,  10.],\n",
       "       [ 46.,  11.],\n",
       "       [ 55.,  89.],\n",
       "       [ 45.,  89.],\n",
       "       [ 53., 150.],\n",
       "       [ 46., 148.],\n",
       "       [ 55., 168.],\n",
       "       [ 43., 170.],\n",
       "       [ 55., 191.],\n",
       "       [ 44., 191.],\n",
       "       [ 55., 211.],\n",
       "       [ 46., 211.],\n",
       "       [ 54., 269.],\n",
       "       [ 43., 271.],\n",
       "       [ 73.,  29.],\n",
       "       [ 64.,  31.],\n",
       "       [ 75., 129.],\n",
       "       [ 64., 129.],\n",
       "       [ 73., 149.],\n",
       "       [ 64., 151.],\n",
       "       [ 75., 171.],\n",
       "       [ 63., 168.],\n",
       "       [ 73., 188.],\n",
       "       [ 64., 191.],\n",
       "       [ 93.,  48.],\n",
       "       [ 86.,  48.],\n",
       "       [ 93.,  70.],\n",
       "       [ 84.,  69.],\n",
       "       [ 93.,  90.],\n",
       "       [ 86.,  89.],\n",
       "       [ 96., 111.],\n",
       "       [ 85., 108.],\n",
       "       [ 93., 131.],\n",
       "       [ 86., 131.],\n",
       "       [114., 131.],\n",
       "       [106., 130.],\n",
       "       [155., 229.],\n",
       "       [145., 230.],\n",
       "       [174., 208.],\n",
       "       [166., 211.],\n",
       "       [215.,  89.],\n",
       "       [205.,  89.],\n",
       "       [215., 148.],\n",
       "       [204., 151.],\n",
       "       [236.,   9.],\n",
       "       [223.,   9.],\n",
       "       [236., 229.],\n",
       "       [226., 230.],\n",
       "       [ 35.,  80.],\n",
       "       [ 24.,  79.],\n",
       "       [ 36.,  61.],\n",
       "       [ 26.,  58.],\n",
       "       [ 16.,  80.],\n",
       "       [ 43.,  60.],\n",
       "       [ 15.,  88.],\n",
       "       [ 46.,  99.],\n",
       "       [ 36.,  99.],\n",
       "       [ 54.,  80.],\n",
       "       [ 46.,  81.],\n",
       "       [ 54., 161.],\n",
       "       [ 43., 161.],\n",
       "       [ 65., 160.],\n",
       "       [ 33., 160.],\n",
       "       [ 36., 170.],\n",
       "       [ 53., 179.],\n",
       "       [ 44., 180.],\n",
       "       [ 65., 181.],\n",
       "       [ 34., 180.],\n",
       "       [ 33., 191.],\n",
       "       [ 55., 199.],\n",
       "       [ 46., 198.],\n",
       "       [ 63., 201.],\n",
       "       [ 34., 201.],\n",
       "       [ 65., 210.],\n",
       "       [ 35., 208.],\n",
       "       [ 46., 220.],\n",
       "       [ 36., 219.],\n",
       "       [ 35., 217.],\n",
       "       [ 53., 258.],\n",
       "       [ 46., 260.],\n",
       "       [ 45., 281.],\n",
       "       [ 35., 278.],\n",
       "       [ 35., 259.],\n",
       "       [ 84.,  30.],\n",
       "       [ 84.,  41.],\n",
       "       [ 75.,  40.],\n",
       "       [ 73., 141.],\n",
       "       [ 63., 140.],\n",
       "       [ 84., 138.],\n",
       "       [ 76., 159.],\n",
       "       [ 84., 161.],\n",
       "       [ 86., 169.],\n",
       "       [ 73., 199.],\n",
       "       [ 76.,  51.],\n",
       "       [ 94.,  61.],\n",
       "       [ 85.,  60.],\n",
       "       [104.,  38.],\n",
       "       [ 93.,  41.],\n",
       "       [ 75.,  90.],\n",
       "       [ 94., 101.],\n",
       "       [ 85., 100.],\n",
       "       [104., 109.],\n",
       "       [ 75., 110.],\n",
       "       [ 95., 121.],\n",
       "       [ 83., 119.],\n",
       "       [ 94., 140.],\n",
       "       [103., 139.],\n",
       "       [114., 120.],\n",
       "       [104., 118.],\n",
       "       [196.,  91.],\n",
       "       [215., 101.],\n",
       "       [204., 101.],\n",
       "       [196., 101.],\n",
       "       [195., 149.],\n",
       "       [216.,  11.],\n",
       "       [225.,  19.],\n",
       "       [214.,  19.],\n",
       "       [245., 231.],\n",
       "       [233., 220.],\n",
       "       [226., 221.],\n",
       "       [213., 218.]])"
      ]
     },
     "execution_count": 780,
     "metadata": {},
     "output_type": "execute_result"
    }
   ],
   "source": [
    "g"
   ]
  },
  {
   "cell_type": "code",
   "execution_count": null,
   "metadata": {},
   "outputs": [],
   "source": [
    "def n_closest(x,y,gridnode,n):\n",
    "    x=np.random.randint(0,10,20)\n",
    "    y=np.random.randint(0,10,20)\n",
    "    samples_coords=np.stack((x,y)).T\n",
    "    n=range(20)\n",
    "    samples_kdtree(sample_coords)\n",
    "    point=np.array([5,5])\n",
    "    neighs= samples_kdtree.query_ball_point(point=3)\n",
    "\n",
    "\n",
    "    dist,neighs=samples_kdtree.query(point,k=5)\n",
    "\n",
    "\n",
    "    return"
   ]
  },
  {
   "cell_type": "code",
   "execution_count": 755,
   "metadata": {},
   "outputs": [],
   "source": []
  },
  {
   "cell_type": "code",
   "execution_count": 758,
   "metadata": {},
   "outputs": [
    {
     "data": {
      "text/plain": [
       "pandas.core.series.Series"
      ]
     },
     "execution_count": 758,
     "metadata": {},
     "output_type": "execute_result"
    }
   ],
   "source": []
  },
  {
   "cell_type": "code",
   "execution_count": 759,
   "metadata": {},
   "outputs": [],
   "source": [
    "from scipy import stats\n"
   ]
  },
  {
   "cell_type": "code",
   "execution_count": 785,
   "metadata": {},
   "outputs": [],
   "source": [
    "walker_iso=walker.dropna()"
   ]
  },
  {
   "cell_type": "code",
   "execution_count": 805,
   "metadata": {},
   "outputs": [],
   "source": [
    "s,i,r,p , std=stats.linregress(walker_iso.V,walker_iso.U)"
   ]
  },
  {
   "cell_type": "code",
   "execution_count": 806,
   "metadata": {},
   "outputs": [],
   "source": [
    "def y_reg(slope,intercept,x):\n",
    "    y=slope*x+intercept\n",
    "    return y\n"
   ]
  },
  {
   "cell_type": "code",
   "execution_count": 818,
   "metadata": {},
   "outputs": [
    {
     "data": {
      "image/png": "[encoded data removed]",
      "text/plain": [
       "<Figure size 432x288 with 1 Axes>"
      ]
     },
     "metadata": {
      "needs_background": "light"
     },
     "output_type": "display_data"
    }
   ],
   "source": [
    "plt.plot([0,walker.V.max()],[0,walker.V.max()],'--',label='x=y line',color='black')\n",
    "plt.scatter(walker_iso.V,walker_iso.U, label = 'scatter')\n",
    "plt.plot(np.linspace(0,walker.V.max(),1000),\n",
    "         y_reg(s,i,np.linspace(0,walker.U.max(),1000)),\n",
    "               color='y',\n",
    "               label='U={}*V{}'.format(round(s,2),round(i,2)))\n",
    "plt.legend()\n",
    "plt.xlabel('V')\n",
    "plt.ylabel('U')\n",
    "plt.xlim(left=0)\n",
    "plt.ylim(bottom=0)\n",
    "plt.title('Regression UxV')\n",
    "plt.grid()\n",
    "plt.show()"
   ]
  },
  {
   "cell_type": "code",
   "execution_count": 819,
   "metadata": {},
   "outputs": [],
   "source": [
    "from sklearn import preprocessing"
   ]
  },
  {
   "cell_type": "code",
   "execution_count": 820,
   "metadata": {},
   "outputs": [],
   "source": [
    "JURA=pd.read_csv ('C:/Users/lpm/Documents/GitHub/curso/curso_python-master/Notebooks/data/jura.csv',na_values=-999)"
   ]
  },
  {
   "cell_type": "code",
   "execution_count": 821,
   "metadata": {},
   "outputs": [
    {
     "data": {
      "text/plain": [
       "<bound method NDFrame.head of       Xloc   Yloc  Landuse  Rock     Cd     Co     Cr     Cu     Ni     Pb  \\\n",
       "0    238.6  307.7        3     3  1.740   9.32  38.32  25.72  21.32  77.36   \n",
       "1    254.4  197.2        2     2  1.335  10.00  40.20  24.76  29.72  77.88   \n",
       "2    280.7  334.7        2     3  1.610  10.60  47.00   8.88  21.40  30.80   \n",
       "3    430.8  193.3        3     2  2.150  11.92  43.52  22.70  29.72  56.40   \n",
       "4    438.3  108.1        3     5  1.565  16.32  38.52  34.32  26.20  66.40   \n",
       "..     ...    ...      ...   ...    ...    ...    ...    ...    ...    ...   \n",
       "254  428.3  327.8        3     2  0.844  13.88  37.12  21.04  26.48  34.68   \n",
       "255  353.0  499.9        1     1  0.490   7.44  34.52   4.64  16.76  31.64   \n",
       "256  407.0  415.7        3     3  1.916  14.36  47.60  45.60  28.44  50.00   \n",
       "257  461.0  331.5        1     2  1.384  12.68  30.76   7.48  20.72  48.00   \n",
       "258  360.5  534.5        3     3  0.849   9.04  29.48  18.40  17.56  35.00   \n",
       "\n",
       "        Zn  \n",
       "0    92.56  \n",
       "1    73.56  \n",
       "2    64.80  \n",
       "3    90.00  \n",
       "4    88.40  \n",
       "..     ...  \n",
       "254  90.00  \n",
       "255  56.80  \n",
       "256  90.80  \n",
       "257  46.80  \n",
       "258  58.00  \n",
       "\n",
       "[259 rows x 11 columns]>"
      ]
     },
     "execution_count": 821,
     "metadata": {},
     "output_type": "execute_result"
    }
   ],
   "source": [
    "JURA.head"
   ]
  },
  {
   "cell_type": "code",
   "execution_count": 832,
   "metadata": {},
   "outputs": [],
   "source": [
    "X=JURA[['Rock','Cd','Co','Cr','Cu']]"
   ]
  },
  {
   "cell_type": "code",
   "execution_count": 833,
   "metadata": {},
   "outputs": [],
   "source": [
    "scaler = preprocessing.StandardScaler()"
   ]
  },
  {
   "cell_type": "code",
   "execution_count": 834,
   "metadata": {},
   "outputs": [
    {
     "data": {
      "text/plain": [
       "StandardScaler(copy=True, with_mean=True, with_std=True)"
      ]
     },
     "execution_count": 834,
     "metadata": {},
     "output_type": "execute_result"
    }
   ],
   "source": [
    "scaler.fit(X)"
   ]
  },
  {
   "cell_type": "code",
   "execution_count": 835,
   "metadata": {},
   "outputs": [],
   "source": [
    "X_t=scaler.transform(X)"
   ]
  },
  {
   "cell_type": "code",
   "execution_count": 836,
   "metadata": {},
   "outputs": [],
   "source": [
    "Rt=JURA.Rock.values.reshape(-1,1)"
   ]
  },
  {
   "cell_type": "code",
   "execution_count": null,
   "metadata": {},
   "outputs": [],
   "source": [
    "one"
   ]
  },
  {
   "cell_type": "code",
   "execution_count": null,
   "metadata": {},
   "outputs": [],
   "source": []
  },
  {
   "cell_type": "code",
   "execution_count": null,
   "metadata": {},
   "outputs": [],
   "source": []
  },
  {
   "cell_type": "code",
   "execution_count": 837,
   "metadata": {},
   "outputs": [],
   "source": [
    "from sklearn import decomposition"
   ]
  },
  {
   "cell_type": "code",
   "execution_count": 839,
   "metadata": {},
   "outputs": [],
   "source": [
    "pca = decomposition.PCA()"
   ]
  },
  {
   "cell_type": "code",
   "execution_count": 843,
   "metadata": {},
   "outputs": [
    {
     "data": {
      "text/plain": [
       "PCA(copy=True, iterated_power='auto', n_components=None, random_state=None,\n",
       "    svd_solver='auto', tol=0.0, whiten=False)"
      ]
     },
     "execution_count": 843,
     "metadata": {},
     "output_type": "execute_result"
    }
   ],
   "source": [
    "pca.fit(X)"
   ]
  },
  {
   "cell_type": "code",
   "execution_count": 845,
   "metadata": {},
   "outputs": [
    {
     "name": "stdout",
     "output_type": "stream",
     "text": [
      "[335.82168187 172.56399182  50.29685253  21.40471723  11.49630801]\n"
     ]
    }
   ],
   "source": [
    "print(pca.singular_values_)"
   ]
  },
  {
   "cell_type": "code",
   "execution_count": 846,
   "metadata": {},
   "outputs": [
    {
     "name": "stdout",
     "output_type": "stream",
     "text": [
      "[0.77416499 0.20441672 0.01736592 0.0031451  0.00090726]\n"
     ]
    }
   ],
   "source": [
    "print(pca.explained_variance_ratio_)"
   ]
  },
  {
   "cell_type": "code",
   "execution_count": 847,
   "metadata": {},
   "outputs": [],
   "source": [
    "from sklearn import cluster"
   ]
  },
  {
   "cell_type": "code",
   "execution_count": 850,
   "metadata": {},
   "outputs": [],
   "source": [
    "kmeans = cluster.KMeans(4)\n"
   ]
  },
  {
   "cell_type": "code",
   "execution_count": 851,
   "metadata": {},
   "outputs": [
    {
     "data": {
      "text/plain": [
       "KMeans(algorithm='auto', copy_x=True, init='k-means++', max_iter=300,\n",
       "       n_clusters=4, n_init=10, n_jobs=None, precompute_distances='auto',\n",
       "       random_state=None, tol=0.0001, verbose=0)"
      ]
     },
     "execution_count": 851,
     "metadata": {},
     "output_type": "execute_result"
    }
   ],
   "source": [
    "kmeans.fit(X)"
   ]
  },
  {
   "cell_type": "code",
   "execution_count": 854,
   "metadata": {},
   "outputs": [
    {
     "ename": "NameError",
     "evalue": "name 'labels' is not defined",
     "output_type": "error",
     "traceback": [
      "\u001b[1;31m---------------------------------------------------------------------------\u001b[0m",
      "\u001b[1;31mNameError\u001b[0m                                 Traceback (most recent call last)",
      "\u001b[1;32m<ipython-input-854-433a21948cd8>\u001b[0m in \u001b[0;36m<module>\u001b[1;34m\u001b[0m\n\u001b[1;32m----> 1\u001b[1;33m \u001b[0mplt\u001b[0m\u001b[1;33m.\u001b[0m\u001b[0mscatter\u001b[0m\u001b[1;33m(\u001b[0m\u001b[0mjura\u001b[0m\u001b[1;33m[\u001b[0m\u001b[1;34m'Xloc'\u001b[0m\u001b[1;33m]\u001b[0m\u001b[1;33m,\u001b[0m\u001b[0mjura\u001b[0m\u001b[1;33m[\u001b[0m\u001b[1;34m'Yloc'\u001b[0m\u001b[1;33m]\u001b[0m\u001b[1;33m,\u001b[0m\u001b[0mc\u001b[0m\u001b[1;33m=\u001b[0m\u001b[0mlabels\u001b[0m\u001b[1;33m,\u001b[0m\u001b[0mcmap\u001b[0m\u001b[1;33m=\u001b[0m\u001b[0mplt\u001b[0m\u001b[1;33m.\u001b[0m\u001b[0mcm\u001b[0m\u001b[1;33m.\u001b[0m\u001b[0mget_cmap\u001b[0m\u001b[1;33m(\u001b[0m\u001b[1;34m'Set1'\u001b[0m\u001b[1;33m,\u001b[0m\u001b[1;36m4\u001b[0m\u001b[1;33m)\u001b[0m\u001b[1;33m)\u001b[0m\u001b[1;33m\u001b[0m\u001b[1;33m\u001b[0m\u001b[0m\n\u001b[0m\u001b[0;32m      2\u001b[0m \u001b[0mplt\u001b[0m\u001b[1;33m.\u001b[0m\u001b[0maxis\u001b[0m\u001b[1;33m(\u001b[0m\u001b[1;34m'scaled'\u001b[0m\u001b[1;33m)\u001b[0m\u001b[1;33m\u001b[0m\u001b[1;33m\u001b[0m\u001b[0m\n\u001b[0;32m      3\u001b[0m \u001b[0mplt\u001b[0m\u001b[1;33m.\u001b[0m\u001b[0mcolorbar\u001b[0m\u001b[1;33m(\u001b[0m\u001b[0mticks\u001b[0m\u001b[1;33m=\u001b[0m\u001b[0mrange\u001b[0m\u001b[1;33m(\u001b[0m\u001b[1;36m6\u001b[0m\u001b[1;33m)\u001b[0m\u001b[1;33m)\u001b[0m\u001b[1;33m\u001b[0m\u001b[1;33m\u001b[0m\u001b[0m\n\u001b[0;32m      4\u001b[0m \u001b[0mplt\u001b[0m\u001b[1;33m.\u001b[0m\u001b[0mscatter\u001b[0m\u001b[1;33m(\u001b[0m\u001b[0mpoint\u001b[0m\u001b[1;33m.\u001b[0m\u001b[0mT\u001b[0m\u001b[1;33m[\u001b[0m\u001b[1;36m0\u001b[0m\u001b[1;33m]\u001b[0m\u001b[1;33m,\u001b[0m\u001b[0mpoint\u001b[0m\u001b[1;33m.\u001b[0m\u001b[0mt\u001b[0m\u001b[1;33m[\u001b[0m\u001b[1;36m1\u001b[0m\u001b[1;33m]\u001b[0m\u001b[1;33m,\u001b[0m\u001b[0mmarker\u001b[0m\u001b[1;33m=\u001b[0m\u001b[1;34m'x'\u001b[0m\u001b[1;33m)\u001b[0m\u001b[1;33m\u001b[0m\u001b[1;33m\u001b[0m\u001b[0m\n",
      "\u001b[1;31mNameError\u001b[0m: name 'labels' is not defined"
     ]
    }
   ],
   "source": [
    "plt.scatter(jura['Xloc'],jura['Yloc'],c=labels,cmap=plt.cm.get_cmap('Set1',4))\n",
    "plt.axis('scaled')\n",
    "plt.colorbar(ticks=range(6))\n",
    "plt.scatter(point.T[0],point.t[1],marker='x')"
   ]
  },
  {
   "cell_type": "code",
   "execution_count": 857,
   "metadata": {},
   "outputs": [],
   "source": [
    "indexes=np.random.randint(0,len(jura[\"Rock\"]),int(len(jura['Rock'])*0.1))\n",
    "removed_cat=jura['Rock'].values.copy()\n",
    "removed_cat[indexes]=-99\n",
    "removed_cat=np.where(removed_cat==-99,np.nan,removed_cat)\n",
    "jura['removed_cat']=removed_cat"
   ]
  },
  {
   "cell_type": "code",
   "execution_count": 861,
   "metadata": {},
   "outputs": [],
   "source": [
    "X_train=jura.dropna()[['Cd','Co','Cr','Cu','Ni','Pb','Zn']]"
   ]
  },
  {
   "cell_type": "code",
   "execution_count": 862,
   "metadata": {},
   "outputs": [],
   "source": [
    "y_train=jura.dropna()[['removed_cat']]"
   ]
  },
  {
   "cell_type": "code",
   "execution_count": 863,
   "metadata": {},
   "outputs": [],
   "source": [
    "filtro=np.isnan(jura['removed_cat'])\n",
    "X_prediction=jura[['Cd','Co','Cr','Cu','Ni','Pb','Zn']][filtro].values"
   ]
  },
  {
   "cell_type": "code",
   "execution_count": 864,
   "metadata": {},
   "outputs": [
    {
     "name": "stderr",
     "output_type": "stream",
     "text": [
      "C:\\Users\\lpm\\Anaconda3\\envs\\curso_python\\lib\\site-packages\\sklearn\\ensemble\\forest.py:245: FutureWarning: The default value of n_estimators will change from 10 in version 0.20 to 100 in 0.22.\n",
      "  \"10 in version 0.20 to 100 in 0.22.\", FutureWarning)\n",
      "C:\\Users\\lpm\\Anaconda3\\envs\\curso_python\\lib\\site-packages\\ipykernel_launcher.py:3: DataConversionWarning: A column-vector y was passed when a 1d array was expected. Please change the shape of y to (n_samples,), for example using ravel().\n",
      "  This is separate from the ipykernel package so we can avoid doing imports until\n"
     ]
    },
    {
     "data": {
      "text/plain": [
       "array([3., 1., 3., 1., 5., 5., 2., 1., 3., 2., 2., 2., 2., 1., 3., 2., 1.,\n",
       "       2., 1., 1., 5., 2., 1., 3., 3.])"
      ]
     },
     "execution_count": 864,
     "metadata": {},
     "output_type": "execute_result"
    }
   ],
   "source": [
    "from sklearn import ensemble\n",
    "rf = ensemble.RandomForestClassifier()\n",
    "rf.fit(X_train, y_train)\n",
    "rf.predict(X_prediction)"
   ]
  },
  {
   "cell_type": "code",
   "execution_count": 865,
   "metadata": {},
   "outputs": [
    {
     "data": {
      "text/plain": [
       "array([[3.8730e+00, 9.8400e+00, 4.6000e+01, 2.2240e+01, 2.1640e+01,\n",
       "        4.6000e+01, 1.4320e+02],\n",
       "       [3.5500e-01, 3.6400e+00, 1.8400e+01, 2.1560e+01, 6.6400e+00,\n",
       "        4.6800e+01, 3.9560e+01],\n",
       "       [4.1910e+00, 9.2800e+00, 5.2000e+01, 1.5480e+01, 2.1760e+01,\n",
       "        3.3360e+01, 1.4560e+02],\n",
       "       [5.7000e-01, 4.8800e+00, 2.7320e+01, 3.3800e+01, 7.4400e+00,\n",
       "        5.8400e+01, 4.7600e+01],\n",
       "       [8.9500e-01, 1.2600e+01, 4.1600e+01, 6.0720e+01, 2.4160e+01,\n",
       "        8.9680e+01, 1.0244e+02],\n",
       "       [4.0200e+00, 6.1600e+00, 6.0800e+01, 2.1080e+01, 2.1960e+01,\n",
       "        5.2000e+01, 1.0160e+02],\n",
       "       [1.9100e+00, 2.1200e+00, 3.1120e+01, 1.1600e+01, 8.0000e+00,\n",
       "        6.9160e+01, 5.0400e+01],\n",
       "       [1.0700e+00, 7.8000e+00, 3.8240e+01, 1.0880e+01, 1.9920e+01,\n",
       "        2.9880e+01, 7.0800e+01],\n",
       "       [7.9500e-01, 9.9600e+00, 2.9080e+01, 9.9200e+00, 1.5280e+01,\n",
       "        3.7480e+01, 6.5600e+01],\n",
       "       [3.9250e+00, 1.2920e+01, 2.5600e+01, 4.7400e+01, 2.6120e+01,\n",
       "        8.4160e+01, 9.2360e+01],\n",
       "       [1.3050e+00, 1.3520e+01, 4.5520e+01, 1.7500e+01, 2.7200e+01,\n",
       "        3.8960e+01, 7.7600e+01],\n",
       "       [8.4500e-01, 1.2800e+01, 3.3720e+01, 2.7920e+01, 2.6200e+01,\n",
       "        7.8800e+01, 7.9600e+01],\n",
       "       [1.9300e+00, 1.2440e+01, 4.3040e+01, 7.7320e+01, 3.3760e+01,\n",
       "        1.5728e+02, 1.6628e+02],\n",
       "       [6.0500e-01, 5.1600e+00, 2.9280e+01, 2.6240e+01, 1.1440e+01,\n",
       "        5.4000e+01, 5.4000e+01],\n",
       "       [3.6800e+00, 1.1120e+01, 5.2000e+01, 1.4440e+01, 2.8720e+01,\n",
       "        5.6400e+01, 8.9600e+01],\n",
       "       [7.3500e-01, 1.2720e+01, 3.9000e+01, 1.7680e+01, 2.3240e+01,\n",
       "        3.9200e+01, 7.9040e+01],\n",
       "       [1.9500e-01, 3.9200e+00, 2.1800e+01, 2.5120e+01, 7.5200e+00,\n",
       "        4.9600e+01, 4.3200e+01],\n",
       "       [1.2400e+00, 1.4200e+01, 4.3600e+01, 1.8320e+01, 2.2520e+01,\n",
       "        5.2000e+01, 8.3200e+01],\n",
       "       [1.3500e-01, 4.5200e+00, 1.5080e+01, 1.0440e+01, 5.2400e+00,\n",
       "        3.7000e+01, 3.2560e+01],\n",
       "       [2.3000e-01, 3.7920e+00, 1.8200e+01, 8.7200e+00, 5.6800e+00,\n",
       "        2.6840e+01, 3.2080e+01],\n",
       "       [4.2500e-01, 5.0800e+00, 2.2720e+01, 4.6800e+00, 8.0000e+00,\n",
       "        2.2560e+01, 3.1480e+01],\n",
       "       [8.6000e-01, 1.2120e+01, 2.8400e+01, 1.2700e+01, 2.0120e+01,\n",
       "        3.7080e+01, 6.1600e+01],\n",
       "       [6.3000e-01, 3.6680e+00, 2.3960e+01, 7.2400e+00, 9.3600e+00,\n",
       "        2.6000e+01, 3.6640e+01],\n",
       "       [8.6000e-01, 9.7600e+00, 2.8400e+01, 1.2800e+01, 1.7480e+01,\n",
       "        2.8600e+01, 5.8800e+01],\n",
       "       [4.9000e-01, 7.4400e+00, 3.4520e+01, 4.6400e+00, 1.6760e+01,\n",
       "        3.1640e+01, 5.6800e+01]])"
      ]
     },
     "execution_count": 865,
     "metadata": {},
     "output_type": "execute_result"
    }
   ],
   "source": [
    "X_prediction"
   ]
  },
  {
   "cell_type": "code",
   "execution_count": 871,
   "metadata": {},
   "outputs": [
    {
     "ename": "SyntaxError",
     "evalue": "invalid syntax (<ipython-input-871-576e93842f24>, line 6)",
     "output_type": "error",
     "traceback": [
      "\u001b[1;36m  File \u001b[1;32m\"<ipython-input-871-576e93842f24>\"\u001b[1;36m, line \u001b[1;32m6\u001b[0m\n\u001b[1;33m    for idx==1\u001b[0m\n\u001b[1;37m            ^\u001b[0m\n\u001b[1;31mSyntaxError\u001b[0m\u001b[1;31m:\u001b[0m invalid syntax\n"
     ]
    }
   ],
   "source": [
    "def df_from_geoas(file):\n",
    "    f = open(file)\n",
    "    n=0\n",
    "    columns=[]\n",
    "    data=[]\n",
    "    for idx==1:\n",
    "        n=int(line)\n",
    "        if idx>1and idx<=(n+1):\n",
    "            line = line.rstrip()\n",
    "            columns.append(line)\n",
    "            if idx> (n+1):\n",
    "                arr = np.array(line.split()).astype(float)\n",
    "                data.append(arr)\n",
    "                \n",
    "        df= pd.DataFrame(data=np.array(data),columns=colunms)\n",
    "        return df"
   ]
  },
  {
   "cell_type": "code",
   "execution_count": null,
   "metadata": {},
   "outputs": [],
   "source": [
    "df=geoas(arquivo dat)"
   ]
  },
  {
   "cell_type": "code",
   "execution_count": 872,
   "metadata": {},
   "outputs": [],
   "source": [
    "program='C:/Users/lpm/Documents/GitHub/curso/curso_python-master/Notebooks/kt3d/kt3d.exe'"
   ]
  },
  {
   "cell_type": "code",
   "execution_count": 873,
   "metadata": {},
   "outputs": [],
   "source": [
    "parfile='C:/Users/lpm/Documents/GitHub/curso/curso_python-master/Notebooks/kt3d/kt3d.par'"
   ]
  },
  {
   "cell_type": "code",
   "execution_count": 875,
   "metadata": {},
   "outputs": [
    {
     "name": "stdout",
     "output_type": "stream",
     "text": [
      "\r\n",
      " KT3D Version: 3.000\r\n",
      "\r\n",
      "  data file = ../data/cluster.dat                     \r\n",
      "  columns =            0           1           2           0           3\r\n",
      "           0\r\n",
      "  trimming limits =  -1.0000000E+21  1.0000000E+21\r\n",
      "  kriging option =            0\r\n",
      "  jackknife data file = xvk.dat                                 \r\n",
      "  columns =            1           2           0           3           0\r\n",
      "  debugging level =            3\r\n",
      "  debugging file = kt3d.dbg                                \r\n",
      "  output file = kt3d.out                                \r\n",
      "  nx, xmn, xsiz =           50  0.5000000       1.000000    \r\n",
      "  ny, ymn, ysiz =           50  0.5000000       1.000000    \r\n",
      "  nz, zmn, zsiz =            1  0.5000000       1.000000    \r\n",
      "  block discretization:           1           1           1\r\n",
      "  ndmin,ndmax =            4           8\r\n",
      "  max per octant =            0\r\n",
      "  search radii =    20.00000       20.00000       20.00000    \r\n",
      "  search anisotropy angles =   0.0000000E+00  0.0000000E+00  0.0000000E+00\r\n",
      "  ktype, skmean =           0   2.302000    \r\n",
      "  drift terms =            0           0           0           0           0\r\n",
      "           0           0           0           0\r\n",
      "  itrend =            0\r\n",
      "  external drift file = extdrift.dat                            \r\n",
      "  variable in external drift file =            4\r\n",
      "  nst, c0 =            1  0.2000000    \r\n",
      "  it,cc,ang[1,2,3];            1  0.8000000      0.0000000E+00  0.0000000E+00\r\n",
      "  0.0000000E+00\r\n",
      "  a1 a2 a3:    10.00000       10.00000       10.00000    \r\n",
      " ERROR data file \r\n",
      " ../data/cluster.dat                                                            \r\n",
      "                                                                                \r\n",
      "                                                                                \r\n",
      "                                                                                \r\n",
      "                                                                                \r\n",
      "                                                                                \r\n",
      "                                        does not exist!\r\n"
     ]
    }
   ],
   "source": [
    "import subprocess\n",
    "p = subprocess.Popen([program, parfile], stdout=subprocess.PIPE)\n",
    "for line in p.stdout:    \n",
    "    print(line.decode('utf-8'), end='')\n"
   ]
  },
  {
   "cell_type": "code",
   "execution_count": null,
   "metadata": {},
   "outputs": [],
   "source": []
  }
 ],
 "metadata": {
  "kernelspec": {
   "display_name": "Python 3",
   "language": "python",
   "name": "python3"
  },
  "language_info": {
   "codemirror_mode": {
    "name": "ipython",
    "version": 3
   },
   "file_extension": ".py",
   "mimetype": "text/x-python",
   "name": "python",
   "nbconvert_exporter": "python",
   "pygments_lexer": "ipython3",
   "version": "3.7.5"
  }
 },
 "nbformat": 4,
 "nbformat_minor": 2
}
